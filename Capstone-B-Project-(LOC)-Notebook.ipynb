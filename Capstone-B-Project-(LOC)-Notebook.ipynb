{
 "cells": [
  {
   "cell_type": "markdown",
   "metadata": {},
   "source": [
    "# Project: Capstone on EMR ( Spark & Co. @ AWS )\n",
    "### Data Engineering Capstone Project\n",
    "\n",
    "\n",
    "#### Project Summary\n",
    "Running own Capstone project with public data based on \"Inside Airbnb\", in specific with the data of Mexico City. \n",
    "(See chapter \"Describe and Gather Data\" for more details).\n",
    "\n",
    "The intention of this project is to provide to an analytics team access to the data model that allows easily to query and extract insights. It means at the end, have combined tables as a efficient and fast source for a 'Self Service Report'-Dashboard to be done with Microsoft Power BI (my daily work) or maybe featured on [AWS QuickSight](https://aws.amazon.com/de/quicksight/). \n",
    "\n",
    "**Tipp:** Microsoft is bringing in Mai '23 a library which does allow to compell [Microsoft Power BI reports DIRECTLY at the Jupyter Notebook](https://powerbi.microsoft.com/en-us/blog/create-power-bi-reports-in-jupyter-notebooks/s) (_Whou!, absolutely a game changer_).\n",
    "\n",
    "_(more at the @ README.md at GitHub repo)_  \n",
    "\n",
    "\n",
    "#### Overview and Steps\n",
    "The project follows the follow steps:\n",
    "* Step 1: Scope the Project and Gather Data\n",
    "* Step 2: Explore and Assess the Data\n",
    "* Step 3: Define the Data Model\n",
    "* Step 4: Run ETL to Model the Data\n",
    "* Step 5: Complete Project Write Up\n",
    "\n",
    "> <font color=\"red\">Clear fields at [</font>aws-access.cfg<font color=\"red\">] before submitting project for review!  \n",
    ">     KEY = 'YOUR_AWS_KEY'  \n",
    ">     SECRET='YOUR_AWS_SECRET'</font>"
   ]
  },
  {
   "cell_type": "markdown",
   "metadata": {},
   "source": [
    "Version 1 **(LOC = Udacity Workspace)** - Revision 06 - 2023/04/28 - Mr Morphy - GitHub Profile (https://github.com/MrMorphy)  \n",
    "GitHub Project - udacity-course-proj-final-capstone (https://github.com/mrmorphy/udacita-course-proj-final-capstone)"
   ]
  },
  {
   "cell_type": "markdown",
   "metadata": {},
   "source": [
    "### Step 0: Create Base Config\n",
    "* IAM-Role from AWS at (aws-access.cfg) workspace file required. \n",
    "\n",
    "Load following libraries to execute code"
   ]
  },
  {
   "cell_type": "code",
   "execution_count": 1,
   "metadata": {},
   "outputs": [
    {
     "name": "stdout",
     "output_type": "stream",
     "text": [
      "Python 3.6.3\r\n"
     ]
    }
   ],
   "source": [
    "!python --version"
   ]
  },
  {
   "cell_type": "code",
   "execution_count": 2,
   "metadata": {},
   "outputs": [],
   "source": [
    "# Do all imports and installs here\n",
    "# required for reading out config-file [*.cfg]\n",
    "import configparser\n",
    "from datetime import datetime\n",
    "# required for setting environment variables, like IAM-Authentification\n",
    "import os\n",
    "\n",
    "from pyspark.sql.functions import udf, col   #, monotonically_increasing_id\n",
    "from pyspark.sql.functions import year, month, dayofmonth, hour, weekofyear, date_format\n",
    "\n",
    "from pyspark.sql.types import StructType  as R,   StructField as Fld, \\\n",
    "                              DoubleType  as Dbl, StringType  as Str, \\\n",
    "                              IntegerType as Int, DateType    as Date, \\\n",
    "                              BooleanType as Bol, DecimalType as Dec, \\\n",
    "                              FloatType   as Flt, TimestampType as TS, \\\n",
    "                              LongType    as Lng\n",
    "\n",
    "import pandas as pd"
   ]
  },
  {
   "cell_type": "code",
   "execution_count": 3,
   "metadata": {},
   "outputs": [],
   "source": [
    "# DEBUG\n",
    "# os.environ # show all environment settings at background"
   ]
  },
  {
   "cell_type": "code",
   "execution_count": 3,
   "metadata": {},
   "outputs": [],
   "source": [
    "# Using S3 Bucket from AWS, following settings required (?)\n",
    "# https://knowledge.udacity.com/questions/946931\n",
    "# \n",
    "# On Errormessage ... while trying to write parquet() files to S3\n",
    "# \n",
    "#   Py4JJavaError: An error occurred while calling o1220.parquet.\n",
    "#    : java.lang.NoClassDefFoundError: org/apache/hadoop/fs/StorageStatistics\n",
    "# \n",
    "\n",
    "os.environ[\"JAVA_HOME\"]   = \"/usr/lib/jvm/java-8-openjdk-amd64\"\n",
    "os.environ[\"PATH\"]        = \"/opt/conda/bin:/opt/spark-2.4.3-bin-hadoop2.7/bin:\" \\\n",
    "                            \"/opt/conda/bin:/usr/local/sbin:/usr/local/bin:\" \\\n",
    "                            \"/usr/sbin:/usr/bin:/sbin:/bin:/usr/lib/jvm/java-8-openjdk-amd64/bin\"\n",
    "\n",
    "os.environ[\"SPARK_HOME\"]  = \"/opt/spark-2.4.3-bin-hadoop2.7\"\n",
    "os.environ[\"HADOOP_HOME\"] = \"/opt/spark-2.4.3-bin-hadoop2.7\""
   ]
  },
  {
   "cell_type": "code",
   "execution_count": 4,
   "metadata": {},
   "outputs": [],
   "source": [
    "# Optional\n",
    "import numpy as np\n",
    "\n",
    "# Pyplot - Bar Graph, Line Graph, Others\n",
    "#import matplotlib.pyplot as plt"
   ]
  },
  {
   "cell_type": "markdown",
   "metadata": {},
   "source": [
    "The credentials to access the AWS Services will be readout from the config file.  \n",
    "This access rights are required to access the S3 Bucket as a \"Data Lake\" (see IAM Role with AmazonS3FullAccess).  \n",
    "\n",
    "Then the Spark Builder will be initiated and verify that the Spark job is running.   \n",
    "\n",
    "> **Optional:**   \n",
    "> It could be additional calculating power to the Spark Build requested, since these files are relatively heavy (~4 Mio rows) to upload and download them into the S3 Bucket.  \n",
    ">         `.config(\"spark.executor.instances\", 10) \\`  \n",
    ">         `.config(\"spark.executor.memory\", \"8g\") \\`  \n"
   ]
  },
  {
   "cell_type": "code",
   "execution_count": 5,
   "metadata": {},
   "outputs": [
    {
     "name": "stdout",
     "output_type": "stream",
     "text": [
      ">> Read Out Config-Infos from [aws-access.cfg]\n"
     ]
    }
   ],
   "source": [
    "# Access to AWS\n",
    "\n",
    "config = configparser.ConfigParser()\n",
    "config.read('aws-access.cfg')\n",
    "print(\">> Read Out Config-Infos from [aws-access.cfg]\")\n",
    "\n",
    "os.environ['AWS_ACCESS_KEY_ID']     = config['AWS']['AWS_ACCESS_KEY_ID']\n",
    "os.environ['AWS_SECRET_ACCESS_KEY'] = config['AWS']['AWS_SECRET_ACCESS_KEY']\n",
    "\n",
    "# AWS_ACCESS_KEY_ID     = os.environ['AWS_ACCESS_KEY_ID']\n",
    "# AWS_SECRET_ACCESS_KEY = os.environ['AWS_SECRET_ACCESS_KEY']\n",
    "\n",
    "AWS_ACCESS_KEY_ID     = config['AWS']['AWS_ACCESS_KEY_ID']\n",
    "AWS_SECRET_ACCESS_KEY = config['AWS']['AWS_SECRET_ACCESS_KEY']\n"
   ]
  },
  {
   "cell_type": "code",
   "execution_count": 6,
   "metadata": {},
   "outputs": [
    {
     "name": "stdout",
     "output_type": "stream",
     "text": [
      ">> Spark session WITH Context created\n"
     ]
    }
   ],
   "source": [
    "# TIPP - code to resolve missing write access to S3:\n",
    "#    https://knowledge.udacity.com/questions/825459\n",
    "\n",
    "# Starting SparkSession\n",
    "from pyspark.sql import SparkSession\n",
    "\n",
    "AWS_ACCESS_KEY_ID     = config['AWS']['AWS_ACCESS_KEY_ID']\n",
    "AWS_SECRET_ACCESS_KEY = config['AWS']['AWS_SECRET_ACCESS_KEY']\n",
    "\n",
    "spark = SparkSession.builder \\\n",
    "                    .config(\"spark.jars.packages\", \"org.apache.hadoop:hadoop-aws:2.7.0\") \\\n",
    "                    .config(\"spark.executor.instances\", 10) \\\n",
    "                    .config(\"spark.executor.memory\", \"8g\") \\\n",
    "                    .enableHiveSupport() \\\n",
    "                    .getOrCreate()\n",
    "\n",
    "sc    = spark.sparkContext\n",
    "sc._jsc.hadoopConfiguration().set(\"fs.s3a.access.key\", AWS_ACCESS_KEY_ID)\n",
    "sc._jsc.hadoopConfiguration().set(\"fs.s3a.secret.key\", AWS_SECRET_ACCESS_KEY)\n",
    "\n",
    "\n",
    "#return Spark\n",
    "\n",
    "# @ EMR (AWS): \"emr.5.20.0\" > \"hadoop 2.7.0\"\n",
    "# @ EMR (AWS): \"emr-5.31.0\" > \"hadoop 2.10.0\"\n",
    "\n",
    "print(\">> Spark session WITH Context created\")"
   ]
  },
  {
   "cell_type": "code",
   "execution_count": 7,
   "metadata": {},
   "outputs": [
    {
     "name": "stdout",
     "output_type": "stream",
     "text": [
      ">> Spark information details\n"
     ]
    },
    {
     "data": {
      "text/html": [
       "\n",
       "            <div>\n",
       "                <p><b>SparkSession - hive</b></p>\n",
       "                \n",
       "        <div>\n",
       "            <p><b>SparkContext</b></p>\n",
       "\n",
       "            <p><a href=\"http://81a914d6eed58a0c15550c907a7c7667c6104534-7c77dfcf58-prr4v:4040\">Spark UI</a></p>\n",
       "\n",
       "            <dl>\n",
       "              <dt>Version</dt>\n",
       "                <dd><code>v2.4.3</code></dd>\n",
       "              <dt>Master</dt>\n",
       "                <dd><code>local[*]</code></dd>\n",
       "              <dt>AppName</dt>\n",
       "                <dd><code>pyspark-shell</code></dd>\n",
       "            </dl>\n",
       "        </div>\n",
       "        \n",
       "            </div>\n",
       "        "
      ],
      "text/plain": [
       "<pyspark.sql.session.SparkSession at 0x7fcdeb082a20>"
      ]
     },
     "execution_count": 7,
     "metadata": {},
     "output_type": "execute_result"
    }
   ],
   "source": [
    "print(\">> Spark information details\")\n",
    "spark"
   ]
  },
  {
   "cell_type": "markdown",
   "metadata": {},
   "source": [
    "### Step 1: Scope the Project and Gather Data\n",
    "\n",
    "#### Scope \n",
    "At the end of the project there should have a analytics group access to the final database. The steps will be to download the requiered CSV and compress files, process them with python and Spark. Results upload to a S3 Bucket in Parquet format. This Parquet files can be queried like tables, reading while in S3, making easy to perform different type of analysis. \n",
    "\n",
    "Which kind of analysis? This could be: \n",
    "1. Time Series based Analysis: Examine trends and patterns based on time.\n",
    "2. Calculations: Throug SQL Queries compute sums, counts, and so on.   \n",
    "\n",
    "\n",
    "Summary\n",
    "* For project plan see README.md on GitHub repo.\n",
    "* Endsolution: Dimension and Fact table for _\"Self Service Dashboard\"_ (Microsoft Power BI or AWS QuickSight).\n",
    "* Selected Tools: Spark (EMR on EC2 at AWS) and S3 Bucket.\n",
    "\n",
    "#### Describe and Gather Data \n",
    "Public data is coming from \"Inside Airbnb\". The data contains informations about properties of Airbnb, the Area (Neighbourhoods) as well reviews left by visitors. My interest is based on the data of Mexico City. _(Amazing!)_   \n",
    "All the files required are downloadable from [https://insideairbnb.com/get-the-data/](https://insideairbnb.com/get-the-data/). \n",
    "\n",
    "\n",
    "| FILENAME | SHORT DESCRIPTION |\n",
    "| ----- | ----- |\n",
    "| calendar.csv.gz | Detailed Calendar Data |\n",
    "| listings.csv | Summary information and metrics for listings in Mexico City (good for visualisations) |\n",
    "| listings.csv.gz | Detailed Listings Data |\n",
    "| neighbourhoods.csv | Neighbourhood list for geo filter. Sourced from city or open source GIS files. |\n",
    "| reviews.csv | Summary Review data and Listing ID (to facilitate time based analytics and visualitaion linekd to a listing) |\n",
    "| reviews.csv.gz | Detailed Review Data |   \n",
    "\n",
    "\n",
    "**Hint:** _The compressed files_ `(*.gz)` _could be uploaded directly into workspace.  \n",
    "On the exploration Jupyter Notebook there are a set of comands to uncompress the files directly on the (Udacity) Jupyter Workspace._  \n",
    "It is not fully necessary to uncompress the files. Pandas can through `.read_csv()` read compressed files. But as we need to work with Spark, then the CSV files are required."
   ]
  },
  {
   "cell_type": "code",
   "execution_count": 9,
   "metadata": {},
   "outputs": [
    {
     "name": "stdout",
     "output_type": "stream",
     "text": [
      ">> List of all compressed files (*.gz)\n",
      "/workspace/home\n",
      "-rw-r--r-- 1 root root 26455179 Apr 25 22:56 calendar.csv.gz\n",
      "-rw-r--r-- 1 root root 15445405 Apr 25 22:55 listings.csv.gz\n",
      "-rw-r--r-- 1 root root 86708818 Apr 25 22:52 reviews.csv.gz\n"
     ]
    }
   ],
   "source": [
    "print(\">> List of all compressed files (*.gz)\")\n",
    "!pwd\n",
    "!ls -all *.gz"
   ]
  },
  {
   "cell_type": "code",
   "execution_count": 8,
   "metadata": {},
   "outputs": [],
   "source": [
    "# Read in the data here\n",
    "# Local data (Udacity Workspace)\n",
    "input_data      = \"./\"             # \"data_airbnb/\"\n",
    "output_data     = \"data_output/\"\n",
    "\n",
    "\n",
    "# CSV's / GZ filesname: Read in the data here\n",
    "nhoods_csv_fn   = \"neighbourhoods.csv\"\n",
    "list_csv_fn     = \"listings.csv\"\n",
    "list_det_csv_fn = \"listings_detailed.csv\"  # < listings.csv.gz\n",
    "calendar_csv_fn = \"calendar.csv\"           # < calendar.csv.gz\n",
    "rev_det_csv_fn  = \"reviews_detailed.csv\"   # < reviews.csv.gz\n",
    "\n",
    "hoods_csv       = input_data + nhoods_csv_fn\n",
    "list_csv        = input_data + list_csv_fn\n",
    "list_det_csv    = input_data + list_det_csv_fn\n",
    "calendar_csv    = input_data + calendar_csv_fn\n",
    "rev_det_csv     = input_data + rev_det_csv_fn\n",
    "\n",
    "\n",
    "# Pandas (pd) (\"_df\") for data exploration (Details see separated Jupyter Notebook)\n",
    "hoods_df        = pd.read_csv(hoods_csv)\n",
    "list_df         = pd.read_csv(list_csv)\n",
    "list_det_df     = pd.read_csv(list_det_csv)\n",
    "calendar_df     = pd.read_csv(calendar_csv)\n",
    "reviews_df      = pd.read_csv(rev_det_csv)\n"
   ]
  },
  {
   "cell_type": "code",
   "execution_count": 11,
   "metadata": {},
   "outputs": [
    {
     "name": "stdout",
     "output_type": "stream",
     "text": [
      ">> List of all CSV files (*.csv)\n",
      "-rw-r--r-- 1 root root 462719658 Apr 26 00:27 calendar.csv\n",
      "-rw-r--r-- 1 root root   3747993 Apr 26 01:50 listings.csv\n",
      "-rw-r--r-- 1 root root  60742007 Apr 26 00:23 listings_detailed.csv\n",
      "-rw-r--r-- 1 root root       275 Apr 24 23:03 neighbourhoods.csv\n",
      "-rw-r--r-- 1 root root  18548579 Apr 25 22:17 reviews.csv\n",
      "-rw-r--r-- 1 root root 226117945 Apr 26 00:35 reviews_detailed.csv\n"
     ]
    }
   ],
   "source": [
    "print(\">> List of all CSV files (*.csv)\")\n",
    "!ls -all *.csv"
   ]
  },
  {
   "cell_type": "markdown",
   "metadata": {},
   "source": [
    "After some \"experiments\", decided to assign csv's to Pandas dataframes to explore it and display the data in a nice format (i.e `data_df.limit(5).toPandas()`"
   ]
  },
  {
   "cell_type": "markdown",
   "metadata": {},
   "source": [
    "### Step 2: Explore and Assess the Data\n",
    "#### Explore the Data \n",
    "Identify data quality issues, like missing values, duplicate data, etc.  \n",
    "_**This happens partwise on the \"Exploring\" Jupyter Notebook.**_\n",
    "\n",
    "#### Cleaning Steps\n",
    "Typically other Tools does alredy give hints about quality of data, like how good columns are filled, if there are errors on the columns based on the assigned data type.   \n",
    "Applying this knowledge on python is really thrughly different. But here we go.  \n",
    "\n",
    "* Data Type and Content: Visualize the data in Pandas dataframe to assess quality looking into it. \n",
    "* NULL and NaN values: Check for \"Null\" values, possibly delete Nulls or replace them with '' (empty) or 0 value depending of the column type!\n",
    "* Duplicates: Drop duplicates to handle with unique identifiers, delete rows if necessary."
   ]
  },
  {
   "cell_type": "code",
   "execution_count": 12,
   "metadata": {},
   "outputs": [
    {
     "name": "stdout",
     "output_type": "stream",
     "text": [
      ">> [neighbourhood_group     0\n",
      "neighbourhood          16\n",
      "dtype: int64] rows read out from CSV file\n",
      "\n",
      ">> Overview NEIGHBOURHOODS df...\n"
     ]
    },
    {
     "data": {
      "text/html": [
       "<div>\n",
       "<style scoped>\n",
       "    .dataframe tbody tr th:only-of-type {\n",
       "        vertical-align: middle;\n",
       "    }\n",
       "\n",
       "    .dataframe tbody tr th {\n",
       "        vertical-align: top;\n",
       "    }\n",
       "\n",
       "    .dataframe thead th {\n",
       "        text-align: right;\n",
       "    }\n",
       "</style>\n",
       "<table border=\"1\" class=\"dataframe\">\n",
       "  <thead>\n",
       "    <tr style=\"text-align: right;\">\n",
       "      <th></th>\n",
       "      <th>neighbourhood_group</th>\n",
       "      <th>neighbourhood</th>\n",
       "    </tr>\n",
       "  </thead>\n",
       "  <tbody>\n",
       "    <tr>\n",
       "      <th>0</th>\n",
       "      <td>NaN</td>\n",
       "      <td>Álvaro Obregón</td>\n",
       "    </tr>\n",
       "    <tr>\n",
       "      <th>1</th>\n",
       "      <td>NaN</td>\n",
       "      <td>Azcapotzalco</td>\n",
       "    </tr>\n",
       "  </tbody>\n",
       "</table>\n",
       "</div>"
      ],
      "text/plain": [
       "   neighbourhood_group   neighbourhood\n",
       "0                  NaN  Álvaro Obregón\n",
       "1                  NaN    Azcapotzalco"
      ]
     },
     "execution_count": 12,
     "metadata": {},
     "output_type": "execute_result"
    }
   ],
   "source": [
    "print(\">> [\" + str(hoods_df.count()) + \"] rows read out from CSV file\")\n",
    "\n",
    "print(\"\\n>> Overview NEIGHBOURHOODS df...\")\n",
    "hoods_df.head(2)"
   ]
  },
  {
   "cell_type": "code",
   "execution_count": 13,
   "metadata": {},
   "outputs": [
    {
     "name": "stdout",
     "output_type": "stream",
     "text": [
      ">> [id                                24224\n",
      "name                              24223\n",
      "host_id                           24224\n",
      "host_name                         24224\n",
      "neighbourhood_group                   0\n",
      "neighbourhood                     24224\n",
      "latitude                          24224\n",
      "longitude                         24224\n",
      "room_type                         24224\n",
      "price                             24224\n",
      "minimum_nights                    24224\n",
      "number_of_reviews                 24224\n",
      "last_review                       20628\n",
      "reviews_per_month                 20628\n",
      "calculated_host_listings_count    24224\n",
      "availability_365                  24224\n",
      "number_of_reviews_ltm             24224\n",
      "license                               0\n",
      "dtype: int64] rows read out from CSV file\n",
      "\n",
      ">> Overview LISTING (summary) df ...\n"
     ]
    },
    {
     "data": {
      "text/html": [
       "<div>\n",
       "<style scoped>\n",
       "    .dataframe tbody tr th:only-of-type {\n",
       "        vertical-align: middle;\n",
       "    }\n",
       "\n",
       "    .dataframe tbody tr th {\n",
       "        vertical-align: top;\n",
       "    }\n",
       "\n",
       "    .dataframe thead th {\n",
       "        text-align: right;\n",
       "    }\n",
       "</style>\n",
       "<table border=\"1\" class=\"dataframe\">\n",
       "  <thead>\n",
       "    <tr style=\"text-align: right;\">\n",
       "      <th></th>\n",
       "      <th>id</th>\n",
       "      <th>name</th>\n",
       "      <th>host_id</th>\n",
       "      <th>host_name</th>\n",
       "      <th>neighbourhood_group</th>\n",
       "      <th>neighbourhood</th>\n",
       "      <th>latitude</th>\n",
       "      <th>longitude</th>\n",
       "      <th>room_type</th>\n",
       "      <th>price</th>\n",
       "      <th>minimum_nights</th>\n",
       "      <th>number_of_reviews</th>\n",
       "      <th>last_review</th>\n",
       "      <th>reviews_per_month</th>\n",
       "      <th>calculated_host_listings_count</th>\n",
       "      <th>availability_365</th>\n",
       "      <th>number_of_reviews_ltm</th>\n",
       "      <th>license</th>\n",
       "    </tr>\n",
       "  </thead>\n",
       "  <tbody>\n",
       "    <tr>\n",
       "      <th>0</th>\n",
       "      <td>35797</td>\n",
       "      <td>Villa Dante</td>\n",
       "      <td>153786</td>\n",
       "      <td>Dici</td>\n",
       "      <td>NaN</td>\n",
       "      <td>Cuajimalpa de Morelos</td>\n",
       "      <td>19.38283</td>\n",
       "      <td>-99.27178</td>\n",
       "      <td>Entire home/apt</td>\n",
       "      <td>3658</td>\n",
       "      <td>1</td>\n",
       "      <td>0</td>\n",
       "      <td>NaN</td>\n",
       "      <td>NaN</td>\n",
       "      <td>1</td>\n",
       "      <td>363</td>\n",
       "      <td>0</td>\n",
       "      <td>NaN</td>\n",
       "    </tr>\n",
       "    <tr>\n",
       "      <th>1</th>\n",
       "      <td>696037</td>\n",
       "      <td>3 Bedrooms, 2 blocks from Polanco - ALL RENOVA...</td>\n",
       "      <td>3531879</td>\n",
       "      <td>Gonzalo &amp; Sandra</td>\n",
       "      <td>NaN</td>\n",
       "      <td>Miguel Hidalgo</td>\n",
       "      <td>19.44180</td>\n",
       "      <td>-99.18402</td>\n",
       "      <td>Entire home/apt</td>\n",
       "      <td>1469</td>\n",
       "      <td>24</td>\n",
       "      <td>39</td>\n",
       "      <td>2022-12-21</td>\n",
       "      <td>0.31</td>\n",
       "      <td>3</td>\n",
       "      <td>87</td>\n",
       "      <td>2</td>\n",
       "      <td>NaN</td>\n",
       "    </tr>\n",
       "  </tbody>\n",
       "</table>\n",
       "</div>"
      ],
      "text/plain": [
       "       id                                               name  host_id  \\\n",
       "0   35797                                        Villa Dante   153786   \n",
       "1  696037  3 Bedrooms, 2 blocks from Polanco - ALL RENOVA...  3531879   \n",
       "\n",
       "          host_name  neighbourhood_group          neighbourhood  latitude  \\\n",
       "0              Dici                  NaN  Cuajimalpa de Morelos  19.38283   \n",
       "1  Gonzalo & Sandra                  NaN         Miguel Hidalgo  19.44180   \n",
       "\n",
       "   longitude        room_type  price  minimum_nights  number_of_reviews  \\\n",
       "0  -99.27178  Entire home/apt   3658               1                  0   \n",
       "1  -99.18402  Entire home/apt   1469              24                 39   \n",
       "\n",
       "  last_review  reviews_per_month  calculated_host_listings_count  \\\n",
       "0         NaN                NaN                               1   \n",
       "1  2022-12-21               0.31                               3   \n",
       "\n",
       "   availability_365  number_of_reviews_ltm  license  \n",
       "0               363                      0      NaN  \n",
       "1                87                      2      NaN  "
      ]
     },
     "execution_count": 13,
     "metadata": {},
     "output_type": "execute_result"
    }
   ],
   "source": [
    "print(\">> [\" + str(list_df.count()) + \"] rows read out from CSV file\")\n",
    "\n",
    "print(\"\\n>> Overview LISTING (summary) df ...\")\n",
    "list_df.head(2)"
   ]
  },
  {
   "cell_type": "code",
   "execution_count": 14,
   "metadata": {},
   "outputs": [
    {
     "name": "stdout",
     "output_type": "stream",
     "text": [
      ">> [listing_id        8841401\n",
      "date              8841401\n",
      "available         8841401\n",
      "price             8841401\n",
      "adjusted_price    8841401\n",
      "minimum_nights    8841397\n",
      "maximum_nights    8841397\n",
      "dtype: int64] rows read out from CSV file\n",
      "\n",
      ">> Overview CALENDAR (original/before) ...\n"
     ]
    },
    {
     "data": {
      "text/html": [
       "<div>\n",
       "<style scoped>\n",
       "    .dataframe tbody tr th:only-of-type {\n",
       "        vertical-align: middle;\n",
       "    }\n",
       "\n",
       "    .dataframe tbody tr th {\n",
       "        vertical-align: top;\n",
       "    }\n",
       "\n",
       "    .dataframe thead th {\n",
       "        text-align: right;\n",
       "    }\n",
       "</style>\n",
       "<table border=\"1\" class=\"dataframe\">\n",
       "  <thead>\n",
       "    <tr style=\"text-align: right;\">\n",
       "      <th></th>\n",
       "      <th>listing_id</th>\n",
       "      <th>date</th>\n",
       "      <th>available</th>\n",
       "      <th>price</th>\n",
       "      <th>adjusted_price</th>\n",
       "      <th>minimum_nights</th>\n",
       "      <th>maximum_nights</th>\n",
       "    </tr>\n",
       "  </thead>\n",
       "  <tbody>\n",
       "    <tr>\n",
       "      <th>0</th>\n",
       "      <td>2056638</td>\n",
       "      <td>2023-03-30</td>\n",
       "      <td>f</td>\n",
       "      <td>$1,434.00</td>\n",
       "      <td>$1,434.00</td>\n",
       "      <td>1.0</td>\n",
       "      <td>1125.0</td>\n",
       "    </tr>\n",
       "    <tr>\n",
       "      <th>1</th>\n",
       "      <td>2056638</td>\n",
       "      <td>2023-03-31</td>\n",
       "      <td>f</td>\n",
       "      <td>$1,434.00</td>\n",
       "      <td>$1,434.00</td>\n",
       "      <td>1.0</td>\n",
       "      <td>1125.0</td>\n",
       "    </tr>\n",
       "  </tbody>\n",
       "</table>\n",
       "</div>"
      ],
      "text/plain": [
       "   listing_id        date available      price adjusted_price  minimum_nights  \\\n",
       "0     2056638  2023-03-30         f  $1,434.00      $1,434.00             1.0   \n",
       "1     2056638  2023-03-31         f  $1,434.00      $1,434.00             1.0   \n",
       "\n",
       "   maximum_nights  \n",
       "0          1125.0  \n",
       "1          1125.0  "
      ]
     },
     "execution_count": 14,
     "metadata": {},
     "output_type": "execute_result"
    }
   ],
   "source": [
    "print(\">> [\" + str(calendar_df.count()) + \"] rows read out from CSV file\")\n",
    "\n",
    "print(\"\\n>> Overview CALENDAR (original/before) ...\")\n",
    "calendar_df.head(2)"
   ]
  },
  {
   "cell_type": "code",
   "execution_count": 15,
   "metadata": {},
   "outputs": [
    {
     "name": "stdout",
     "output_type": "stream",
     "text": [
      ">> [listing_id       886240\n",
      "id               886240\n",
      "date             886240\n",
      "reviewer_id      886240\n",
      "reviewer_name    886238\n",
      "comments         886145\n",
      "dtype: int64] rows read out from CSV file\n",
      "\n",
      ">> Overview REVIEW df...\n"
     ]
    },
    {
     "data": {
      "text/html": [
       "<div>\n",
       "<style scoped>\n",
       "    .dataframe tbody tr th:only-of-type {\n",
       "        vertical-align: middle;\n",
       "    }\n",
       "\n",
       "    .dataframe tbody tr th {\n",
       "        vertical-align: top;\n",
       "    }\n",
       "\n",
       "    .dataframe thead th {\n",
       "        text-align: right;\n",
       "    }\n",
       "</style>\n",
       "<table border=\"1\" class=\"dataframe\">\n",
       "  <thead>\n",
       "    <tr style=\"text-align: right;\">\n",
       "      <th></th>\n",
       "      <th>listing_id</th>\n",
       "      <th>id</th>\n",
       "      <th>date</th>\n",
       "      <th>reviewer_id</th>\n",
       "      <th>reviewer_name</th>\n",
       "      <th>comments</th>\n",
       "    </tr>\n",
       "  </thead>\n",
       "  <tbody>\n",
       "    <tr>\n",
       "      <th>0</th>\n",
       "      <td>44616</td>\n",
       "      <td>706908</td>\n",
       "      <td>2011-11-09</td>\n",
       "      <td>634733</td>\n",
       "      <td>Lindsay</td>\n",
       "      <td>Forget staying in a hotel. Stay at condesa hau...</td>\n",
       "    </tr>\n",
       "    <tr>\n",
       "      <th>1</th>\n",
       "      <td>2056638</td>\n",
       "      <td>9623913</td>\n",
       "      <td>2014-01-03</td>\n",
       "      <td>6743067</td>\n",
       "      <td>Nora Carolina</td>\n",
       "      <td>El sitio es precioso, está muy bien ubicado al...</td>\n",
       "    </tr>\n",
       "  </tbody>\n",
       "</table>\n",
       "</div>"
      ],
      "text/plain": [
       "   listing_id       id        date  reviewer_id  reviewer_name  \\\n",
       "0       44616   706908  2011-11-09       634733        Lindsay   \n",
       "1     2056638  9623913  2014-01-03      6743067  Nora Carolina   \n",
       "\n",
       "                                            comments  \n",
       "0  Forget staying in a hotel. Stay at condesa hau...  \n",
       "1  El sitio es precioso, está muy bien ubicado al...  "
      ]
     },
     "execution_count": 15,
     "metadata": {},
     "output_type": "execute_result"
    }
   ],
   "source": [
    "print(\">> [\" + str(reviews_df.count()) + \"] rows read out from CSV file\")\n",
    "\n",
    "print(\"\\n>> Overview REVIEW df...\")\n",
    "reviews_df.head(2)"
   ]
  },
  {
   "cell_type": "code",
   "execution_count": 16,
   "metadata": {},
   "outputs": [
    {
     "name": "stdout",
     "output_type": "stream",
     "text": [
      ">> Overview CALENDAR (after) df ...\n"
     ]
    },
    {
     "data": {
      "text/html": [
       "<div>\n",
       "<style scoped>\n",
       "    .dataframe tbody tr th:only-of-type {\n",
       "        vertical-align: middle;\n",
       "    }\n",
       "\n",
       "    .dataframe tbody tr th {\n",
       "        vertical-align: top;\n",
       "    }\n",
       "\n",
       "    .dataframe thead th {\n",
       "        text-align: right;\n",
       "    }\n",
       "</style>\n",
       "<table border=\"1\" class=\"dataframe\">\n",
       "  <thead>\n",
       "    <tr style=\"text-align: right;\">\n",
       "      <th></th>\n",
       "      <th>listing_id</th>\n",
       "      <th>date</th>\n",
       "      <th>available</th>\n",
       "      <th>requested_price</th>\n",
       "      <th>adjusted_price</th>\n",
       "      <th>minimum_nights</th>\n",
       "      <th>maximum_nights</th>\n",
       "    </tr>\n",
       "  </thead>\n",
       "  <tbody>\n",
       "    <tr>\n",
       "      <th>0</th>\n",
       "      <td>2056638</td>\n",
       "      <td>2023-03-30</td>\n",
       "      <td>f</td>\n",
       "      <td>1,434.00</td>\n",
       "      <td>1,434.00</td>\n",
       "      <td>1.0</td>\n",
       "      <td>1125.0</td>\n",
       "    </tr>\n",
       "    <tr>\n",
       "      <th>1</th>\n",
       "      <td>2056638</td>\n",
       "      <td>2023-03-31</td>\n",
       "      <td>f</td>\n",
       "      <td>1,434.00</td>\n",
       "      <td>1,434.00</td>\n",
       "      <td>1.0</td>\n",
       "      <td>1125.0</td>\n",
       "    </tr>\n",
       "  </tbody>\n",
       "</table>\n",
       "</div>"
      ],
      "text/plain": [
       "   listing_id        date available requested_price adjusted_price  \\\n",
       "0     2056638  2023-03-30         f        1,434.00       1,434.00   \n",
       "1     2056638  2023-03-31         f        1,434.00       1,434.00   \n",
       "\n",
       "   minimum_nights  maximum_nights  \n",
       "0             1.0          1125.0  \n",
       "1             1.0          1125.0  "
      ]
     },
     "execution_count": 16,
     "metadata": {},
     "output_type": "execute_result"
    }
   ],
   "source": [
    "# Performing cleaning tasks here\n",
    "\n",
    "calendar_df['price']          = calendar_df['price'].str.replace('$', '')\n",
    "calendar_df['adjusted_price'] = calendar_df['adjusted_price'].str.replace('$', '')\n",
    "# rename ['price'] because later on it will be related with ['requested_price']\n",
    "calendar_df = calendar_df.rename(columns={'price': 'requested_price'}) \n",
    "\n",
    "print(\">> Overview CALENDAR (after) df ...\")\n",
    "calendar_df.head(2)"
   ]
  },
  {
   "cell_type": "code",
   "execution_count": 17,
   "metadata": {},
   "outputs": [
    {
     "name": "stdout",
     "output_type": "stream",
     "text": [
      ">> Overview LISTINGS (detailed) df ...\n"
     ]
    },
    {
     "data": {
      "text/html": [
       "<div>\n",
       "<style scoped>\n",
       "    .dataframe tbody tr th:only-of-type {\n",
       "        vertical-align: middle;\n",
       "    }\n",
       "\n",
       "    .dataframe tbody tr th {\n",
       "        vertical-align: top;\n",
       "    }\n",
       "\n",
       "    .dataframe thead th {\n",
       "        text-align: right;\n",
       "    }\n",
       "</style>\n",
       "<table border=\"1\" class=\"dataframe\">\n",
       "  <thead>\n",
       "    <tr style=\"text-align: right;\">\n",
       "      <th></th>\n",
       "      <th>id</th>\n",
       "      <th>listing_url</th>\n",
       "      <th>scrape_id</th>\n",
       "      <th>last_scraped</th>\n",
       "      <th>source</th>\n",
       "      <th>name</th>\n",
       "      <th>description</th>\n",
       "      <th>neighborhood_overview</th>\n",
       "      <th>picture_url</th>\n",
       "      <th>host_id</th>\n",
       "      <th>...</th>\n",
       "      <th>review_scores_communication</th>\n",
       "      <th>review_scores_location</th>\n",
       "      <th>review_scores_value</th>\n",
       "      <th>license</th>\n",
       "      <th>instant_bookable</th>\n",
       "      <th>calculated_host_listings_count</th>\n",
       "      <th>calculated_host_listings_count_entire_homes</th>\n",
       "      <th>calculated_host_listings_count_private_rooms</th>\n",
       "      <th>calculated_host_listings_count_shared_rooms</th>\n",
       "      <th>reviews_per_month</th>\n",
       "    </tr>\n",
       "  </thead>\n",
       "  <tbody>\n",
       "    <tr>\n",
       "      <th>0</th>\n",
       "      <td>2056638</td>\n",
       "      <td>https://www.airbnb.com/rooms/2056638</td>\n",
       "      <td>20230329041210</td>\n",
       "      <td>2023-03-30</td>\n",
       "      <td>city scrape</td>\n",
       "      <td>Amplio y luminoso loft en Coyoacán</td>\n",
       "      <td>Cómodo loft de dos pisos magníficamente ubicad...</td>\n",
       "      <td>NaN</td>\n",
       "      <td>https://a0.muscache.com/pictures/28353712/4379...</td>\n",
       "      <td>10531228</td>\n",
       "      <td>...</td>\n",
       "      <td>4.95</td>\n",
       "      <td>5.00</td>\n",
       "      <td>4.86</td>\n",
       "      <td>NaN</td>\n",
       "      <td>f</td>\n",
       "      <td>3</td>\n",
       "      <td>3</td>\n",
       "      <td>0</td>\n",
       "      <td>0</td>\n",
       "      <td>0.19</td>\n",
       "    </tr>\n",
       "    <tr>\n",
       "      <th>1</th>\n",
       "      <td>2072354</td>\n",
       "      <td>https://www.airbnb.com/rooms/2072354</td>\n",
       "      <td>20230329041210</td>\n",
       "      <td>2023-03-30</td>\n",
       "      <td>city scrape</td>\n",
       "      <td>Coyoacan Historic Studio Apartment</td>\n",
       "      <td>This studio flat is adjacent to the owner's ho...</td>\n",
       "      <td>Located in Coyoacan, in a quiet neighborhood w...</td>\n",
       "      <td>https://a0.muscache.com/pictures/369f3371-593a...</td>\n",
       "      <td>16840050</td>\n",
       "      <td>...</td>\n",
       "      <td>5.00</td>\n",
       "      <td>4.95</td>\n",
       "      <td>4.84</td>\n",
       "      <td>NaN</td>\n",
       "      <td>f</td>\n",
       "      <td>2</td>\n",
       "      <td>2</td>\n",
       "      <td>0</td>\n",
       "      <td>0</td>\n",
       "      <td>0.54</td>\n",
       "    </tr>\n",
       "  </tbody>\n",
       "</table>\n",
       "<p>2 rows × 72 columns</p>\n",
       "</div>"
      ],
      "text/plain": [
       "        id                           listing_url       scrape_id last_scraped  \\\n",
       "0  2056638  https://www.airbnb.com/rooms/2056638  20230329041210   2023-03-30   \n",
       "1  2072354  https://www.airbnb.com/rooms/2072354  20230329041210   2023-03-30   \n",
       "\n",
       "        source                                name  \\\n",
       "0  city scrape  Amplio y luminoso loft en Coyoacán   \n",
       "1  city scrape  Coyoacan Historic Studio Apartment   \n",
       "\n",
       "                                         description  \\\n",
       "0  Cómodo loft de dos pisos magníficamente ubicad...   \n",
       "1  This studio flat is adjacent to the owner's ho...   \n",
       "\n",
       "                               neighborhood_overview  \\\n",
       "0                                                NaN   \n",
       "1  Located in Coyoacan, in a quiet neighborhood w...   \n",
       "\n",
       "                                         picture_url   host_id  \\\n",
       "0  https://a0.muscache.com/pictures/28353712/4379...  10531228   \n",
       "1  https://a0.muscache.com/pictures/369f3371-593a...  16840050   \n",
       "\n",
       "         ...        review_scores_communication review_scores_location  \\\n",
       "0        ...                               4.95                   5.00   \n",
       "1        ...                               5.00                   4.95   \n",
       "\n",
       "  review_scores_value license instant_bookable calculated_host_listings_count  \\\n",
       "0                4.86     NaN                f                              3   \n",
       "1                4.84     NaN                f                              2   \n",
       "\n",
       "  calculated_host_listings_count_entire_homes  \\\n",
       "0                                           3   \n",
       "1                                           2   \n",
       "\n",
       "  calculated_host_listings_count_private_rooms  \\\n",
       "0                                            0   \n",
       "1                                            0   \n",
       "\n",
       "  calculated_host_listings_count_shared_rooms reviews_per_month  \n",
       "0                                           0              0.19  \n",
       "1                                           0              0.54  \n",
       "\n",
       "[2 rows x 72 columns]"
      ]
     },
     "execution_count": 17,
     "metadata": {},
     "output_type": "execute_result"
    }
   ],
   "source": [
    "# Performing cleaning tasks here\n",
    "\n",
    "# drop min and max nights as they appear in another future table, view listing detailed df\n",
    "drop_columns = ['maximum_nights','minimum_nights','price']\n",
    "list_det_df  = list_det_df.drop(drop_columns, axis=1)\n",
    "\n",
    "print(\">> Overview LISTINGS (detailed) df ...\")\n",
    "list_det_df.head(2)"
   ]
  },
  {
   "cell_type": "markdown",
   "metadata": {},
   "source": [
    "Verification for missing values"
   ]
  },
  {
   "cell_type": "code",
   "execution_count": 18,
   "metadata": {},
   "outputs": [
    {
     "name": "stdout",
     "output_type": "stream",
     "text": [
      "'neighbourhood_group - 100.0%'\n",
      "'neighbourhood - 0.0%'\n",
      "'id - 0.0%'\n",
      "'listing_url - 0.0%'\n",
      "'scrape_id - 0.0%'\n",
      "'last_scraped - 0.0%'\n",
      "'source - 0.0%'\n",
      "'name - 0.0%'\n",
      "'description - 4.0%'\n",
      "'neighborhood_overview - 37.0%'\n",
      "'picture_url - 0.0%'\n",
      "'host_id - 0.0%'\n",
      "'host_url - 0.0%'\n",
      "'host_name - 0.0%'\n",
      "'host_since - 0.0%'\n",
      "'host_location - 21.0%'\n",
      "'host_about - 44.0%'\n",
      "'host_response_time - 13.0%'\n",
      "'host_response_rate - 13.0%'\n",
      "'host_acceptance_rate - 8.0%'\n",
      "'host_is_superhost - 0.0%'\n",
      "'host_thumbnail_url - 0.0%'\n",
      "'host_picture_url - 0.0%'\n",
      "'host_neighbourhood - 51.0%'\n",
      "'host_listings_count - 0.0%'\n",
      "'host_total_listings_count - 0.0%'\n",
      "'host_verifications - 0.0%'\n",
      "'host_has_profile_pic - 0.0%'\n",
      "'host_identity_verified - 0.0%'\n",
      "'neighbourhood - 37.0%'\n",
      "'neighbourhood_cleansed - 0.0%'\n",
      "'neighbourhood_group_cleansed - 100.0%'\n",
      "'latitude - 0.0%'\n",
      "'longitude - 0.0%'\n",
      "'property_type - 0.0%'\n",
      "'room_type - 0.0%'\n",
      "'accommodates - 0.0%'\n",
      "'bathrooms - 100.0%'\n",
      "'bathrooms_text - 0.0%'\n",
      "'bedrooms - 2.0%'\n",
      "'beds - 1.0%'\n",
      "'amenities - 0.0%'\n",
      "'minimum_minimum_nights - 0.0%'\n",
      "'maximum_minimum_nights - 0.0%'\n",
      "'minimum_maximum_nights - 0.0%'\n",
      "'maximum_maximum_nights - 0.0%'\n",
      "'minimum_nights_avg_ntm - 0.0%'\n",
      "'maximum_nights_avg_ntm - 0.0%'\n",
      "'calendar_updated - 100.0%'\n",
      "'has_availability - 0.0%'\n",
      "'availability_30 - 0.0%'\n",
      "'availability_60 - 0.0%'\n",
      "'availability_90 - 0.0%'\n",
      "'availability_365 - 0.0%'\n",
      "'calendar_last_scraped - 0.0%'\n",
      "'number_of_reviews - 0.0%'\n",
      "'number_of_reviews_ltm - 0.0%'\n",
      "'number_of_reviews_l30d - 0.0%'\n",
      "'first_review - 15.0%'\n",
      "'last_review - 15.0%'\n",
      "'review_scores_rating - 15.0%'\n",
      "'review_scores_accuracy - 15.0%'\n",
      "'review_scores_cleanliness - 15.0%'\n",
      "'review_scores_checkin - 15.0%'\n",
      "'review_scores_communication - 15.0%'\n",
      "'review_scores_location - 15.0%'\n",
      "'review_scores_value - 15.0%'\n",
      "'license - 100.0%'\n",
      "'instant_bookable - 0.0%'\n",
      "'calculated_host_listings_count - 0.0%'\n",
      "'calculated_host_listings_count_entire_homes - 0.0%'\n",
      "'calculated_host_listings_count_private_rooms - 0.0%'\n",
      "'calculated_host_listings_count_shared_rooms - 0.0%'\n",
      "'reviews_per_month - 15.0%'\n",
      "'listing_id - 0.0%'\n",
      "'date - 0.0%'\n",
      "'available - 0.0%'\n",
      "'requested_price - 0.0%'\n",
      "'adjusted_price - 0.0%'\n",
      "'minimum_nights - 0.0%'\n",
      "'maximum_nights - 0.0%'\n",
      "'listing_id - 0.0%'\n",
      "'id - 0.0%'\n",
      "'date - 0.0%'\n",
      "'reviewer_id - 0.0%'\n",
      "'reviewer_name - 0.0%'\n",
      "'comments - 0.0%'\n"
     ]
    }
   ],
   "source": [
    "dfs = [hoods_df, list_det_df, calendar_df, reviews_df]\n",
    "\n",
    "# % of missing values per column\n",
    "for df in dfs:\n",
    "    for col in df.columns:\n",
    "        pct_missing = np.mean(df[col].isnull())\n",
    "      # print('{} - {}%'.format(col, round(pct_missing*100)))\n",
    "        print(f\"'{col} - {round(pct_missing*100)}%'\")\n"
   ]
  },
  {
   "cell_type": "markdown",
   "metadata": {},
   "source": [
    "Do we have duplicates?"
   ]
  },
  {
   "cell_type": "code",
   "execution_count": 19,
   "metadata": {},
   "outputs": [
    {
     "name": "stdout",
     "output_type": "stream",
     "text": [
      ">> Number of duplicate (neighbourhood_group) in hoods_df:  0\n",
      ">> Number of duplicate (listing_ids) in listing_df:  0\n",
      ">> Number of duplicate (ids) in review_df:  0\n"
     ]
    }
   ],
   "source": [
    "duplicate_neighbourhood_group = hoods_df[hoods_df.duplicated(['neighbourhood'])]['neighbourhood'].count()\n",
    "print(\">> Number of duplicate (neighbourhood_group) in hoods_df: \", duplicate_neighbourhood_group)\n",
    "\n",
    "duplicate_listing_id = list_df[list_df.duplicated(['id'])]['id'].count()\n",
    "print(\">> Number of duplicate (listing_ids) in listing_df: \", duplicate_listing_id)\n",
    "\n",
    "# for CALENDAR should not make sense to check this\n",
    "# duplicate_calendar_listing_id = calendar_df[calendar_df.duplicated(['listing_id'])]['listing_id'].count()\n",
    "# print(\">> Number of duplicate listing_ids in calendar_df: \", duplicate_calendar_listing_id)\n",
    "\n",
    "duplicate_review_id = reviews_df[reviews_df.duplicated(['id'])]['id'].count()\n",
    "print(\">> Number of duplicate (ids) in review_df: \", duplicate_review_id)\n"
   ]
  },
  {
   "cell_type": "markdown",
   "metadata": {},
   "source": [
    "<font color=\"red\">**STOP!**</font> - Results? None: Go..."
   ]
  },
  {
   "cell_type": "markdown",
   "metadata": {},
   "source": [
    "### Step 3: Define the Data Model\n",
    "#### 3.1 Conceptual Data Model\n",
    "A star schema as database design decision does allow a simple and effective way to organize data for querying and reporting. Because of the CSV-files there is a organisation in a way that favoured this.  \n",
    "\n",
    "The star schema does consist of 1 *Fact* table (booking) and 4 *Dimension* tables (calendar, listing, neighbourhoods and reviews). For the *Dimension* tables they are 4 source files in CSV format of **calendar**, **listings**, **neighbourhooods** as well of **reviews** are on the (local:) Udacity Workspace or (online:) at the S3 on AWS uploaded.\n",
    "\n",
    "#### 3.2 Mapping Out Data Pipelines\n",
    "I did select to setup my project with `Spark` (AWS Services) and querying the data on the fly in the `JUPYTER Notebook` without building tables and filling them (typically CREATE TABLE + INSERT SQL statements). This is a great advantage of working with Spark to do this job! After beeing clear which fields to keep for the dimension tables as well the at least minimum necessary structure of the fact table is clear, then the data will be uploaded to an S3 Bucket as Parquet files. From the s3 bucket the Parque files could be redownloaded/readed directly into Spark dataframes and finaly query them directly for verification and demo purposes.  \n",
    "\n",
    "Next are the Data Schemas definitions indipendently diceded, so this can be applied into the CSV's files when reading it.  \n",
    "\n",
    "> **Note:**   \n",
    "> As seen on the \"Exploration\" Jupyter Notebook, the reading of the CSV's could end on an errornous kind, because of the data formating.  \n",
    "> Therefor two actions:  \n",
    "> * Some DataTypes did I (temporary, because of deadline of course time) set to a general DataType like StringType()\n",
    "> * Also I reduced the amount of columns to have an MVP runing program, means only from first interest. "
   ]
  },
  {
   "cell_type": "code",
   "execution_count": 9,
   "metadata": {},
   "outputs": [
    {
     "name": "stdout",
     "output_type": "stream",
     "text": [
      ">> DataFrame Schemas are declared\n"
     ]
    }
   ],
   "source": [
    "# Definition of Schemas into dataframes, \n",
    "# ..as Spark read all fields per default as StringType()\n",
    "\n",
    "hoodSchema = R([\n",
    "    Fld(\"neighbourhood_group\",    Str()),\n",
    "    Fld(\"neighbourhood\",          Str()),\n",
    "])\n",
    "\n",
    "list_detSchema = R([\n",
    "    Fld(\"id\",                     Int()),\n",
    "    Fld(\"name\",                   Str()),\n",
    "    Fld(\"description\",            Str()),\n",
    "    Fld(\"host_id\",                Int()),\n",
    "    Fld(\"host_name\",              Str()),\n",
    "    Fld(\"host_since\",             Date()),\n",
    "    Fld(\"source\",                 Str()),\n",
    "    Fld(\"latitude\",               Flt()),  # Dbl()\n",
    "    Fld(\"longitude\",              Flt()),  # Dbl()\n",
    "    #Fld(\"price\",                 Flt()),  # Dbl()\n",
    "    Fld(\"review_scores_rating\",   Int()),\n",
    "    Fld(\"reviews_per_month\",      Int()),  # \n",
    "    Fld(\"room_type\",              Str()),\n",
    "    Fld(\"accommodates\",           Int()),\n",
    "    Fld(\"bathrooms\",              Int()),\n",
    "    Fld(\"bedrooms\",               Int()),\n",
    "    Fld(\"beds\",                   Int()),\n",
    "    Fld(\"neighbourhood_cleansed\", Str()),\n",
    "])\n",
    "\n",
    "# Alredy here cutting (cleaning up) columns ['price','m*']!\n",
    "calendarSchema = R([\n",
    "    Fld(\"listing_id\",             Int()),\n",
    "    Fld(\"date\",                   Date()),\n",
    "    Fld(\"available\",              Str()),  # Bol()\n",
    "    Fld(\"adjusted_price\",         Str()),  # Dec()\n",
    "])\n",
    "\n",
    "rev_detSchema = R([\n",
    "    Fld(\"listing_id\",             Int()),\n",
    "    Fld(\"id\",                     Int()),\n",
    "    Fld(\"date\",                   Date()),\n",
    "    Fld(\"reviewer_id\",            Int()),\n",
    "    Fld(\"reviewer_name\",          Str()),\n",
    "    Fld(\"comments\",               Str()),\n",
    "])\n",
    "\n",
    "print(\">> DataFrame Schemas are declared\")"
   ]
  },
  {
   "cell_type": "code",
   "execution_count": 10,
   "metadata": {},
   "outputs": [],
   "source": [
    "# Created Schemas passing them to import defined data types\n",
    "# read out and create spark dataframes (\"_df\"), NOT Data Feed (\"df_\")\n",
    "df_hoods    = spark.read.csv(hoods_csv, hoodSchema)\n",
    "\n",
    "#df_list     = spark.read.option(\"header\",\"true\") \\\n",
    "                   #.format(\"csv\").schema(listSchema) \\\n",
    "                   #.load(list_csv)\n",
    "\n",
    "df_listing  = spark.read.option(\"header\",\"true\").format(\"csv\") \\\n",
    "                   .schema(list_detSchema) \\\n",
    "                   .load(list_det_csv)\n",
    "\n",
    "df_calendar = spark.read.option('header','true') \\\n",
    "                   .option('sep',',') \\\n",
    "                   .format('csv') \\\n",
    "                   .schema(calendarSchema) \\\n",
    "                   .load(calendar_csv)\n",
    "\n",
    "df_reviews  = spark.read.format(\"csv\") \\\n",
    "                   .option(\"header\",    True) \\\n",
    "                   .option('quotes',    '\"') \\\n",
    "                   .option(\"delimiter\", ',') \\\n",
    "                   .schema(rev_detSchema) \\\n",
    "                   .load(rev_det_csv)\n",
    "\n",
    "#df_reviews  = df_reviews.withColumnRenamed(\"id\",   \"review_id\") \\\n",
    "#                        .withColumnRenamed(\"date\", \"review_date\")\n"
   ]
  },
  {
   "cell_type": "code",
   "execution_count": 22,
   "metadata": {},
   "outputs": [
    {
     "name": "stdout",
     "output_type": "stream",
     "text": [
      "root\n",
      " |-- listing_id: integer (nullable = true)\n",
      " |-- date: date (nullable = true)\n",
      " |-- available: string (nullable = true)\n",
      " |-- adjusted_price: string (nullable = true)\n",
      "\n"
     ]
    }
   ],
   "source": [
    "# Cleaning actions on columns\n",
    "# df_calendar = df_calendar.drop('price')  \n",
    "# This column drop, could be applied already using the Schemas. \n",
    "\n",
    "df_calendar.printSchema()  # should not more display column ['price']"
   ]
  },
  {
   "cell_type": "code",
   "execution_count": 23,
   "metadata": {},
   "outputs": [
    {
     "data": {
      "text/html": [
       "<div>\n",
       "<style scoped>\n",
       "    .dataframe tbody tr th:only-of-type {\n",
       "        vertical-align: middle;\n",
       "    }\n",
       "\n",
       "    .dataframe tbody tr th {\n",
       "        vertical-align: top;\n",
       "    }\n",
       "\n",
       "    .dataframe thead th {\n",
       "        text-align: right;\n",
       "    }\n",
       "</style>\n",
       "<table border=\"1\" class=\"dataframe\">\n",
       "  <thead>\n",
       "    <tr style=\"text-align: right;\">\n",
       "      <th></th>\n",
       "      <th>listing_id</th>\n",
       "      <th>date</th>\n",
       "      <th>available</th>\n",
       "      <th>adjusted_price</th>\n",
       "    </tr>\n",
       "  </thead>\n",
       "  <tbody>\n",
       "    <tr>\n",
       "      <th>0</th>\n",
       "      <td>2056638</td>\n",
       "      <td>2023-03-30</td>\n",
       "      <td>f</td>\n",
       "      <td>$1,434.00</td>\n",
       "    </tr>\n",
       "    <tr>\n",
       "      <th>1</th>\n",
       "      <td>2056638</td>\n",
       "      <td>2023-03-31</td>\n",
       "      <td>f</td>\n",
       "      <td>$1,434.00</td>\n",
       "    </tr>\n",
       "  </tbody>\n",
       "</table>\n",
       "</div>"
      ],
      "text/plain": [
       "   listing_id        date available adjusted_price\n",
       "0     2056638  2023-03-30         f      $1,434.00\n",
       "1     2056638  2023-03-31         f      $1,434.00"
      ]
     },
     "execution_count": 23,
     "metadata": {},
     "output_type": "execute_result"
    }
   ],
   "source": [
    "df_calendar.limit(2).toPandas()"
   ]
  },
  {
   "cell_type": "code",
   "execution_count": 24,
   "metadata": {},
   "outputs": [
    {
     "data": {
      "text/html": [
       "<div>\n",
       "<style scoped>\n",
       "    .dataframe tbody tr th:only-of-type {\n",
       "        vertical-align: middle;\n",
       "    }\n",
       "\n",
       "    .dataframe tbody tr th {\n",
       "        vertical-align: top;\n",
       "    }\n",
       "\n",
       "    .dataframe thead th {\n",
       "        text-align: right;\n",
       "    }\n",
       "</style>\n",
       "<table border=\"1\" class=\"dataframe\">\n",
       "  <thead>\n",
       "    <tr style=\"text-align: right;\">\n",
       "      <th></th>\n",
       "      <th>listing_id</th>\n",
       "      <th>id</th>\n",
       "      <th>date</th>\n",
       "      <th>reviewer_id</th>\n",
       "      <th>reviewer_name</th>\n",
       "      <th>comments</th>\n",
       "    </tr>\n",
       "  </thead>\n",
       "  <tbody>\n",
       "    <tr>\n",
       "      <th>0</th>\n",
       "      <td>44616</td>\n",
       "      <td>706908</td>\n",
       "      <td>2011-11-09</td>\n",
       "      <td>634733</td>\n",
       "      <td>Lindsay</td>\n",
       "      <td>Forget staying in a hotel. Stay at condesa hau...</td>\n",
       "    </tr>\n",
       "    <tr>\n",
       "      <th>1</th>\n",
       "      <td>2056638</td>\n",
       "      <td>9623913</td>\n",
       "      <td>2014-01-03</td>\n",
       "      <td>6743067</td>\n",
       "      <td>Nora Carolina</td>\n",
       "      <td>El sitio es precioso, está muy bien ubicado al...</td>\n",
       "    </tr>\n",
       "  </tbody>\n",
       "</table>\n",
       "</div>"
      ],
      "text/plain": [
       "   listing_id       id        date  reviewer_id  reviewer_name  \\\n",
       "0       44616   706908  2011-11-09       634733        Lindsay   \n",
       "1     2056638  9623913  2014-01-03      6743067  Nora Carolina   \n",
       "\n",
       "                                            comments  \n",
       "0  Forget staying in a hotel. Stay at condesa hau...  \n",
       "1  El sitio es precioso, está muy bien ubicado al...  "
      ]
     },
     "execution_count": 24,
     "metadata": {},
     "output_type": "execute_result"
    }
   ],
   "source": [
    "df_reviews.limit(2).toPandas()"
   ]
  },
  {
   "cell_type": "code",
   "execution_count": 25,
   "metadata": {},
   "outputs": [
    {
     "data": {
      "text/html": [
       "<div>\n",
       "<style scoped>\n",
       "    .dataframe tbody tr th:only-of-type {\n",
       "        vertical-align: middle;\n",
       "    }\n",
       "\n",
       "    .dataframe tbody tr th {\n",
       "        vertical-align: top;\n",
       "    }\n",
       "\n",
       "    .dataframe thead th {\n",
       "        text-align: right;\n",
       "    }\n",
       "</style>\n",
       "<table border=\"1\" class=\"dataframe\">\n",
       "  <thead>\n",
       "    <tr style=\"text-align: right;\">\n",
       "      <th></th>\n",
       "      <th>id</th>\n",
       "      <th>name</th>\n",
       "      <th>description</th>\n",
       "      <th>host_id</th>\n",
       "      <th>host_name</th>\n",
       "      <th>host_since</th>\n",
       "      <th>source</th>\n",
       "      <th>latitude</th>\n",
       "      <th>longitude</th>\n",
       "      <th>review_scores_rating</th>\n",
       "      <th>reviews_per_month</th>\n",
       "      <th>room_type</th>\n",
       "      <th>accommodates</th>\n",
       "      <th>bathrooms</th>\n",
       "      <th>bedrooms</th>\n",
       "      <th>beds</th>\n",
       "      <th>neighbourhood_cleansed</th>\n",
       "    </tr>\n",
       "  </thead>\n",
       "  <tbody>\n",
       "    <tr>\n",
       "      <th>0</th>\n",
       "      <td>None</td>\n",
       "      <td>None</td>\n",
       "      <td>None</td>\n",
       "      <td>None</td>\n",
       "      <td>None</td>\n",
       "      <td>None</td>\n",
       "      <td>None</td>\n",
       "      <td>NaN</td>\n",
       "      <td>NaN</td>\n",
       "      <td>None</td>\n",
       "      <td>None</td>\n",
       "      <td>None</td>\n",
       "      <td>None</td>\n",
       "      <td>None</td>\n",
       "      <td>None</td>\n",
       "      <td>None</td>\n",
       "      <td>None</td>\n",
       "    </tr>\n",
       "    <tr>\n",
       "      <th>1</th>\n",
       "      <td>None</td>\n",
       "      <td>None</td>\n",
       "      <td>None</td>\n",
       "      <td>None</td>\n",
       "      <td>None</td>\n",
       "      <td>None</td>\n",
       "      <td>None</td>\n",
       "      <td>NaN</td>\n",
       "      <td>NaN</td>\n",
       "      <td>None</td>\n",
       "      <td>None</td>\n",
       "      <td>None</td>\n",
       "      <td>None</td>\n",
       "      <td>None</td>\n",
       "      <td>None</td>\n",
       "      <td>None</td>\n",
       "      <td>None</td>\n",
       "    </tr>\n",
       "  </tbody>\n",
       "</table>\n",
       "</div>"
      ],
      "text/plain": [
       "     id  name description host_id host_name host_since source  latitude  \\\n",
       "0  None  None        None    None      None       None   None       NaN   \n",
       "1  None  None        None    None      None       None   None       NaN   \n",
       "\n",
       "   longitude review_scores_rating reviews_per_month room_type accommodates  \\\n",
       "0        NaN                 None              None      None         None   \n",
       "1        NaN                 None              None      None         None   \n",
       "\n",
       "  bathrooms bedrooms  beds neighbourhood_cleansed  \n",
       "0      None     None  None                   None  \n",
       "1      None     None  None                   None  "
      ]
     },
     "execution_count": 25,
     "metadata": {},
     "output_type": "execute_result"
    }
   ],
   "source": [
    "df_listing.limit(2).toPandas()"
   ]
  },
  {
   "cell_type": "code",
   "execution_count": null,
   "metadata": {},
   "outputs": [],
   "source": [
    "###########################"
   ]
  },
  {
   "cell_type": "code",
   "execution_count": 26,
   "metadata": {},
   "outputs": [
    {
     "data": {
      "text/html": [
       "<div>\n",
       "<style scoped>\n",
       "    .dataframe tbody tr th:only-of-type {\n",
       "        vertical-align: middle;\n",
       "    }\n",
       "\n",
       "    .dataframe tbody tr th {\n",
       "        vertical-align: top;\n",
       "    }\n",
       "\n",
       "    .dataframe thead th {\n",
       "        text-align: right;\n",
       "    }\n",
       "</style>\n",
       "<table border=\"1\" class=\"dataframe\">\n",
       "  <thead>\n",
       "    <tr style=\"text-align: right;\">\n",
       "      <th></th>\n",
       "      <th>id</th>\n",
       "      <th>name</th>\n",
       "      <th>description</th>\n",
       "      <th>host_id</th>\n",
       "      <th>host_name</th>\n",
       "      <th>host_since</th>\n",
       "      <th>source</th>\n",
       "      <th>latitude</th>\n",
       "      <th>longitude</th>\n",
       "      <th>review_scores_rating</th>\n",
       "      <th>reviews_per_month</th>\n",
       "      <th>room_type</th>\n",
       "      <th>accommodates</th>\n",
       "      <th>bathrooms</th>\n",
       "      <th>bedrooms</th>\n",
       "      <th>beds</th>\n",
       "      <th>neighbourhood_cleansed</th>\n",
       "    </tr>\n",
       "  </thead>\n",
       "  <tbody>\n",
       "    <tr>\n",
       "      <th>0</th>\n",
       "      <td>2056638</td>\n",
       "      <td>https://www.airbnb.com/rooms/2056638</td>\n",
       "      <td>20230329041210</td>\n",
       "      <td>2023-03-30</td>\n",
       "      <td>city scrape</td>\n",
       "      <td>Amplio y luminoso loft en Coyoacán</td>\n",
       "      <td>Cómodo loft de dos pisos magníficamente ubicad...</td>\n",
       "      <td>None</td>\n",
       "      <td>https://a0.muscache.com/pictures/28353712/4379...</td>\n",
       "      <td>10531228</td>\n",
       "      <td>https://www.airbnb.com/users/show/10531228</td>\n",
       "      <td>Maria</td>\n",
       "      <td>2013-12-09</td>\n",
       "      <td>Mexico City, Mexico</td>\n",
       "      <td>None</td>\n",
       "      <td>within a day</td>\n",
       "      <td>100%</td>\n",
       "    </tr>\n",
       "    <tr>\n",
       "      <th>1</th>\n",
       "      <td>2072354</td>\n",
       "      <td>https://www.airbnb.com/rooms/2072354</td>\n",
       "      <td>20230329041210</td>\n",
       "      <td>2023-03-30</td>\n",
       "      <td>city scrape</td>\n",
       "      <td>Coyoacan Historic Studio Apartment</td>\n",
       "      <td>This studio flat is adjacent to the owner's ho...</td>\n",
       "      <td>Located in Coyoacan, in a quiet neighborhood w...</td>\n",
       "      <td>https://a0.muscache.com/pictures/369f3371-593a...</td>\n",
       "      <td>16840050</td>\n",
       "      <td>https://www.airbnb.com/users/show/16840050</td>\n",
       "      <td>Mónica</td>\n",
       "      <td>2014-06-16</td>\n",
       "      <td>Mexico City, Mexico</td>\n",
       "      <td>None</td>\n",
       "      <td>N/A</td>\n",
       "      <td>N/A</td>\n",
       "    </tr>\n",
       "  </tbody>\n",
       "</table>\n",
       "</div>"
      ],
      "text/plain": [
       "        id                                  name     description     host_id  \\\n",
       "0  2056638  https://www.airbnb.com/rooms/2056638  20230329041210  2023-03-30   \n",
       "1  2072354  https://www.airbnb.com/rooms/2072354  20230329041210  2023-03-30   \n",
       "\n",
       "     host_name                          host_since  \\\n",
       "0  city scrape  Amplio y luminoso loft en Coyoacán   \n",
       "1  city scrape  Coyoacan Historic Studio Apartment   \n",
       "\n",
       "                                              source  \\\n",
       "0  Cómodo loft de dos pisos magníficamente ubicad...   \n",
       "1  This studio flat is adjacent to the owner's ho...   \n",
       "\n",
       "                                            latitude  \\\n",
       "0                                               None   \n",
       "1  Located in Coyoacan, in a quiet neighborhood w...   \n",
       "\n",
       "                                           longitude review_scores_rating  \\\n",
       "0  https://a0.muscache.com/pictures/28353712/4379...             10531228   \n",
       "1  https://a0.muscache.com/pictures/369f3371-593a...             16840050   \n",
       "\n",
       "                            reviews_per_month room_type accommodates  \\\n",
       "0  https://www.airbnb.com/users/show/10531228     Maria   2013-12-09   \n",
       "1  https://www.airbnb.com/users/show/16840050    Mónica   2014-06-16   \n",
       "\n",
       "             bathrooms bedrooms          beds neighbourhood_cleansed  \n",
       "0  Mexico City, Mexico     None  within a day                   100%  \n",
       "1  Mexico City, Mexico     None           N/A                    N/A  "
      ]
     },
     "execution_count": 26,
     "metadata": {},
     "output_type": "execute_result"
    }
   ],
   "source": [
    "list_detSchema = R([\n",
    "    Fld(\"id\",                     Int()),\n",
    "    Fld(\"name\",                   Str()),\n",
    "    Fld(\"description\",            Str()),\n",
    "    Fld(\"host_id\",                Str()), # Int()),\n",
    "    Fld(\"host_name\",              Str()),\n",
    "    Fld(\"host_since\",             Str()), # Date()),\n",
    "    Fld(\"source\",                 Str()),\n",
    "    Fld(\"latitude\",               Str()), # Flt()),  # Dbl()\n",
    "    Fld(\"longitude\",              Str()), # Flt()),  # Dbl()\n",
    "    #Fld(\"price\",                 Flt()),  # Dbl()\n",
    "    Fld(\"review_scores_rating\",   Str()), # Int()),\n",
    "    Fld(\"reviews_per_month\",      Str()), # Int()),  # \n",
    "    Fld(\"room_type\",              Str()), # Str()),\n",
    "    Fld(\"accommodates\",           Str()), # Int()),\n",
    "    Fld(\"bathrooms\",              Str()), # Int()),\n",
    "    Fld(\"bedrooms\",               Int()),\n",
    "    Fld(\"beds\",                   Str()), # Int()),\n",
    "    Fld(\"neighbourhood_cleansed\", Str()),\n",
    "])\n",
    "\n",
    "df_listing  = spark.read.option(\"header\",\"true\").format(\"csv\") \\\n",
    "                   .schema(list_detSchema) \\\n",
    "                   .load(list_det_csv)\n",
    "\n",
    "df_listing.limit(2).toPandas()"
   ]
  },
  {
   "cell_type": "markdown",
   "metadata": {},
   "source": [
    "> <font color=\"red\">reading less columns, then there is a missmatching, so that read out results are incorrect! [TODO]</font>   \n",
    "i.e. content of columnd ['name'] is the content of ['listing_url']   \n",
    "> \n",
    "> This means, the `spark.read.option()` requires an option to read out better the content!   \n",
    "See `Exploring Jupyter Notebook` for more details."
   ]
  },
  {
   "cell_type": "code",
   "execution_count": 11,
   "metadata": {},
   "outputs": [
    {
     "data": {
      "text/html": [
       "<div>\n",
       "<style scoped>\n",
       "    .dataframe tbody tr th:only-of-type {\n",
       "        vertical-align: middle;\n",
       "    }\n",
       "\n",
       "    .dataframe tbody tr th {\n",
       "        vertical-align: top;\n",
       "    }\n",
       "\n",
       "    .dataframe thead th {\n",
       "        text-align: right;\n",
       "    }\n",
       "</style>\n",
       "<table border=\"1\" class=\"dataframe\">\n",
       "  <thead>\n",
       "    <tr style=\"text-align: right;\">\n",
       "      <th></th>\n",
       "      <th>id</th>\n",
       "      <th>listing_url</th>\n",
       "      <th>scrape_id</th>\n",
       "      <th>last_scraped</th>\n",
       "      <th>source</th>\n",
       "      <th>name</th>\n",
       "      <th>description</th>\n",
       "      <th>neighborhood_overview</th>\n",
       "      <th>picture_url</th>\n",
       "      <th>host_id</th>\n",
       "      <th>...</th>\n",
       "      <th>review_scores_communication</th>\n",
       "      <th>review_scores_location</th>\n",
       "      <th>review_scores_value</th>\n",
       "      <th>license</th>\n",
       "      <th>instant_bookable</th>\n",
       "      <th>calculated_host_listings_count</th>\n",
       "      <th>calculated_host_listings_count_entire_homes</th>\n",
       "      <th>calculated_host_listings_count_private_rooms</th>\n",
       "      <th>calculated_host_listings_count_shared_rooms</th>\n",
       "      <th>reviews_per_month</th>\n",
       "    </tr>\n",
       "  </thead>\n",
       "  <tbody>\n",
       "    <tr>\n",
       "      <th>0</th>\n",
       "      <td>2056638</td>\n",
       "      <td>https://www.airbnb.com/rooms/2056638</td>\n",
       "      <td>20230329041210</td>\n",
       "      <td>2023-03-30</td>\n",
       "      <td>city scrape</td>\n",
       "      <td>Amplio y luminoso loft en Coyoacán</td>\n",
       "      <td>Cómodo loft de dos pisos magníficamente ubicad...</td>\n",
       "      <td>None</td>\n",
       "      <td>https://a0.muscache.com/pictures/28353712/4379...</td>\n",
       "      <td>10531228</td>\n",
       "      <td>...</td>\n",
       "      <td>2014-01-03</td>\n",
       "      <td>2018-06-24</td>\n",
       "      <td>4.95</td>\n",
       "      <td>4.71</td>\n",
       "      <td>4.95</td>\n",
       "      <td>5.0</td>\n",
       "      <td>4.95</td>\n",
       "      <td>5.0</td>\n",
       "      <td>4.86</td>\n",
       "      <td>None</td>\n",
       "    </tr>\n",
       "    <tr>\n",
       "      <th>1</th>\n",
       "      <td>2072354</td>\n",
       "      <td>https://www.airbnb.com/rooms/2072354</td>\n",
       "      <td>20230329041210</td>\n",
       "      <td>2023-03-30</td>\n",
       "      <td>city scrape</td>\n",
       "      <td>Coyoacan Historic Studio Apartment</td>\n",
       "      <td>This studio flat is adjacent to the owner's ho...</td>\n",
       "      <td>Located in Coyoacan, in a quiet neighborhood w...</td>\n",
       "      <td>https://a0.muscache.com/pictures/369f3371-593a...</td>\n",
       "      <td>16840050</td>\n",
       "      <td>...</td>\n",
       "      <td>\"\"Clothing storage: closet\"\"</td>\n",
       "      <td>\"\"Body soap\"\"]\"</td>\n",
       "      <td>$830.00</td>\n",
       "      <td>3</td>\n",
       "      <td>1125</td>\n",
       "      <td>3</td>\n",
       "      <td>3</td>\n",
       "      <td>1125</td>\n",
       "      <td>1125</td>\n",
       "      <td>3.0</td>\n",
       "    </tr>\n",
       "  </tbody>\n",
       "</table>\n",
       "<p>2 rows × 75 columns</p>\n",
       "</div>"
      ],
      "text/plain": [
       "        id                           listing_url       scrape_id last_scraped  \\\n",
       "0  2056638  https://www.airbnb.com/rooms/2056638  20230329041210   2023-03-30   \n",
       "1  2072354  https://www.airbnb.com/rooms/2072354  20230329041210   2023-03-30   \n",
       "\n",
       "        source                                name  \\\n",
       "0  city scrape  Amplio y luminoso loft en Coyoacán   \n",
       "1  city scrape  Coyoacan Historic Studio Apartment   \n",
       "\n",
       "                                         description  \\\n",
       "0  Cómodo loft de dos pisos magníficamente ubicad...   \n",
       "1  This studio flat is adjacent to the owner's ho...   \n",
       "\n",
       "                               neighborhood_overview  \\\n",
       "0                                               None   \n",
       "1  Located in Coyoacan, in a quiet neighborhood w...   \n",
       "\n",
       "                                         picture_url   host_id  \\\n",
       "0  https://a0.muscache.com/pictures/28353712/4379...  10531228   \n",
       "1  https://a0.muscache.com/pictures/369f3371-593a...  16840050   \n",
       "\n",
       "         ...           review_scores_communication review_scores_location  \\\n",
       "0        ...                            2014-01-03             2018-06-24   \n",
       "1        ...          \"\"Clothing storage: closet\"\"        \"\"Body soap\"\"]\"   \n",
       "\n",
       "  review_scores_value license instant_bookable calculated_host_listings_count  \\\n",
       "0                4.95    4.71             4.95                            5.0   \n",
       "1             $830.00       3             1125                              3   \n",
       "\n",
       "  calculated_host_listings_count_entire_homes  \\\n",
       "0                                        4.95   \n",
       "1                                           3   \n",
       "\n",
       "  calculated_host_listings_count_private_rooms  \\\n",
       "0                                          5.0   \n",
       "1                                         1125   \n",
       "\n",
       "  calculated_host_listings_count_shared_rooms reviews_per_month  \n",
       "0                                        4.86              None  \n",
       "1                                        1125               3.0  \n",
       "\n",
       "[2 rows x 75 columns]"
      ]
     },
     "execution_count": 11,
     "metadata": {},
     "output_type": "execute_result"
    }
   ],
   "source": [
    "list_detSchema = R([\n",
    "    Fld('id',                                           Int()),\n",
    "    Fld('listing_url',                                  Str()),\n",
    "    Fld('scrape_id',                                    Str()), # Int()),\n",
    "    Fld('last_scraped',                                 Str()), # Date()),\n",
    "    Fld('source',                                       Str()),\n",
    "    Fld('name',                                         Str()),\n",
    "    Fld('description',                                  Str()),\n",
    "    Fld('neighborhood_overview',                        Str()),\n",
    "    Fld('picture_url',                                  Str()),\n",
    "    Fld('host_id',                                      Str()), # Int()),\n",
    "    Fld('host_url',                                     Str()),\n",
    "    Fld('host_name',                                    Str()),\n",
    "    Fld('host_since',                                   Str()), # Date()),\n",
    "    Fld('host_location',                                Str()),\n",
    "    Fld('host_about',                                   Str()),\n",
    "    Fld('host_response_time',                           Str()), #  Int()),\n",
    "    Fld('host_response_rate',                           Str()), # Int()),\n",
    "    Fld('host_acceptance_rate',                         Str()), # Int()),\n",
    "    Fld('host_is_superhost',                            Str()),\n",
    "    Fld('host_thumbnail_url',                           Str()),\n",
    "    Fld('host_picture_url',                             Str()),\n",
    "    Fld('host_neighbourhood',                           Str()),\n",
    "    Fld('host_listings_count',                          Str()), # Int()),\n",
    "    Fld('host_total_listings_count',                    Str()), # Int()),\n",
    "    Fld('host_verifications',                           Str()),\n",
    "    Fld('host_has_profile_pic',                         Str()),\n",
    "    Fld('host_identity_verified',                       Str()),\n",
    "    Fld('neighbourhood',                                Str()),\n",
    "    Fld('neighbourhood_cleansed',                       Str()),\n",
    "    Fld('neighbourhood_group_cleansed',                 Str()),\n",
    "    Fld('latitude',                                     Str()), # Dbl()),\n",
    "    Fld('longitude',                                    Str()), # Dbl()),\n",
    "    Fld('property_type',                                Str()),\n",
    "    Fld('room_type',                                    Str()),\n",
    "    Fld('accommodates',                                 Str()),\n",
    "    Fld('bathrooms',                                    Str()),\n",
    "    Fld('bathrooms_text',                               Str()),\n",
    "    Fld('bedrooms',                                     Str()), # Int()),\n",
    "    Fld('beds',                                         Str()), # Int()),\n",
    "    Fld('amenities',                                    Str()),\n",
    "    Fld('price',                                        Str()), # Dbl()),\n",
    "    Fld('minimum_nights',                               Str()), # Int()),\n",
    "    Fld('maximum_nights',                               Str()), # Int()),\n",
    "    Fld('minimum_minimum_nights',                       Str()), # Int()),\n",
    "    Fld('maximum_minimum_nights',                       Str()), # Int()),\n",
    "    Fld('minimum_maximum_nights',                       Str()), # Int()),\n",
    "    Fld('maximum_maximum_nights',                       Str()), # Int()),\n",
    "    Fld('minimum_nights_avg_ntm',                       Str()), # Int()),\n",
    "    Fld('maximum_nights_avg_ntm',                       Str()), # Int()),\n",
    "    Fld('calendar_updated',                             Str()), # Date()),\n",
    "    Fld('has_availability',                             Str()),\n",
    "    Fld('availability_30',                              Str()), # Int()),\n",
    "    Fld('availability_60',                              Str()), # Int()),\n",
    "    Fld('availability_90',                              Str()), # Int()),\n",
    "    Fld('availability_365',                             Str()), # Int()),\n",
    "    Fld('calendar_last_scraped',                        Str()),\n",
    "    Fld('number_of_reviews',                            Str()), # Int()),\n",
    "    Fld('number_of_reviews_ltm',                        Str()), # Int()),\n",
    "    Fld('number_of_reviews_l30d',                       Str()), # Int()),\n",
    "    Fld('first_review',                                 Str()), # Date()),\n",
    "    Fld('last_review',                                  Str()), # Date()),\n",
    "    Fld('review_scores_rating',                         Str()), # Int()),\n",
    "    Fld('review_scores_accuracy',                       Str()), # Int()),\n",
    "    Fld('review_scores_cleanliness',                    Str()), # Int()),\n",
    "    Fld('review_scores_checkin',                        Str()), # Int()),\n",
    "    Fld('review_scores_communication',                  Str()), # Int()),\n",
    "    Fld('review_scores_location',                       Str()), # Int()),\n",
    "    Fld('review_scores_value',                          Str()), # Int()),\n",
    "    Fld('license',                                      Str()),\n",
    "    Fld('instant_bookable',                             Str()),\n",
    "    Fld('calculated_host_listings_count',               Str()), # Int()),\n",
    "    Fld('calculated_host_listings_count_entire_homes',  Str()), # Int()),\n",
    "    Fld('calculated_host_listings_count_private_rooms', Str()), # Int()),\n",
    "    Fld('calculated_host_listings_count_shared_rooms',  Str()), # Int()),\n",
    "    Fld('reviews_per_month',                            Str()), # Int())\n",
    "])\n",
    "\n",
    "df_listing  = spark.read.option(\"header\",\"true\").format(\"csv\") \\\n",
    "                   .option(\"inferSchema\", \"true\") \\\n",
    "                   .load(list_det_csv)\n",
    "\n",
    "                 # .schema(list_detSchema) \\\n",
    "\n",
    "df_listing.limit(2).toPandas()"
   ]
  },
  {
   "cell_type": "markdown",
   "metadata": {},
   "source": [
    "#### \"reviews\" is a representation of one of the four dimension tables"
   ]
  },
  {
   "cell_type": "code",
   "execution_count": 28,
   "metadata": {},
   "outputs": [
    {
     "name": "stdout",
     "output_type": "stream",
     "text": [
      "+----------+-------+\n",
      "|listing_id|reviews|\n",
      "+----------+-------+\n",
      "|  47718598|   1092|\n",
      "|  48465948|    908|\n",
      "|  45175157|    770|\n",
      "|  45739063|    768|\n",
      "|  48488345|    715|\n",
      "+----------+-------+\n",
      "\n"
     ]
    }
   ],
   "source": [
    "# Spark can run SQL Queries on the fly without CREATE TABLE or INSERT INTO statements (advantage!)\n",
    "df_reviews.createOrReplaceTempView(\"reviews\")\n",
    "spark.sql(\"\"\"\n",
    "    SELECT listing_id, count(*) as reviews\n",
    "      FROM reviews\n",
    "     WHERE comments is not null\n",
    "     GROUP by 1\n",
    "     ORDER by reviews desc\n",
    "     LIMIT 5\n",
    "\"\"\").show()"
   ]
  },
  {
   "cell_type": "markdown",
   "metadata": {},
   "source": [
    "#### Following, the Spark Query based on the four dimension table representations, does shown the fact tabel later on labeled \"Booking\"\n",
    "Massive advantage of this is the early verification of the database design as well data fitting. "
   ]
  },
  {
   "cell_type": "code",
   "execution_count": null,
   "metadata": {},
   "outputs": [],
   "source": [
    "df_reviews.createOrReplaceTempView(\"reviews\")\n",
    "df_hoods.createOrReplaceTempView(\"hoods\")\n",
    "df_listing.createOrReplaceTempView(\"listing\")\n",
    "df_calendar.createOrReplaceTempView(\"calendar\")\n",
    "\n",
    "spark.sql(\"\"\"\n",
    "    SELECT *\n",
    "      FROM calendar \n",
    "      LEFT JOIN listing \n",
    "             ON (listing.id = calendar.listing_id)\n",
    "      LEFT JOIN reviews \n",
    "           using (listing_id)\n",
    "     LIMIT 1\n",
    "\"\"\").show()"
   ]
  },
  {
   "cell_type": "markdown",
   "metadata": {},
   "source": [
    "### Step 4: Run Pipelines to Model the Data \n",
    "#### 4.1 Create the data model\n",
    "Build the data pipelines to create the data model:   \n",
    "* Define destination S3 Bucket on AWS\n",
    "* Definitions of the dimension table representations ready to upload\n",
    "* Definition of the fact table representation \"Booking\" by joining\n",
    "* Writing all the defined table representations to S3 Bucket\n",
    "* Reading from S3 Bucket and creating again the table objects to make quality checks\n",
    "* made a quality check"
   ]
  },
  {
   "cell_type": "markdown",
   "metadata": {},
   "source": [
    "#### Define S3 Bucket destination"
   ]
  },
  {
   "cell_type": "code",
   "execution_count": 12,
   "metadata": {},
   "outputs": [],
   "source": [
    "output_data = \"s3a://capstone-project-out/\""
   ]
  },
  {
   "cell_type": "code",
   "execution_count": 13,
   "metadata": {},
   "outputs": [],
   "source": [
    "# NEIGHBOURHOODS - extract columns to create Hoods table\n",
    "hoods_table = df_hoods.select('neighbourhood_group', 'neighbourhood')"
   ]
  },
  {
   "cell_type": "code",
   "execution_count": 32,
   "metadata": {},
   "outputs": [
    {
     "name": "stdout",
     "output_type": "stream",
     "text": [
      ">> NEIGHBOURHOODS Table ...\n",
      "+-------------------+--------------+\n",
      "|neighbourhood_group| neighbourhood|\n",
      "+-------------------+--------------+\n",
      "|neighbourhood_group| neighbourhood|\n",
      "|               null|Álvaro Obregón|\n",
      "|               null|  Azcapotzalco|\n",
      "+-------------------+--------------+\n",
      "only showing top 3 rows\n",
      "\n"
     ]
    }
   ],
   "source": [
    "print(\">> NEIGHBOURHOODS Table ...\")\n",
    "hoods_table.show(3)"
   ]
  },
  {
   "cell_type": "code",
   "execution_count": 33,
   "metadata": {},
   "outputs": [
    {
     "name": "stdout",
     "output_type": "stream",
     "text": [
      ">> NEIGHBOURHOODS Table ...\n"
     ]
    },
    {
     "data": {
      "text/html": [
       "<div>\n",
       "<style scoped>\n",
       "    .dataframe tbody tr th:only-of-type {\n",
       "        vertical-align: middle;\n",
       "    }\n",
       "\n",
       "    .dataframe tbody tr th {\n",
       "        vertical-align: top;\n",
       "    }\n",
       "\n",
       "    .dataframe thead th {\n",
       "        text-align: right;\n",
       "    }\n",
       "</style>\n",
       "<table border=\"1\" class=\"dataframe\">\n",
       "  <thead>\n",
       "    <tr style=\"text-align: right;\">\n",
       "      <th></th>\n",
       "      <th>neighbourhood_group</th>\n",
       "      <th>neighbourhood</th>\n",
       "    </tr>\n",
       "  </thead>\n",
       "  <tbody>\n",
       "    <tr>\n",
       "      <th>0</th>\n",
       "      <td>neighbourhood_group</td>\n",
       "      <td>neighbourhood</td>\n",
       "    </tr>\n",
       "    <tr>\n",
       "      <th>1</th>\n",
       "      <td>None</td>\n",
       "      <td>Álvaro Obregón</td>\n",
       "    </tr>\n",
       "    <tr>\n",
       "      <th>2</th>\n",
       "      <td>None</td>\n",
       "      <td>Azcapotzalco</td>\n",
       "    </tr>\n",
       "  </tbody>\n",
       "</table>\n",
       "</div>"
      ],
      "text/plain": [
       "   neighbourhood_group   neighbourhood\n",
       "0  neighbourhood_group   neighbourhood\n",
       "1                 None  Álvaro Obregón\n",
       "2                 None    Azcapotzalco"
      ]
     },
     "execution_count": 33,
     "metadata": {},
     "output_type": "execute_result"
    }
   ],
   "source": [
    "print(\">> NEIGHBOURHOODS Table ...\")\n",
    "hoods_table.limit(3).toPandas()"
   ]
  },
  {
   "cell_type": "code",
   "execution_count": 14,
   "metadata": {},
   "outputs": [],
   "source": [
    "# LISTING - extract columns to create LISTING table\n",
    "df_listing       = df_listing.withColumn('month', month('host_since'))\n",
    "\n",
    "# Only using columns of interest (demo). Including all will slow down execution for review\n",
    "# 'adjusted_price', > 'price'\n",
    "listing_columns  = ['id','name','description','host_id','host_name','host_since', \\\n",
    "                   'month','source','latitude','longitude', 'price',\\\n",
    "                   'review_scores_rating','reviews_per_month','room_type', \\\n",
    "                   'accommodates','bathrooms','bedrooms','beds','neighbourhood_cleansed']\n",
    "listing_table    = df_listing.selectExpr(listing_columns).dropDuplicates()"
   ]
  },
  {
   "cell_type": "code",
   "execution_count": 35,
   "metadata": {},
   "outputs": [
    {
     "name": "stdout",
     "output_type": "stream",
     "text": [
      ">> LISTING Table ...\n"
     ]
    },
    {
     "data": {
      "text/plain": [
       "[Row(id='2444573', name='SPEED WiFi Apartment -Olloqui Park near Coyoacan', description='Beautiful furnished apartment for temporary rent in Mexico City, located in Acacias neighborhood. Quiet and safe residential zone, very close to Metro (subway) Coyoacán station; bike service, EcoBici,  is available at the park. The place is very close to Coyoacán downtown, one of the most beautiful neighborhoods in Mexico City. It has a big desk and confortable office chair where you can work comfortably.<br /><br /><b>The space</b><br />This beautiful apartment is perfect to accommodate up to two people; it has one bedroom with a queen size bed; two full bathrooms. <br />It features excellent natural light, bamboo floors, plants and books, fully equipped kitchen (no microwave but gas oven), and laundry room with dryer and and washing machine. It includes one parking space. Working desk and chair.<br /><br /><b>Guest access</b><br />Enjoy the full apartment. The rent includes WiFi internet with excellent speed for virtual meetings and other Internet needs such as streaming service;  li', host_id='12497740', host_name='Joaquin', host_since='2014-02-23', month=2, source='city scrape', latitude='19.36229', longitude='-99.17355', price=' \"\"Luggage dropoff allowed\"\"', review_scores_rating=' \"\"Hangers\"\"', reviews_per_month=' \"\"Free washer \\\\u2013 In unit\"\"', room_type='Entire home/apt', accommodates='2', bathrooms=None, bedrooms='1', beds='1', neighbourhood_cleansed='Benito Juárez')]"
      ]
     },
     "execution_count": 35,
     "metadata": {},
     "output_type": "execute_result"
    }
   ],
   "source": [
    "print(\">> LISTING Table ...\")\n",
    "listing_table.head(1)"
   ]
  },
  {
   "cell_type": "code",
   "execution_count": 36,
   "metadata": {},
   "outputs": [
    {
     "name": "stdout",
     "output_type": "stream",
     "text": [
      ">> LISTING Table ...\n",
      "+--------------------+--------------------+--------------------+--------+---------+----------+-----+---------------+--------+---------+--------------------+--------------------+--------------------+---------------+------------+---------+--------+----+----------------------+\n",
      "|                  id|                name|         description| host_id|host_name|host_since|month|         source|latitude|longitude|               price|review_scores_rating|   reviews_per_month|      room_type|accommodates|bathrooms|bedrooms|beds|neighbourhood_cleansed|\n",
      "+--------------------+--------------------+--------------------+--------+---------+----------+-----+---------------+--------+---------+--------------------+--------------------+--------------------+---------------+------------+---------+--------+----+----------------------+\n",
      "|             2444573|SPEED WiFi Apartm...|Beautiful furnish...|12497740|  Joaquin|2014-02-23|    2|    city scrape|19.36229|-99.17355| \"\"Luggage dropof...|         \"\"Hangers\"\"| \"\"Free washer \\u...|Entire home/apt|           2|     null|       1|   1|         Benito Juárez|\n",
      "|             1555819|New Suite in Vint...|The mansion is a ...| 8282570|   Thomas|2013-08-20|    8|    city scrape|19.41709|-99.16603| \"\"Luggage dropof...|           \"\"Dryer\"\"|                null|Entire home/apt|           2|     null|       1|   1|            Cuauhtémoc|\n",
      "|Architecte mexicaine|                null|                null|    null|     null|      null| null| faire du vélo.|    null|     null|                null|                null|                null|           null|        null|     null|    null|null|                  null|\n",
      "+--------------------+--------------------+--------------------+--------+---------+----------+-----+---------------+--------+---------+--------------------+--------------------+--------------------+---------------+------------+---------+--------+----+----------------------+\n",
      "only showing top 3 rows\n",
      "\n"
     ]
    }
   ],
   "source": [
    "print(\">> LISTING Table ...\")\n",
    "listing_table.show(3)"
   ]
  },
  {
   "cell_type": "code",
   "execution_count": 37,
   "metadata": {},
   "outputs": [
    {
     "name": "stdout",
     "output_type": "stream",
     "text": [
      ">> LISTING Table ...\n"
     ]
    },
    {
     "data": {
      "text/html": [
       "<div>\n",
       "<style scoped>\n",
       "    .dataframe tbody tr th:only-of-type {\n",
       "        vertical-align: middle;\n",
       "    }\n",
       "\n",
       "    .dataframe tbody tr th {\n",
       "        vertical-align: top;\n",
       "    }\n",
       "\n",
       "    .dataframe thead th {\n",
       "        text-align: right;\n",
       "    }\n",
       "</style>\n",
       "<table border=\"1\" class=\"dataframe\">\n",
       "  <thead>\n",
       "    <tr style=\"text-align: right;\">\n",
       "      <th></th>\n",
       "      <th>id</th>\n",
       "      <th>name</th>\n",
       "      <th>description</th>\n",
       "      <th>host_id</th>\n",
       "      <th>host_name</th>\n",
       "      <th>host_since</th>\n",
       "      <th>month</th>\n",
       "      <th>source</th>\n",
       "      <th>latitude</th>\n",
       "      <th>longitude</th>\n",
       "      <th>price</th>\n",
       "      <th>review_scores_rating</th>\n",
       "      <th>reviews_per_month</th>\n",
       "      <th>room_type</th>\n",
       "      <th>accommodates</th>\n",
       "      <th>bathrooms</th>\n",
       "      <th>bedrooms</th>\n",
       "      <th>beds</th>\n",
       "      <th>neighbourhood_cleansed</th>\n",
       "    </tr>\n",
       "  </thead>\n",
       "  <tbody>\n",
       "    <tr>\n",
       "      <th>0</th>\n",
       "      <td>2444573</td>\n",
       "      <td>SPEED WiFi Apartment -Olloqui Park near Coyoacan</td>\n",
       "      <td>Beautiful furnished apartment for temporary re...</td>\n",
       "      <td>12497740</td>\n",
       "      <td>Joaquin</td>\n",
       "      <td>2014-02-23</td>\n",
       "      <td>2.0</td>\n",
       "      <td>city scrape</td>\n",
       "      <td>19.36229</td>\n",
       "      <td>-99.17355</td>\n",
       "      <td>\"\"Luggage dropoff allowed\"\"</td>\n",
       "      <td>\"\"Hangers\"\"</td>\n",
       "      <td>\"\"Free washer \\u2013 In unit\"\"</td>\n",
       "      <td>Entire home/apt</td>\n",
       "      <td>2</td>\n",
       "      <td>None</td>\n",
       "      <td>1</td>\n",
       "      <td>1</td>\n",
       "      <td>Benito Juárez</td>\n",
       "    </tr>\n",
       "    <tr>\n",
       "      <th>1</th>\n",
       "      <td>1555819</td>\n",
       "      <td>New Suite in Vintage Home in Roma/Condesa</td>\n",
       "      <td>The mansion is a pleasant 15 minute walk from ...</td>\n",
       "      <td>8282570</td>\n",
       "      <td>Thomas</td>\n",
       "      <td>2013-08-20</td>\n",
       "      <td>8.0</td>\n",
       "      <td>city scrape</td>\n",
       "      <td>19.41709</td>\n",
       "      <td>-99.16603</td>\n",
       "      <td>\"\"Luggage dropoff allowed\"\"</td>\n",
       "      <td>\"\"Dryer\"\"</td>\n",
       "      <td>None</td>\n",
       "      <td>Entire home/apt</td>\n",
       "      <td>2</td>\n",
       "      <td>None</td>\n",
       "      <td>1</td>\n",
       "      <td>1</td>\n",
       "      <td>Cuauhtémoc</td>\n",
       "    </tr>\n",
       "    <tr>\n",
       "      <th>2</th>\n",
       "      <td>Architecte mexicaine</td>\n",
       "      <td>None</td>\n",
       "      <td>None</td>\n",
       "      <td>None</td>\n",
       "      <td>None</td>\n",
       "      <td>None</td>\n",
       "      <td>NaN</td>\n",
       "      <td>faire du vélo.</td>\n",
       "      <td>None</td>\n",
       "      <td>None</td>\n",
       "      <td>None</td>\n",
       "      <td>None</td>\n",
       "      <td>None</td>\n",
       "      <td>None</td>\n",
       "      <td>None</td>\n",
       "      <td>None</td>\n",
       "      <td>None</td>\n",
       "      <td>None</td>\n",
       "      <td>None</td>\n",
       "    </tr>\n",
       "  </tbody>\n",
       "</table>\n",
       "</div>"
      ],
      "text/plain": [
       "                     id                                              name  \\\n",
       "0               2444573  SPEED WiFi Apartment -Olloqui Park near Coyoacan   \n",
       "1               1555819         New Suite in Vintage Home in Roma/Condesa   \n",
       "2  Architecte mexicaine                                              None   \n",
       "\n",
       "                                         description   host_id host_name  \\\n",
       "0  Beautiful furnished apartment for temporary re...  12497740   Joaquin   \n",
       "1  The mansion is a pleasant 15 minute walk from ...   8282570    Thomas   \n",
       "2                                               None      None      None   \n",
       "\n",
       "   host_since  month           source  latitude  longitude  \\\n",
       "0  2014-02-23    2.0      city scrape  19.36229  -99.17355   \n",
       "1  2013-08-20    8.0      city scrape  19.41709  -99.16603   \n",
       "2        None    NaN   faire du vélo.      None       None   \n",
       "\n",
       "                          price review_scores_rating  \\\n",
       "0   \"\"Luggage dropoff allowed\"\"          \"\"Hangers\"\"   \n",
       "1   \"\"Luggage dropoff allowed\"\"            \"\"Dryer\"\"   \n",
       "2                          None                 None   \n",
       "\n",
       "                 reviews_per_month        room_type accommodates bathrooms  \\\n",
       "0   \"\"Free washer \\u2013 In unit\"\"  Entire home/apt            2      None   \n",
       "1                             None  Entire home/apt            2      None   \n",
       "2                             None             None         None      None   \n",
       "\n",
       "  bedrooms  beds neighbourhood_cleansed  \n",
       "0        1     1          Benito Juárez  \n",
       "1        1     1             Cuauhtémoc  \n",
       "2     None  None                   None  "
      ]
     },
     "execution_count": 37,
     "metadata": {},
     "output_type": "execute_result"
    }
   ],
   "source": [
    "print(\">> LISTING Table ...\")\n",
    "listing_table.limit(3).toPandas()"
   ]
  },
  {
   "cell_type": "code",
   "execution_count": 15,
   "metadata": {},
   "outputs": [],
   "source": [
    "# CALENDAR - extract columns to create CALENDAR table\n",
    "df_calendar      = df_calendar.withColumn('month', month('date'))\n",
    "\n",
    "calendar_columns = ['listing_id', 'date', 'available', 'adjusted_price', 'month']\n",
    "calendar_table   = df_calendar.selectExpr(calendar_columns).dropDuplicates()"
   ]
  },
  {
   "cell_type": "code",
   "execution_count": 39,
   "metadata": {},
   "outputs": [
    {
     "name": "stdout",
     "output_type": "stream",
     "text": [
      ">> CALENDAR Table ...\n"
     ]
    },
    {
     "data": {
      "text/plain": [
       "[Row(listing_id=35797, date=datetime.date(2023, 6, 14), available='t', adjusted_price='$3,658.00', month=6),\n",
       " Row(listing_id=44616, date=datetime.date(2023, 6, 6), available='t', adjusted_price='$18,000.00', month=6),\n",
       " Row(listing_id=44616, date=datetime.date(2023, 8, 1), available='t', adjusted_price='$18,000.00', month=8)]"
      ]
     },
     "execution_count": 39,
     "metadata": {},
     "output_type": "execute_result"
    }
   ],
   "source": [
    "print(\">> CALENDAR Table ...\")\n",
    "calendar_table.head(3)"
   ]
  },
  {
   "cell_type": "code",
   "execution_count": 40,
   "metadata": {},
   "outputs": [
    {
     "name": "stdout",
     "output_type": "stream",
     "text": [
      ">> CALENDAR Table ...\n",
      "+----------+----------+---------+--------------+-----+\n",
      "|listing_id|      date|available|adjusted_price|month|\n",
      "+----------+----------+---------+--------------+-----+\n",
      "|     35797|2023-06-14|        t|     $3,658.00|    6|\n",
      "|     44616|2023-06-06|        t|    $18,000.00|    6|\n",
      "|     44616|2023-08-01|        t|    $18,000.00|    8|\n",
      "+----------+----------+---------+--------------+-----+\n",
      "only showing top 3 rows\n",
      "\n"
     ]
    }
   ],
   "source": [
    "print(\">> CALENDAR Table ...\")\n",
    "calendar_table.show(3)"
   ]
  },
  {
   "cell_type": "code",
   "execution_count": 41,
   "metadata": {},
   "outputs": [
    {
     "name": "stdout",
     "output_type": "stream",
     "text": [
      ">> CALENDAR Table ...\n"
     ]
    },
    {
     "data": {
      "text/html": [
       "<div>\n",
       "<style scoped>\n",
       "    .dataframe tbody tr th:only-of-type {\n",
       "        vertical-align: middle;\n",
       "    }\n",
       "\n",
       "    .dataframe tbody tr th {\n",
       "        vertical-align: top;\n",
       "    }\n",
       "\n",
       "    .dataframe thead th {\n",
       "        text-align: right;\n",
       "    }\n",
       "</style>\n",
       "<table border=\"1\" class=\"dataframe\">\n",
       "  <thead>\n",
       "    <tr style=\"text-align: right;\">\n",
       "      <th></th>\n",
       "      <th>listing_id</th>\n",
       "      <th>date</th>\n",
       "      <th>available</th>\n",
       "      <th>adjusted_price</th>\n",
       "      <th>month</th>\n",
       "    </tr>\n",
       "  </thead>\n",
       "  <tbody>\n",
       "    <tr>\n",
       "      <th>0</th>\n",
       "      <td>35797</td>\n",
       "      <td>2023-06-14</td>\n",
       "      <td>t</td>\n",
       "      <td>$3,658.00</td>\n",
       "      <td>6</td>\n",
       "    </tr>\n",
       "    <tr>\n",
       "      <th>1</th>\n",
       "      <td>44616</td>\n",
       "      <td>2023-06-06</td>\n",
       "      <td>t</td>\n",
       "      <td>$18,000.00</td>\n",
       "      <td>6</td>\n",
       "    </tr>\n",
       "    <tr>\n",
       "      <th>2</th>\n",
       "      <td>44616</td>\n",
       "      <td>2023-08-01</td>\n",
       "      <td>t</td>\n",
       "      <td>$18,000.00</td>\n",
       "      <td>8</td>\n",
       "    </tr>\n",
       "  </tbody>\n",
       "</table>\n",
       "</div>"
      ],
      "text/plain": [
       "   listing_id        date available adjusted_price  month\n",
       "0       35797  2023-06-14         t      $3,658.00      6\n",
       "1       44616  2023-06-06         t     $18,000.00      6\n",
       "2       44616  2023-08-01         t     $18,000.00      8"
      ]
     },
     "execution_count": 41,
     "metadata": {},
     "output_type": "execute_result"
    }
   ],
   "source": [
    "print(\">> CALENDAR Table ...\")\n",
    "calendar_table.limit(3).toPandas()"
   ]
  },
  {
   "cell_type": "code",
   "execution_count": 42,
   "metadata": {},
   "outputs": [
    {
     "name": "stdout",
     "output_type": "stream",
     "text": [
      "root\n",
      " |-- listing_id: integer (nullable = true)\n",
      " |-- id: integer (nullable = true)\n",
      " |-- date: date (nullable = true)\n",
      " |-- reviewer_id: integer (nullable = true)\n",
      " |-- reviewer_name: string (nullable = true)\n",
      " |-- comments: string (nullable = true)\n",
      "\n"
     ]
    }
   ],
   "source": [
    "# ... Checking\n",
    "df_reviews.printSchema()"
   ]
  },
  {
   "cell_type": "markdown",
   "metadata": {},
   "source": [
    "> Be careful, when merging two tables, same column names is ambigous!   \n",
    "So, decide which column should be renamed, to have unique column names!"
   ]
  },
  {
   "cell_type": "code",
   "execution_count": 16,
   "metadata": {},
   "outputs": [
    {
     "name": "stdout",
     "output_type": "stream",
     "text": [
      "root\n",
      " |-- listing_id: integer (nullable = true)\n",
      " |-- review_id: integer (nullable = true)\n",
      " |-- review_date: date (nullable = true)\n",
      " |-- reviewer_id: integer (nullable = true)\n",
      " |-- reviewer_name: string (nullable = true)\n",
      " |-- comments: string (nullable = true)\n",
      "\n"
     ]
    }
   ],
   "source": [
    "# Required, otherwise it is ambigous when merging booking_stage_table with reviews_table as booking_table!\n",
    "df_reviews = df_reviews.withColumnRenamed(\"id\",   \"review_id\") \\\n",
    "                       .withColumnRenamed(\"date\", \"review_date\")\n",
    "\n",
    "# ... Checking\n",
    "df_reviews.printSchema()"
   ]
  },
  {
   "cell_type": "code",
   "execution_count": 17,
   "metadata": {},
   "outputs": [],
   "source": [
    "# REVIEWS TABLE - extract columns to create REVIEWS table\n",
    "\n",
    "df_reviews       = df_reviews.na.drop()\n",
    "df_reviews       = df_reviews.withColumn('month', month('review_date'))\n",
    "\n",
    "reviews_columns  = ['listing_id', 'review_id', 'review_date', \\\n",
    "                    'reviewer_id', 'reviewer_name', 'comments', 'month']\n",
    "reviews_table    = df_reviews.selectExpr(reviews_columns).dropDuplicates()"
   ]
  },
  {
   "cell_type": "code",
   "execution_count": 45,
   "metadata": {},
   "outputs": [
    {
     "name": "stdout",
     "output_type": "stream",
     "text": [
      ">> REVIEWS Table ...\n"
     ]
    },
    {
     "data": {
      "text/plain": [
       "[Row(listing_id=2072354, review_id=9530203, review_date=datetime.date(2014, 1, 1), reviewer_id=4727516, reviewer_name='Ashley', comments='This studio apartment is located in a great neighborhood (Coyoacan), near Viveros and near markets, restaurants, museums and churches.  The apartment is very comfortable, and our hosts, Hilda, Monica, and family, were all very friendly and helpful during our stay!  Monica gave us great advice and maps for exploring the surrounding areas.  We would definitely stay here again! ', month=1),\n",
       " Row(listing_id=696037, review_id=8901175, review_date=datetime.date(2013, 11, 25), reviewer_id=990894, reviewer_name='Tim', comments=\"Comfortable apartment, relatively convenient location. It's not that hard to get there from the airport (even though it's across the city) and public transit is accessible. Gonzalo is very helpful and accomodating. There's a really nice grocery store a block away. There is a lot of construction in the neighborhood but it is not a bother unless you need complete silence during daylight hours. Great pool in the building! \", month=11),\n",
       " Row(listing_id=704779, review_id=11645946, review_date=datetime.date(2014, 4, 10), reviewer_id=13495018, reviewer_name='Michael', comments='This was our first trip to Mexico and our first time using Airbnb and Bruce was a great host.  He had his driver Riccardo  pick us up from the airport, for a fee which made life easier for us.  Bruce met us at the apartment and showed us where everything was and even provided us with a mobile phone for our use.  There are maps of the city and guide books available as well.  Apartment 104 is basic, but clean and centrally located to public transport and just a short walk to the Zocalo.  We even used Riccardo for a day visit to the pyramids.  A great introduction to Airbnb.', month=4)]"
      ]
     },
     "execution_count": 45,
     "metadata": {},
     "output_type": "execute_result"
    }
   ],
   "source": [
    "print(\">> REVIEWS Table ...\")\n",
    "reviews_table.head(3)"
   ]
  },
  {
   "cell_type": "code",
   "execution_count": 46,
   "metadata": {},
   "outputs": [
    {
     "name": "stdout",
     "output_type": "stream",
     "text": [
      ">> REVIEWS Table ...\n",
      "+----------+---------+-----------+-----------+-------------+--------------------+-----+\n",
      "|listing_id|review_id|review_date|reviewer_id|reviewer_name|            comments|month|\n",
      "+----------+---------+-----------+-----------+-------------+--------------------+-----+\n",
      "|   2072354|  9530203| 2014-01-01|    4727516|       Ashley|This studio apart...|    1|\n",
      "|    696037|  8901175| 2013-11-25|     990894|          Tim|Comfortable apart...|   11|\n",
      "|    704779| 11645946| 2014-04-10|   13495018|      Michael|This was our firs...|    4|\n",
      "+----------+---------+-----------+-----------+-------------+--------------------+-----+\n",
      "only showing top 3 rows\n",
      "\n"
     ]
    }
   ],
   "source": [
    "print(\">> REVIEWS Table ...\")\n",
    "reviews_table.show(3)"
   ]
  },
  {
   "cell_type": "code",
   "execution_count": 47,
   "metadata": {},
   "outputs": [
    {
     "name": "stdout",
     "output_type": "stream",
     "text": [
      ">> REVIEWS Table ...\n"
     ]
    },
    {
     "data": {
      "text/html": [
       "<div>\n",
       "<style scoped>\n",
       "    .dataframe tbody tr th:only-of-type {\n",
       "        vertical-align: middle;\n",
       "    }\n",
       "\n",
       "    .dataframe tbody tr th {\n",
       "        vertical-align: top;\n",
       "    }\n",
       "\n",
       "    .dataframe thead th {\n",
       "        text-align: right;\n",
       "    }\n",
       "</style>\n",
       "<table border=\"1\" class=\"dataframe\">\n",
       "  <thead>\n",
       "    <tr style=\"text-align: right;\">\n",
       "      <th></th>\n",
       "      <th>listing_id</th>\n",
       "      <th>review_id</th>\n",
       "      <th>review_date</th>\n",
       "      <th>reviewer_id</th>\n",
       "      <th>reviewer_name</th>\n",
       "      <th>comments</th>\n",
       "      <th>month</th>\n",
       "    </tr>\n",
       "  </thead>\n",
       "  <tbody>\n",
       "    <tr>\n",
       "      <th>0</th>\n",
       "      <td>2072354</td>\n",
       "      <td>9530203</td>\n",
       "      <td>2014-01-01</td>\n",
       "      <td>4727516</td>\n",
       "      <td>Ashley</td>\n",
       "      <td>This studio apartment is located in a great ne...</td>\n",
       "      <td>1</td>\n",
       "    </tr>\n",
       "    <tr>\n",
       "      <th>1</th>\n",
       "      <td>696037</td>\n",
       "      <td>8901175</td>\n",
       "      <td>2013-11-25</td>\n",
       "      <td>990894</td>\n",
       "      <td>Tim</td>\n",
       "      <td>Comfortable apartment, relatively convenient l...</td>\n",
       "      <td>11</td>\n",
       "    </tr>\n",
       "    <tr>\n",
       "      <th>2</th>\n",
       "      <td>704779</td>\n",
       "      <td>11645946</td>\n",
       "      <td>2014-04-10</td>\n",
       "      <td>13495018</td>\n",
       "      <td>Michael</td>\n",
       "      <td>This was our first trip to Mexico and our firs...</td>\n",
       "      <td>4</td>\n",
       "    </tr>\n",
       "  </tbody>\n",
       "</table>\n",
       "</div>"
      ],
      "text/plain": [
       "   listing_id  review_id review_date  reviewer_id reviewer_name  \\\n",
       "0     2072354    9530203  2014-01-01      4727516        Ashley   \n",
       "1      696037    8901175  2013-11-25       990894           Tim   \n",
       "2      704779   11645946  2014-04-10     13495018       Michael   \n",
       "\n",
       "                                            comments  month  \n",
       "0  This studio apartment is located in a great ne...      1  \n",
       "1  Comfortable apartment, relatively convenient l...     11  \n",
       "2  This was our first trip to Mexico and our firs...      4  "
      ]
     },
     "execution_count": 47,
     "metadata": {},
     "output_type": "execute_result"
    }
   ],
   "source": [
    "print(\">> REVIEWS Table ...\")\n",
    "reviews_table.limit(3).toPandas()"
   ]
  },
  {
   "cell_type": "code",
   "execution_count": 48,
   "metadata": {},
   "outputs": [
    {
     "name": "stdout",
     "output_type": "stream",
     "text": [
      ">> DIMENSION Tables data is prepared and ready to be uploaded to S3\n"
     ]
    }
   ],
   "source": [
    "print('>> DIMENSION Tables data is prepared and ready to be uploaded to S3')"
   ]
  },
  {
   "cell_type": "code",
   "execution_count": 18,
   "metadata": {},
   "outputs": [],
   "source": [
    "df_bookings_stage = df_calendar.join(listing_table, \\\n",
    "                                     on=[calendar_table.listing_id == \\\n",
    "                                         listing_table.id], \\\n",
    "                                     how='left')"
   ]
  },
  {
   "cell_type": "code",
   "execution_count": 50,
   "metadata": {},
   "outputs": [
    {
     "name": "stdout",
     "output_type": "stream",
     "text": [
      "root\n",
      " |-- listing_id: integer (nullable = true)\n",
      " |-- date: date (nullable = true)\n",
      " |-- available: string (nullable = true)\n",
      " |-- adjusted_price: string (nullable = true)\n",
      " |-- month: integer (nullable = true)\n",
      " |-- id: string (nullable = true)\n",
      " |-- name: string (nullable = true)\n",
      " |-- description: string (nullable = true)\n",
      " |-- host_id: string (nullable = true)\n",
      " |-- host_name: string (nullable = true)\n",
      " |-- host_since: string (nullable = true)\n",
      " |-- month: integer (nullable = true)\n",
      " |-- source: string (nullable = true)\n",
      " |-- latitude: string (nullable = true)\n",
      " |-- longitude: string (nullable = true)\n",
      " |-- price: string (nullable = true)\n",
      " |-- review_scores_rating: string (nullable = true)\n",
      " |-- reviews_per_month: string (nullable = true)\n",
      " |-- room_type: string (nullable = true)\n",
      " |-- accommodates: string (nullable = true)\n",
      " |-- bathrooms: string (nullable = true)\n",
      " |-- bedrooms: string (nullable = true)\n",
      " |-- beds: string (nullable = true)\n",
      " |-- neighbourhood_cleansed: string (nullable = true)\n",
      "\n"
     ]
    }
   ],
   "source": [
    "df_bookings_stage.printSchema()"
   ]
  },
  {
   "cell_type": "code",
   "execution_count": 19,
   "metadata": {},
   "outputs": [],
   "source": [
    "df_bookings    = df_bookings_stage.join(reviews_table, \\\n",
    "                                        on=[df_bookings_stage.listing_id == \\\n",
    "                                            reviews_table.listing_id], \\\n",
    "                                        how='left')"
   ]
  },
  {
   "cell_type": "code",
   "execution_count": 53,
   "metadata": {},
   "outputs": [
    {
     "name": "stdout",
     "output_type": "stream",
     "text": [
      "root\n",
      " |-- listing_id: integer (nullable = true)\n",
      " |-- date: date (nullable = true)\n",
      " |-- available: string (nullable = true)\n",
      " |-- adjusted_price: string (nullable = true)\n",
      " |-- month: integer (nullable = true)\n",
      " |-- id: string (nullable = true)\n",
      " |-- name: string (nullable = true)\n",
      " |-- description: string (nullable = true)\n",
      " |-- host_id: string (nullable = true)\n",
      " |-- host_name: string (nullable = true)\n",
      " |-- host_since: string (nullable = true)\n",
      " |-- month: integer (nullable = true)\n",
      " |-- source: string (nullable = true)\n",
      " |-- latitude: string (nullable = true)\n",
      " |-- longitude: string (nullable = true)\n",
      " |-- price: string (nullable = true)\n",
      " |-- review_scores_rating: string (nullable = true)\n",
      " |-- reviews_per_month: string (nullable = true)\n",
      " |-- room_type: string (nullable = true)\n",
      " |-- accommodates: string (nullable = true)\n",
      " |-- bathrooms: string (nullable = true)\n",
      " |-- bedrooms: string (nullable = true)\n",
      " |-- beds: string (nullable = true)\n",
      " |-- neighbourhood_cleansed: string (nullable = true)\n",
      " |-- listing_id: integer (nullable = true)\n",
      " |-- review_id: integer (nullable = true)\n",
      " |-- review_date: date (nullable = true)\n",
      " |-- reviewer_id: integer (nullable = true)\n",
      " |-- reviewer_name: string (nullable = true)\n",
      " |-- comments: string (nullable = true)\n",
      " |-- month: integer (nullable = true)\n",
      "\n",
      "None\n",
      "+----------+----------+---------+--------------+-----+-------+--------------------+--------------------+-------+---------+----------+-----+-----------+--------+---------+-----+--------------------+-----------------+---------+------------+---------+--------+----+----------------------+----------+---------+-----------+-----------+-------------+--------+-----+\n",
      "|listing_id|      date|available|adjusted_price|month|     id|                name|         description|host_id|host_name|host_since|month|     source|latitude|longitude|price|review_scores_rating|reviews_per_month|room_type|accommodates|bathrooms|bedrooms|beds|neighbourhood_cleansed|listing_id|review_id|review_date|reviewer_id|reviewer_name|comments|month|\n",
      "+----------+----------+---------+--------------+-----+-------+--------------------+--------------------+-------+---------+----------+-----+-----------+--------+---------+-----+--------------------+-----------------+---------+------------+---------+--------+----+----------------------+----------+---------+-----------+-----------+-------------+--------+-----+\n",
      "|   1656382|2023-03-30|        t|     $1,171.00|    3|1656382|Habitación indivi...|Habitación privad...| 796221|    Karla|2011-07-09|    7|city scrape|    null|     null| null|                null|             null|     null|        null|     null|    null|null|                  null|      null|     null|       null|       null|         null|    null| null|\n",
      "|   1656382|2023-03-31|        t|     $1,171.00|    3|1656382|Habitación indivi...|Habitación privad...| 796221|    Karla|2011-07-09|    7|city scrape|    null|     null| null|                null|             null|     null|        null|     null|    null|null|                  null|      null|     null|       null|       null|         null|    null| null|\n",
      "|   1656382|2023-04-01|        t|     $1,171.00|    4|1656382|Habitación indivi...|Habitación privad...| 796221|    Karla|2011-07-09|    7|city scrape|    null|     null| null|                null|             null|     null|        null|     null|    null|null|                  null|      null|     null|       null|       null|         null|    null| null|\n",
      "+----------+----------+---------+--------------+-----+-------+--------------------+--------------------+-------+---------+----------+-----+-----------+--------+---------+-----+--------------------+-----------------+---------+------------+---------+--------+----+----------------------+----------+---------+-----------+-----------+-------------+--------+-----+\n",
      "only showing top 3 rows\n",
      "\n",
      "None\n"
     ]
    }
   ],
   "source": [
    "print(df_bookings.printSchema())\n",
    "print(df_bookings.show(3))"
   ]
  },
  {
   "cell_type": "code",
   "execution_count": 20,
   "metadata": {},
   "outputs": [],
   "source": [
    "# preparing BOOKINGS before uploading to the S3 as parquet\n",
    "\n",
    "df_bookings      = df_bookings.withColumn('month_review', month('review_date'))\n",
    "\n",
    "# Only using columns of interest (demo). NOTE: Including ALL will slow down execution for review\n",
    "booking_table    = df_bookings.select('id','name','description','host_id','host_name', \\\n",
    "                     'host_since','source','latitude','longitude','adjusted_price', \\\n",
    "                     'review_id','review_date','reviewer_id','review_scores_rating', \\\n",
    "                     'reviews_per_month','room_type','accommodates','bathrooms','bedrooms','beds','month_review')"
   ]
  },
  {
   "cell_type": "code",
   "execution_count": 55,
   "metadata": {},
   "outputs": [
    {
     "name": "stdout",
     "output_type": "stream",
     "text": [
      "+-------+--------------------+--------------------+-------+---------+----------+-----------+--------+---------+--------------+---------+-----------+-----------+--------------------+-----------------+---------+------------+---------+--------+----+------------+\n",
      "|     id|                name|         description|host_id|host_name|host_since|     source|latitude|longitude|adjusted_price|review_id|review_date|reviewer_id|review_scores_rating|reviews_per_month|room_type|accommodates|bathrooms|bedrooms|beds|month_review|\n",
      "+-------+--------------------+--------------------+-------+---------+----------+-----------+--------+---------+--------------+---------+-----------+-----------+--------------------+-----------------+---------+------------+---------+--------+----+------------+\n",
      "|1656382|Habitación indivi...|Habitación privad...| 796221|    Karla|2011-07-09|city scrape|    null|     null|     $1,171.00|     null|       null|       null|                null|             null|     null|        null|     null|    null|null|        null|\n",
      "|1656382|Habitación indivi...|Habitación privad...| 796221|    Karla|2011-07-09|city scrape|    null|     null|     $1,171.00|     null|       null|       null|                null|             null|     null|        null|     null|    null|null|        null|\n",
      "|1656382|Habitación indivi...|Habitación privad...| 796221|    Karla|2011-07-09|city scrape|    null|     null|     $1,171.00|     null|       null|       null|                null|             null|     null|        null|     null|    null|null|        null|\n",
      "+-------+--------------------+--------------------+-------+---------+----------+-----------+--------+---------+--------------+---------+-----------+-----------+--------------------+-----------------+---------+------------+---------+--------+----+------------+\n",
      "only showing top 3 rows\n",
      "\n",
      "None\n"
     ]
    }
   ],
   "source": [
    "print(booking_table.show(3))"
   ]
  },
  {
   "cell_type": "code",
   "execution_count": 56,
   "metadata": {},
   "outputs": [
    {
     "name": "stdout",
     "output_type": "stream",
     "text": [
      ">> BOOKING Table ...\n"
     ]
    },
    {
     "data": {
      "text/html": [
       "<div>\n",
       "<style scoped>\n",
       "    .dataframe tbody tr th:only-of-type {\n",
       "        vertical-align: middle;\n",
       "    }\n",
       "\n",
       "    .dataframe tbody tr th {\n",
       "        vertical-align: top;\n",
       "    }\n",
       "\n",
       "    .dataframe thead th {\n",
       "        text-align: right;\n",
       "    }\n",
       "</style>\n",
       "<table border=\"1\" class=\"dataframe\">\n",
       "  <thead>\n",
       "    <tr style=\"text-align: right;\">\n",
       "      <th></th>\n",
       "      <th>id</th>\n",
       "      <th>name</th>\n",
       "      <th>description</th>\n",
       "      <th>host_id</th>\n",
       "      <th>host_name</th>\n",
       "      <th>host_since</th>\n",
       "      <th>source</th>\n",
       "      <th>latitude</th>\n",
       "      <th>longitude</th>\n",
       "      <th>adjusted_price</th>\n",
       "      <th>...</th>\n",
       "      <th>review_date</th>\n",
       "      <th>reviewer_id</th>\n",
       "      <th>review_scores_rating</th>\n",
       "      <th>reviews_per_month</th>\n",
       "      <th>room_type</th>\n",
       "      <th>accommodates</th>\n",
       "      <th>bathrooms</th>\n",
       "      <th>bedrooms</th>\n",
       "      <th>beds</th>\n",
       "      <th>month_review</th>\n",
       "    </tr>\n",
       "  </thead>\n",
       "  <tbody>\n",
       "    <tr>\n",
       "      <th>0</th>\n",
       "      <td>1656382</td>\n",
       "      <td>Habitación individual c baño propio</td>\n",
       "      <td>Habitación privado con baño propio, amplia, co...</td>\n",
       "      <td>796221</td>\n",
       "      <td>Karla</td>\n",
       "      <td>2011-07-09</td>\n",
       "      <td>city scrape</td>\n",
       "      <td>None</td>\n",
       "      <td>None</td>\n",
       "      <td>$1,171.00</td>\n",
       "      <td>...</td>\n",
       "      <td>None</td>\n",
       "      <td>None</td>\n",
       "      <td>None</td>\n",
       "      <td>None</td>\n",
       "      <td>None</td>\n",
       "      <td>None</td>\n",
       "      <td>None</td>\n",
       "      <td>None</td>\n",
       "      <td>None</td>\n",
       "      <td>None</td>\n",
       "    </tr>\n",
       "    <tr>\n",
       "      <th>1</th>\n",
       "      <td>1656382</td>\n",
       "      <td>Habitación individual c baño propio</td>\n",
       "      <td>Habitación privado con baño propio, amplia, co...</td>\n",
       "      <td>796221</td>\n",
       "      <td>Karla</td>\n",
       "      <td>2011-07-09</td>\n",
       "      <td>city scrape</td>\n",
       "      <td>None</td>\n",
       "      <td>None</td>\n",
       "      <td>$1,171.00</td>\n",
       "      <td>...</td>\n",
       "      <td>None</td>\n",
       "      <td>None</td>\n",
       "      <td>None</td>\n",
       "      <td>None</td>\n",
       "      <td>None</td>\n",
       "      <td>None</td>\n",
       "      <td>None</td>\n",
       "      <td>None</td>\n",
       "      <td>None</td>\n",
       "      <td>None</td>\n",
       "    </tr>\n",
       "    <tr>\n",
       "      <th>2</th>\n",
       "      <td>1656382</td>\n",
       "      <td>Habitación individual c baño propio</td>\n",
       "      <td>Habitación privado con baño propio, amplia, co...</td>\n",
       "      <td>796221</td>\n",
       "      <td>Karla</td>\n",
       "      <td>2011-07-09</td>\n",
       "      <td>city scrape</td>\n",
       "      <td>None</td>\n",
       "      <td>None</td>\n",
       "      <td>$1,171.00</td>\n",
       "      <td>...</td>\n",
       "      <td>None</td>\n",
       "      <td>None</td>\n",
       "      <td>None</td>\n",
       "      <td>None</td>\n",
       "      <td>None</td>\n",
       "      <td>None</td>\n",
       "      <td>None</td>\n",
       "      <td>None</td>\n",
       "      <td>None</td>\n",
       "      <td>None</td>\n",
       "    </tr>\n",
       "  </tbody>\n",
       "</table>\n",
       "<p>3 rows × 21 columns</p>\n",
       "</div>"
      ],
      "text/plain": [
       "        id                                 name  \\\n",
       "0  1656382  Habitación individual c baño propio   \n",
       "1  1656382  Habitación individual c baño propio   \n",
       "2  1656382  Habitación individual c baño propio   \n",
       "\n",
       "                                         description host_id host_name  \\\n",
       "0  Habitación privado con baño propio, amplia, co...  796221     Karla   \n",
       "1  Habitación privado con baño propio, amplia, co...  796221     Karla   \n",
       "2  Habitación privado con baño propio, amplia, co...  796221     Karla   \n",
       "\n",
       "   host_since       source latitude longitude adjusted_price     ...       \\\n",
       "0  2011-07-09  city scrape     None      None      $1,171.00     ...        \n",
       "1  2011-07-09  city scrape     None      None      $1,171.00     ...        \n",
       "2  2011-07-09  city scrape     None      None      $1,171.00     ...        \n",
       "\n",
       "  review_date reviewer_id review_scores_rating reviews_per_month room_type  \\\n",
       "0        None        None                 None              None      None   \n",
       "1        None        None                 None              None      None   \n",
       "2        None        None                 None              None      None   \n",
       "\n",
       "  accommodates bathrooms bedrooms  beds month_review  \n",
       "0         None      None     None  None         None  \n",
       "1         None      None     None  None         None  \n",
       "2         None      None     None  None         None  \n",
       "\n",
       "[3 rows x 21 columns]"
      ]
     },
     "execution_count": 56,
     "metadata": {},
     "output_type": "execute_result"
    }
   ],
   "source": [
    "print(\">> BOOKING Table ...\")\n",
    "booking_table.limit(3).toPandas()"
   ]
  },
  {
   "cell_type": "code",
   "execution_count": 57,
   "metadata": {},
   "outputs": [
    {
     "name": "stdout",
     "output_type": "stream",
     "text": [
      ">> FACT Table data \"BOOKING\" is prepared and ready to be uploaded to S3\n"
     ]
    }
   ],
   "source": [
    "print('>> FACT Table data \"BOOKING\" is prepared and ready to be uploaded to S3')"
   ]
  },
  {
   "cell_type": "markdown",
   "metadata": {},
   "source": [
    "Furthermore following data quality checks could be included before writing up to S3 Bucket to make sure the data is uploaded in the right format..."
   ]
  },
  {
   "cell_type": "code",
   "execution_count": null,
   "metadata": {},
   "outputs": [],
   "source": [
    "# from pyspark.sql.functions import col, isnull\n",
    "\n",
    "# def apply_constraints(df, constraints):\n",
    "#     '''Help for procedure APPLY_CONSTRAINTS\n",
    "# \n",
    "#     this function takes the spark dataframe and list of contraints\n",
    "#     and applies them to the df\n",
    "# \n",
    "#     Parameter: \n",
    "#     - df: dataframe\n",
    "#     - constraints\n",
    "#     '''\n",
    "# \n",
    "#     for constraint in constraints:\n",
    "#         df = df.filter(constraint)\n",
    "#     return df"
   ]
  },
  {
   "cell_type": "code",
   "execution_count": null,
   "metadata": {},
   "outputs": [],
   "source": [
    "# List of various constraints for the tables\n",
    "# from pyspark.sql.functions import col\n",
    "\n",
    "# Dimensions Table\n",
    "# \n",
    "# hood_constraints = [\n",
    "#     col(\"neighbourhood\").isUnique(),\n",
    "#     col(\"neighbourhood_group\").isNotNull()]\n",
    "\n",
    "# calendar_constraints = [\n",
    "#     (col(\"listing_id\") + col(\"date\")).isUnique(),\n",
    "#     col(\"available\").isNotNull(),\n",
    "#     col(\"price\").isNotNull()]\n",
    "\n",
    "# review_constraints = [\n",
    "#     (col('listing_id') + col('review_date')).isUnique(),\n",
    "#     col('comments').isNotNull()]\n",
    "\n",
    "# listing_constraints = [\n",
    "#     col(\"host_id\").isUnique(),\n",
    "#     col(\"host_since\").isNotNull()]\n",
    "\n",
    "# FACT Table\n",
    "# \n",
    "# booking_constraints = [\n",
    "#     col(\"review_id\").isUnique(),\n",
    "#     col(\"review_date\").isNotNull(),\n",
    "#     col(\"reviewer_id\").isNotNull()]"
   ]
  },
  {
   "cell_type": "code",
   "execution_count": null,
   "metadata": {},
   "outputs": [],
   "source": [
    "# Afterwards, use the function to pass the contraints to the dfs\n",
    "# \n",
    "# hoods_table    = apply_constraints(reviews_table, hood_constraints)\n",
    "# calendar_table = apply_constraints(reviews_table, calendar_constraints)\n",
    "# reviews_table  = apply_constraints(reviews_table, review_constraints)\n",
    "# listing_table  = apply_constraints(reviews_table, listing_constraints)\n",
    "# \n",
    "# booking_table  = apply_constraints(reviews_table, booking_constraints)"
   ]
  },
  {
   "cell_type": "markdown",
   "metadata": {},
   "source": [
    "Quality checks done. Tables are ready to be uploaded into the S3 \"Data Lake\" on AWS.  \n",
    "\n",
    "> <font color=\"red\">**REMINDER:**  \n",
    "> S3 target directory at [S3 Bucket @ AWS] (https://us-west-2.console.aws.amazon.com/console/home?region=us-west-2#) created? ;-) </font>   \n",
    "\n",
    "> **Note:**   \n",
    "> It can timeout! - For demo purposes only used the \"lightweight\" tables ;-)   \n",
    "> `listing_table`, `reviews_table` as well the fact table `booking_table` are too heavy, therefore it could be take **VERY LONG!**"
   ]
  },
  {
   "cell_type": "code",
   "execution_count": 58,
   "metadata": {},
   "outputs": [
    {
     "name": "stdout",
     "output_type": "stream",
     "text": [
      "root\n",
      " |-- neighbourhood_group: string (nullable = true)\n",
      " |-- neighbourhood: string (nullable = true)\n",
      "\n"
     ]
    }
   ],
   "source": [
    "hoods_table.printSchema()"
   ]
  },
  {
   "cell_type": "code",
   "execution_count": 59,
   "metadata": {},
   "outputs": [
    {
     "name": "stdout",
     "output_type": "stream",
     "text": [
      ">> NEIGHBOURHOODS Table is created in the S3 bucket!\n"
     ]
    }
   ],
   "source": [
    "# WRITING TABLES AS PARQUET TO S3\n",
    "\n",
    "# NEIGHBOURHOODS table - write to parquet files partitioned by neighbourhood_group\n",
    "hoods_table.write.mode('overwrite').partitionBy('neighbourhood_group').parquet(output_data + 'neighbourhood')\n",
    "print('>> NEIGHBOURHOODS Table is created in the S3 bucket!')"
   ]
  },
  {
   "cell_type": "code",
   "execution_count": null,
   "metadata": {},
   "outputs": [],
   "source": [
    "# write CALENDAR table to parquet files partitioned by month\n",
    "calendar_table.write.partitionBy('month') \\\n",
    "              .parquet(output_data + 'calendar', 'overwrite')\n",
    "print('>> CALENDAR Table is created on the S3 bucket!')"
   ]
  },
  {
   "cell_type": "markdown",
   "metadata": {},
   "source": [
    "- --  \n",
    "> Both last tables would be successfull uploaded to S3 @ AWS.  \n",
    "The other tables require a better environment as the Udacity Workplace are, otherwise it will be eigher a time out or a memory insufficience. \n",
    "\n",
    "\n",
    "![S3 Bucket](./IMAGE-S3-Bucket-Parquet-Overview.png?raw=treu)"
   ]
  },
  {
   "cell_type": "code",
   "execution_count": null,
   "metadata": {},
   "outputs": [],
   "source": [
    "# LISTING table - write to parquet files partitioned by month and room type\n",
    "# listing_table.write.partitionBy('month', 'room_type') \\\n",
    "#              .parquet(output_data + 'listing', 'overwrite')\n",
    "# print('>> LISTING Table is created on the S3 bucket!')\n",
    "\n",
    "\n",
    "# REVIEW table - write to parquet files partitioned by month \n",
    "# reviews_table.write.partitionBy('month') \\\n",
    "#              .parquet(output_bucket + 'reviews', 'overwrite')\n",
    "# print('>> REVIEW Table is created on the S3 bucket!')\n",
    "\n",
    "\n",
    "# BOOKINGS (fact) table - write to parquet files partitioned month\n",
    "# booking_table.write.partitionBy('month') \\\n",
    "#              .parquet(output_bucket + 'booking', 'overwrite')\n",
    "# print('>> BOOKING Table is created on the S3 bucket!')"
   ]
  },
  {
   "cell_type": "markdown",
   "metadata": {},
   "source": [
    "The uploaded tables should be now on the S3 Bucket available to be parsed by accessing the target S3 Buecket.  \n",
    "\n",
    "**Because of above hint**, we check briefly if it works, leaving the big tables out _(they are correct!)._"
   ]
  },
  {
   "cell_type": "code",
   "execution_count": 13,
   "metadata": {},
   "outputs": [],
   "source": [
    "# From S3 read tables in order to parse and do analysis ...\n",
    "\n",
    "neighbourhoods = spark.read.parquet(output_data + 'neighbourhood')\n",
    "#listing        = spark.read.parquet(output_data + 'listing')\n",
    "#calendar       = spark.read.parquet(output_data + 'calendar')\n",
    "#reviews        = spark.read.parquet(output_data + 'reviews')\n",
    "\n",
    "#booking        = spark.read.option('mergeSchema', True).parquet(output_data + 'booking')"
   ]
  },
  {
   "cell_type": "markdown",
   "metadata": {},
   "source": [
    "#### 4.2 Data Quality Checks\n",
    "Explain the data quality checks you'll perform to ensure the pipeline ran as expected. These could include:\n",
    " * Integrity constraints on the relational database (e.g., unique key, data type, etc.)\n",
    " * Unit tests for the scripts to ensure they are doing the right thing\n",
    " * Source/Count checks to ensure completeness\n",
    " \n",
    "Run Quality Checks"
   ]
  },
  {
   "cell_type": "code",
   "execution_count": null,
   "metadata": {},
   "outputs": [],
   "source": [
    "# Perform quality checks here\n",
    "\n",
    "# Only this exemplary, to save time: \n",
    "uploaded_tables   = ['hoods_table']\n",
    "downloaded_tables = ['neighbourhoods']\n",
    "\n",
    "\n",
    "# ALL: Get the count of rows in the dataframe\n",
    "#uploaded_tables= ['booking_table','listing_table', \\\n",
    "#                     'reviews_table','hoods_table','calendar_table']\n",
    "#\n",
    "#downloaded_tables = ['booking','listing','reviews', \\\n",
    "#                     'neighbourhoods','calendar']\n",
    "\n",
    "\n",
    "expected_count = []\n",
    "row_count      = []\n",
    "\n",
    "for i in uploaded_tables:\n",
    "    expected_count.append(i)\n",
    "\n",
    "for i in downloaded_tables:\n",
    "    row_count.append(i)\n",
    "\n",
    "# Compare the counts\n",
    "for uploaded, downloaded in zip(uploaded_tables, downloaded_tables):\n",
    "    if downloaded.count() != uploaded.count():\n",
    "        raise ValueError(\">> Data is incomplete! ** Expected {} rows in {}, but found {}.\" \\\n",
    "                         .format(uploaded.count(), uploaded, downloaded.count()) \\\n",
    "                        )\n"
   ]
  },
  {
   "cell_type": "markdown",
   "metadata": {},
   "source": [
    "**Note:** Above quality check does only show an error when there is none matching between both row counts!"
   ]
  },
  {
   "cell_type": "markdown",
   "metadata": {},
   "source": [
    "Last verification that the tables read out from S3 Bucket can be used here some Spark SQL Queries"
   ]
  },
  {
   "cell_type": "code",
   "execution_count": 24,
   "metadata": {},
   "outputs": [],
   "source": [
    "hoods.createOrReplaceTempView(\"neighbourhoods\")\n",
    "listing.createOrReplaceTempView(\"listing\")\n",
    "calendar.createOrReplaceTempView(\"calendar\")"
   ]
  },
  {
   "cell_type": "code",
   "execution_count": 25,
   "metadata": {},
   "outputs": [
    {
     "name": "stdout",
     "output_type": "stream",
     "text": [
      "+-------------------+--------------+\n",
      "|neighbourhood_group| neighbourhood|\n",
      "+-------------------+--------------+\n",
      "|neighbourhood_group| neighbourhood|\n",
      "|               null|Álvaro Obregón|\n",
      "|               null|  Azcapotzalco|\n",
      "|               null| Benito Juárez|\n",
      "|               null|      Coyoacán|\n",
      "+-------------------+--------------+\n",
      "\n"
     ]
    }
   ],
   "source": [
    "# NEIGHBOURHOODS dimension Table\n",
    "spark.sql(\"\"\"\n",
    "    SELECT * \n",
    "      FROM neighbourhoods \n",
    "     LIMIT 5\n",
    "\"\"\").show()"
   ]
  },
  {
   "cell_type": "code",
   "execution_count": 26,
   "metadata": {},
   "outputs": [
    {
     "name": "stdout",
     "output_type": "stream",
     "text": [
      "+------------------+--------------------+--------------------+--------------+-----------+--------------------+--------------------+---------------------+--------------------+----------------+--------------------+----------------+------------------+-------------------+--------------------+--------------------+------------------+--------------------+-----------------+--------------------+--------------------+------------------+-------------------+-------------------------+------------------+--------------------+----------------------+--------------------+----------------------+----------------------------+--------------------+--------------------+--------------------+--------------------+---------------+--------------------+--------------+---------+---------+--------------------+--------------------+--------------------+--------------------+----------------------+----------------------+----------------------+----------------------+----------------------+----------------------+----------------+----------------+------------------+-------------------+--------------------+--------------------+---------------------+--------------------+---------------------+----------------------+---------------+--------------------+--------------------+----------------------+-------------------------+---------------------+---------------------------+----------------------+--------------------+--------------+----------------+------------------------------+-------------------------------------------+--------------------------------------------+-------------------------------------------+-----------------+-----+\n",
      "|                id|         listing_url|           scrape_id|  last_scraped|     source|                name|         description|neighborhood_overview|         picture_url|         host_id|            host_url|       host_name|        host_since|      host_location|          host_about|  host_response_time|host_response_rate|host_acceptance_rate|host_is_superhost|  host_thumbnail_url|    host_picture_url|host_neighbourhood|host_listings_count|host_total_listings_count|host_verifications|host_has_profile_pic|host_identity_verified|       neighbourhood|neighbourhood_cleansed|neighbourhood_group_cleansed|            latitude|           longitude|       property_type|           room_type|   accommodates|           bathrooms|bathrooms_text| bedrooms|     beds|           amenities|               price|      minimum_nights|      maximum_nights|minimum_minimum_nights|maximum_minimum_nights|minimum_maximum_nights|maximum_maximum_nights|minimum_nights_avg_ntm|maximum_nights_avg_ntm|calendar_updated|has_availability|   availability_30|    availability_60|     availability_90|    availability_365|calendar_last_scraped|   number_of_reviews|number_of_reviews_ltm|number_of_reviews_l30d|   first_review|         last_review|review_scores_rating|review_scores_accuracy|review_scores_cleanliness|review_scores_checkin|review_scores_communication|review_scores_location| review_scores_value|       license|instant_bookable|calculated_host_listings_count|calculated_host_listings_count_entire_homes|calculated_host_listings_count_private_rooms|calculated_host_listings_count_shared_rooms|reviews_per_month|month|\n",
      "+------------------+--------------------+--------------------+--------------+-----------+--------------------+--------------------+---------------------+--------------------+----------------+--------------------+----------------+------------------+-------------------+--------------------+--------------------+------------------+--------------------+-----------------+--------------------+--------------------+------------------+-------------------+-------------------------+------------------+--------------------+----------------------+--------------------+----------------------+----------------------------+--------------------+--------------------+--------------------+--------------------+---------------+--------------------+--------------+---------+---------+--------------------+--------------------+--------------------+--------------------+----------------------+----------------------+----------------------+----------------------+----------------------+----------------------+----------------+----------------+------------------+-------------------+--------------------+--------------------+---------------------+--------------------+---------------------+----------------------+---------------+--------------------+--------------------+----------------------+-------------------------+---------------------+---------------------------+----------------------+--------------------+--------------+----------------+------------------------------+-------------------------------------------+--------------------------------------------+-------------------------------------------+-----------------+-----+\n",
      "|           2056638|https://www.airbn...|      20230329041210|    2023-03-30|city scrape|Amplio y luminoso...|Cómodo loft de do...|                 null|https://a0.muscac...|        10531228|https://www.airbn...|           Maria|        2013-12-09|Mexico City, Mexico|                null|        within a day|              100%|                 N/A|                f|https://a0.muscac...|https://a0.muscac...|          Coyoacán|                  3|                        7|         ['phone']|                   t|                     f|                null|              Coyoacán|                        null|            19.35353|           -99.16299|         Entire loft|     Entire home/apt|              3|                null|     1.5 baths|        1|        1|          \"[\"\"Wifi\"\"|         \"\"Hangers\"\"| \"\"Fire extinguis...|         \"\"Shampoo\"\"|           \"\"Kitchen\"\"|    \"\"Cooking basics\"\"|      \"\"Essentials\"\"]\"|             $1,434.00|                     1|                  1125|               1|               1|              1125|               1125|                 1.0|              1125.0|                 null|                   t|                    0|                    19|             49|                 324|          2023-03-30|                    21|                        0|                    0|                 2014-01-03|            2018-06-24|                4.95|          4.71|            4.95|                           5.0|                                       4.95|                                         5.0|                                       4.86|             null|   12|\n",
      "|           2072354|https://www.airbn...|      20230329041210|    2023-03-30|city scrape|Coyoacan Historic...|This studio flat ...| Located in Coyoac...|https://a0.muscac...|        16840050|https://www.airbn...|          Mónica|        2014-06-16|Mexico City, Mexico|                null|                 N/A|               N/A|                 N/A|                f|https://a0.muscac...|https://a0.muscac...|              null|                  3|                        3|['email', 'phone']|                   t|                     t|Mexico City, Fede...|              Coyoacán|                        null|            19.35358|           -99.16948|  Entire guest suite|     Entire home/apt|              2|                null|        1 bath|        1|        1|\"[\"\"Free street p...| \"\"Cleaning produ...|    \"\"Dining table\"\"| \"\"Host greets you\"\"|   \"\"Dedicated work...|        \"\"Essentials\"\"|   \"\"Extra pillows ...|      \"\"Mosquito net\"\"|       \"\"Mini fridge\"\"|         \"\"Microwave\"\"|   \"\"Hot water\"\"|       \"\"Stove\"\"|            \"\"TV\"\"| \"\"Cooking basics\"\"| \"\"Shared backyard\"\"| \"\"Drying rack fo...|          \"\"Hangers\"\"| \"\"Room-darkening...|          \"\"Kitchen\"\"|   \"\"Coffee maker: ...| \"\"Bed linens\"\"| \"\"Private entran...|            \"\"Wifi\"\"|    \"\"Outdoor shower\"\"|      \"\"Dishes and sil...|  \"\"Portable heater\"\"|        \"\"Clothing stora...|       \"\"Body soap\"\"]\"|             $830.00|             3|            1125|                             3|                                          3|                                        1125|                                       1125|              3.0|    6|\n",
      "|            696037|https://www.airbn...|      20230329041210|    2023-03-29|city scrape|3 Bedrooms, 2 blo...|Beautifully decor...| This area is call...|https://a0.muscac...|         3531879|https://www.airbn...|Gonzalo & Sandra|        2012-09-10|Mexico City, Mexico|We are from CDMX ...|                null|              null|                null|             null|                null|                null|              null|               null|                     null|              null|                null|                  null|                null|                  null|                        null|                null|                null|                null|                null|           null|                null|          null|     null|     null|                null|                null|                null|                null|                  null|                  null|                  null|                  null|                  null|                  null|            null|            null|              null|               null|                null|                null|                 null|                null|                 null|                  null|           null|                null|                null|                  null|                     null|                 null|                       null|                  null|                null|          null|            null|                          null|                                       null|                                        null|                                       null|             null|    9|\n",
      "|I love Mexico City| and I know every...| specially histor...|within an hour|       100%|                 90%|                   t| https://a0.muscac...|https://a0.muscac...|Centro Histórico|                   4|               4|['email', 'phone']|                  t|                   t|Mexico City, Fede...|    Miguel Hidalgo|                null|          19.4418|           -99.18402|  Entire rental unit|   Entire home/apt|                  6|                     null|           2 baths|                   3|                     3|\"[\"\"Wifi \\u2013 3...|   \"\"Central air co...|             \"\"Smoke alarm\"\"| \"\"Pack \\u2019n p...| \"\"Luggage dropof...| \"\"Long term stay...| \"\"Host greets you\"\"| \"\"Essentials\"\"| \"\"Extra pillows ...|      \"\"Oven\"\"| \"\"Iron\"\"| \"\"Safe\"\"|       \"\"Microwave\"\"|       \"\"Hot water\"\"|           \"\"Stove\"\"| \"\"Free parking o...|        \"\"Hair dryer\"\"|              \"\"HDTV\"\"|    \"\"Cooking basics\"\"|          \"\"Elevator\"\"|           \"\"Heating\"\"|   \"\"Paid parking o...|      \"\"Washer\"\"|       \"\"Piano\"\"| \"\"Portable fans\"\"|   \"\"Refrigerator\"\"|         \"\"Hangers\"\"| \"\"Fire extinguis...|          \"\"Kitchen\"\"|   \"\"First aid kit\"\"|  \"\"Shared gym in ...|   \"\"Books and read...| \"\"Bed linens\"\"|    \"\"Coffee maker\"\"| \"\"Patio or balco...|   \"\"Paid parking o...|      \"\"Dishes and sil...|       \"\"Dishwasher\"\"|                  \"\"Dryer\"\"|   \"\"Clothing stora...| \"\"Shared indoor ...| \"\"Shampoo\"\"]\"|       $1,469.00|                            24|                                       1125|                                          24|                                         24|             1125| null|\n",
      "|             35797|https://www.airbn...|      20230329041210|    2023-03-29|city scrape|         Villa Dante|Dentro de Villa u...| Centro comercial ...|https://a0.muscac...|          153786|https://www.airbn...|            Dici|        2010-06-28|Mexico City, Mexico|Master in visual ...|                null|              null|                null|             null|                null|                null|              null|               null|                     null|              null|                null|                  null|                null|                  null|                        null|                null|                null|                null|                null|           null|                null|          null|     null|     null|                null|                null|                null|                null|                  null|                  null|                  null|                  null|                  null|                  null|            null|            null|              null|               null|                null|                null|                 null|                null|                 null|                  null|           null|                null|                null|                  null|                     null|                 null|                       null|                  null|                null|          null|            null|                          null|                                       null|                                        null|                                       null|             null|    6|\n",
      "+------------------+--------------------+--------------------+--------------+-----------+--------------------+--------------------+---------------------+--------------------+----------------+--------------------+----------------+------------------+-------------------+--------------------+--------------------+------------------+--------------------+-----------------+--------------------+--------------------+------------------+-------------------+-------------------------+------------------+--------------------+----------------------+--------------------+----------------------+----------------------------+--------------------+--------------------+--------------------+--------------------+---------------+--------------------+--------------+---------+---------+--------------------+--------------------+--------------------+--------------------+----------------------+----------------------+----------------------+----------------------+----------------------+----------------------+----------------+----------------+------------------+-------------------+--------------------+--------------------+---------------------+--------------------+---------------------+----------------------+---------------+--------------------+--------------------+----------------------+-------------------------+---------------------+---------------------------+----------------------+--------------------+--------------+----------------+------------------------------+-------------------------------------------+--------------------------------------------+-------------------------------------------+-----------------+-----+\n",
      "\n"
     ]
    }
   ],
   "source": [
    "# LISTING dimension Table\n",
    "spark.sql(\"\"\"\n",
    "    SELECT * \n",
    "      FROM listing \n",
    "     LIMIT 5\n",
    "\"\"\").show()"
   ]
  },
  {
   "cell_type": "code",
   "execution_count": 27,
   "metadata": {},
   "outputs": [
    {
     "name": "stdout",
     "output_type": "stream",
     "text": [
      "+----------+----------+---------+--------------+-----+\n",
      "|listing_id|      date|available|adjusted_price|month|\n",
      "+----------+----------+---------+--------------+-----+\n",
      "|   2056638|2023-03-30|        f|     $1,434.00|    3|\n",
      "|   2056638|2023-03-31|        f|     $1,434.00|    3|\n",
      "|   2056638|2023-04-01|        f|     $1,434.00|    4|\n",
      "|   2056638|2023-04-02|        f|     $1,434.00|    4|\n",
      "|   2056638|2023-04-03|        f|     $1,434.00|    4|\n",
      "|   2056638|2023-04-04|        f|     $1,434.00|    4|\n",
      "|   2056638|2023-04-05|        f|     $1,434.00|    4|\n",
      "|   2056638|2023-04-06|        f|     $1,434.00|    4|\n",
      "|   2056638|2023-04-07|        f|     $1,434.00|    4|\n",
      "|   2056638|2023-04-08|        f|     $1,434.00|    4|\n",
      "+----------+----------+---------+--------------+-----+\n",
      "\n"
     ]
    }
   ],
   "source": [
    "# CALENDAR dimension Table\n",
    "spark.sql(\"\"\"\n",
    "    SELECT * \n",
    "      FROM calendar \n",
    "     LIMIT 10\n",
    "\"\"\").show()"
   ]
  },
  {
   "cell_type": "code",
   "execution_count": 30,
   "metadata": {},
   "outputs": [
    {
     "name": "stdout",
     "output_type": "stream",
     "text": [
      "+---------------+-----------+\n",
      "|      room_type|num_listing|\n",
      "+---------------+-----------+\n",
      "|Entire home/apt|      10583|\n",
      "|   Private room|       5996|\n",
      "|    Shared room|        203|\n",
      "|     Hotel room|         85|\n",
      "+---------------+-----------+\n",
      "\n"
     ]
    }
   ],
   "source": [
    "# Calculation & Analysis of Room Type\n",
    "spark.sql(\"\"\"\n",
    "    SELECT DISTINCT(room_type),\n",
    "           COUNT(*) AS num_listing \n",
    "      FROM listing\n",
    "     WHERE room_type IN (\"Entire home/apt\", \"Private room\", \"Shared room\", \"Hotel room\")\n",
    "     GROUP BY 1 \n",
    "     ORDER BY 2 DESC \n",
    "     LIMIT 10\n",
    "\"\"\").show()"
   ]
  },
  {
   "cell_type": "markdown",
   "metadata": {},
   "source": [
    "![Bar Graph Airbnb Website](./IMAGE-Room-Type-BarGraph-Airbnb.png)\n",
    "_Source: (http://insideairbnb.com/mexico-city/)_  \n",
    "\n",
    "As comparison, made under Power BI:   \n",
    "![Bar Graph PowerBI](./IMAGE-Room-Type-BarGraph-PowerBI.png)"
   ]
  },
  {
   "cell_type": "code",
   "execution_count": null,
   "metadata": {},
   "outputs": [],
   "source": [
    "spark.sql(\"\"\"\n",
    "    SELECT DATE_TRUNC('month',calendar.date) AS month,\n",
    "           COUNT(DISTINCT(listing.id)) AS num_listing_month\n",
    "      FROM calendar \n",
    "      LEFT JOIN listing \n",
    "           ON calendar.listing_id = listing.id\n",
    "     WHERE DATE_TRUNC('year',calendar.date) = '2022'\n",
    "       AND host_id LIKE '89%'\n",
    "     GROUP BY 1 \n",
    "     ORDER BY 1 asc \n",
    "     LIMIT 12\n",
    "\"\"\").show()"
   ]
  },
  {
   "cell_type": "markdown",
   "metadata": {},
   "source": [
    "+-------------------+-----------------+   \n",
    "|              month|num_listing_month|   \n",
    "+-------------------+-----------------+   \n",
    "|2022-09-01 00:00:00|                9|   \n",
    "|2022-10-01 00:00:00|                9|   \n",
    "|2022-11-01 00:00:00|                9|   \n",
    "|2022-12-01 00:00:00|                9|   \n",
    "+-------------------+-----------------+   "
   ]
  },
  {
   "cell_type": "markdown",
   "metadata": {},
   "source": [
    "#### 4.3 Data dictionary \n",
    "Create a data dictionary for your data model. For each field, provide a brief description of what the data is and where it came from. You can include the data dictionary in the notebook or in a separate file."
   ]
  },
  {
   "cell_type": "markdown",
   "metadata": {},
   "source": [
    "I started with these Schemas - Detailed Data Dictionary see Document!   \n",
    "\n",
    "\n",
    "`Neighbourhood  \n",
    "++++++++++++++  \n",
    " |-- neighbourhood_group: string (nullable = true)  \n",
    " |-- neighbourhood: string (nullable = true)`\n",
    "\n",
    "`reviews  \n",
    "++++++++  \n",
    " |-- listing_id: integer (nullable = true)  \n",
    " |-- id: integer (nullable = true)  \n",
    " |-- date: date (nullable = true)  \n",
    " |-- reviewer_id: integer (nullable = true)  \n",
    " |-- reviewer_name: string (nullable = true)  \n",
    " |-- comments: string (nullable = true)`\n",
    "\n",
    "`calendar  \n",
    "++++++++++  \n",
    " |-- listing_id: integer (nullable = true)  \n",
    " |-- date: date (nullable = true)  \n",
    " |-- available: boolean (nullable = true)  \n",
    " |-- adjusted_price: decimal(10,0) (nullable = true)`\n",
    "\n",
    "`listings  \n",
    "+++++++++++  \n",
    " |-- id: integer (nullable = true)  \n",
    " |-- name: string (nullable = true)  \n",
    " |-- description: string (nullable = true)  \n",
    " |-- host_id: integer (nullable = true)  \n",
    " |-- host_name: string (nullable = true)  \n",
    " |-- host_since: date (nullable = true)  \n",
    " |-- source: string (nullable = true)  \n",
    " |-- latitude: float (nullable = true)  \n",
    " |-- longitude: float (nullable = true)  \n",
    " |-- price: float (nullable = true)  \n",
    " |-- review_scores_rating: integer (nullable = true)  \n",
    " |-- reviews_per_month: float (nullable = true)  \n",
    " |-- room_type: string (nullable = true)  \n",
    " |-- accommodates: integer (nullable = true)  \n",
    " |-- bathrooms: integer (nullable = true)  \n",
    " |-- bedrooms: integer (nullable = true)  \n",
    " |-- beds: integer (nullable = true)`\n"
   ]
  },
  {
   "cell_type": "markdown",
   "metadata": {},
   "source": [
    "![Database Model](IMAGE-Database-Model.png?raw=true)"
   ]
  },
  {
   "cell_type": "markdown",
   "metadata": {},
   "source": [
    "#### Step 5: Complete Project Write Up\n",
    "* **Clearly state the rationale for the choice of tools and technologies for the project.**\n",
    "\n",
    "Mainly the constraints of the project does give the direction of the choice. Apache Spark is known for his advantage of handle large data volumes and perform distributed processing, as well his well integration to S3 AWS technologie.  \n",
    "A star schema does give a simple and effective way to organize data for querying and finaly the CSV sources did help out to favoured this. \n",
    "\n",
    "* **Propose how often the data should be updated and why.**\n",
    "\n",
    "As the data will be updated once a month, then the data refresh could be also be monthly. In the meanwhile there are none changes. \n",
    "- --\n",
    "\n",
    "* **Write a description of how you would approach the problem differently under the following scenarios:**\n",
    "\n",
    "\n",
    " * - **The data was increased by 100x.**\n",
    "\n",
    " In this case the current setup does no be more the good one. A distributed database such as Hadhoop or Apache Cassandra could be potentialy look into, because they are designed to handle very large data volumes. On the other hand a cloud-based data warehouse like Amazon's Redshift would be optimized for fast querying and analysis of large datasets.  \n",
    " \n",
    " \n",
    " * - **The data populates a dashboard that must be updated on a daily basis by 7am every day.**\n",
    " \n",
    " An automation for diferent jobs is required. This could be handled setting up a scheduled job or workflow to load the data into the database on a daily basis. Data loading, require also an automated data loading process, some hours before to ensure it is finished on the requied time window.  \n",
    " * - - _Workflow orchestration tools:_ Apache Airflow can used to define and schedule data pipelines that include task such as data loadgin, transformation and Visualization.   \n",
    " * - - _Cloud-based schedulers:_ For an use on a regular basis there are different Cloud providers, like AWS and it Schedular for EC2 instances.\n",
    " \n",
    " \n",
    " * - **The database needed to be accessed by 100+ people.**\n",
    " \n",
    " This stress test on the infrastructre does end on the need of scaling up the existing infrastructure. Very typically in the industry! Normally the scale is on the wide to support more concurrent users. Of sure the security settings needs also to be checked to ensure protection of the database. \n",
    " \n",
    " \n",
    " Some tools for scaling up:   \n",
    " * - - _Cloud Data Warehouses:_ Google's BigQuery, Amazon Redshift or Snowflake\n",
    " * - - _Relational databases:_ MySQL or PostgreSQL\n",
    " * - - _NoSQL Databases:_ Google Cloud Bigtable, Apache Casandra, MongoDB\n",
    " * - - _Data Lakes:_ Amazon S3 or Azure Data Lake Storage (Microsoft)\n",
    " * - - _Big Data processing frameworks:_ Apache Spark, Apache Hadoop\n",
    " \n",
    " "
   ]
  },
  {
   "cell_type": "markdown",
   "metadata": {},
   "source": [
    "- --"
   ]
  },
  {
   "cell_type": "markdown",
   "metadata": {},
   "source": [
    "#### Images"
   ]
  },
  {
   "cell_type": "code",
   "execution_count": 31,
   "metadata": {},
   "outputs": [
    {
     "name": "stdout",
     "output_type": "stream",
     "text": [
      ">> List of Images uploaded to (Udacity) Workspace\n",
      "IMAGE-Database-Model.png\t      IMAGE-S3-Bucket-Parquet-Overview.png\n",
      "IMAGE-Room-Type-BarGraph-Airbnb.png   listings_detailed.csv-viewing-data.png\n",
      "IMAGE-Room-Type-BarGraph-PowerBI.png  reviews_detailed.csv-viewing-data.png\n"
     ]
    }
   ],
   "source": [
    "print(\">> List of Images uploaded to (Udacity) Workspace\")\n",
    "!ls *.png"
   ]
  },
  {
   "cell_type": "code",
   "execution_count": 32,
   "metadata": {},
   "outputs": [
    {
     "name": "stdout",
     "output_type": "stream",
     "text": [
      ">> List of Documents [*.pdf] \n",
      "Data-Dictionary-Airbnb-(Mexico-City).pdf\n"
     ]
    }
   ],
   "source": [
    "print(\">> List of Documents [*.pdf] \")\n",
    "!ls *.pdf"
   ]
  },
  {
   "cell_type": "markdown",
   "metadata": {},
   "source": [
    "- --"
   ]
  },
  {
   "cell_type": "markdown",
   "metadata": {},
   "source": [
    "END OF DOCUMENT - [Capstone-B-Project(LOC)-Notebook.ipynb]"
   ]
  }
 ],
 "metadata": {
  "kernelspec": {
   "display_name": "Python 3",
   "language": "python",
   "name": "python3"
  },
  "language_info": {
   "codemirror_mode": {
    "name": "ipython",
    "version": 3
   },
   "file_extension": ".py",
   "mimetype": "text/x-python",
   "name": "python",
   "nbconvert_exporter": "python",
   "pygments_lexer": "ipython3",
   "version": "3.6.3"
  }
 },
 "nbformat": 4,
 "nbformat_minor": 4
}
