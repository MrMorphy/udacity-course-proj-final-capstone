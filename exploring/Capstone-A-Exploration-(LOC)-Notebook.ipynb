{
 "cells": [
  {
   "cell_type": "markdown",
   "metadata": {},
   "source": [
    "# Project: Capstone with EMR ( Spark & Co. @ AWS )\n",
    "### Data Engineering Capstone Project\n",
    "\n",
    "\n",
    "#### Project Summary\n",
    "--describe your project at a high level-- (see also @ README.md at GitHub repo)\n",
    "\n",
    "\n",
    "#### Overview and Steps\n",
    "The project follows the follow steps:\n",
    "* Step 1: Scope the Project and Gather Data\n",
    "* Step 2: Explore and Assess the Data\n",
    "* Step 3: Define the Data Model\n",
    "* Step 4: Run ETL to Model the Data\n",
    "* Step 5: Complete Project Write Up\n",
    "\n",
    "<font color=\"red\">Clear fields at [</font>aws-access.cfg<font color=\"red\">] before submitting project for review!  \n",
    "    KEY = 'YOUR_AWS_KEY'  \n",
    "    SECRET='YOUR_AWS_SECRET'</font>"
   ]
  },
  {
   "cell_type": "markdown",
   "metadata": {},
   "source": [
    "Version 1 **(LOC = Udacity Workspace)** - Revision 07 - 2023/04/26 - Mr Morphy - GitHub Profile (https://github.com/MrMorphy)  \n",
    "GitHub Project - udacity-course-proj-final-capstone (https://github.com/mrmorphy/udacita-course-proj-final-capstone)"
   ]
  },
  {
   "cell_type": "markdown",
   "metadata": {},
   "source": [
    "### Step 0: Create Base Config\n",
    "* Setup IAM-Role (aws-access.cfg)\n",
    "* Setup EMR Cluster (with Spark) at AWS UI\n",
    "* Create a Notebook at AWS UI\n",
    "\n",
    "Load following libraries to execute code"
   ]
  },
  {
   "cell_type": "code",
   "execution_count": 1,
   "metadata": {},
   "outputs": [
    {
     "name": "stdout",
     "output_type": "stream",
     "text": [
      "Python 3.6.3\r\n"
     ]
    }
   ],
   "source": [
    "!python --version"
   ]
  },
  {
   "cell_type": "code",
   "execution_count": 2,
   "metadata": {},
   "outputs": [],
   "source": [
    "# Do all imports and installs here\n",
    "import configparser              # required for reading out config-file [*.cfg]\n",
    "from datetime import datetime    # \n",
    "import os                        # required for setting environment variables, like IAM-Authentification"
   ]
  },
  {
   "cell_type": "code",
   "execution_count": 3,
   "metadata": {},
   "outputs": [],
   "source": [
    "# Optional for Analytics & Visualisation (pending/ in development), if next command fails.\n",
    "#!pip install numpy matplotlib     # later use of a Bar Graph:  plt.hist() - \n",
    "                                 # plt.xlabel('time') - plt.ylabel('Value') - \n",
    "                                 # plt.title('Distribution of xxx') - plt.show()"
   ]
  },
  {
   "cell_type": "code",
   "execution_count": 2,
   "metadata": {},
   "outputs": [],
   "source": [
    "# Optional ... (pending/ in development)\n",
    "import numpy as np\n",
    "import matplotlib.pyplot as plt  # Pyplot - Bar Graph, Line Graph, Others (pending)\n",
    "                                 # i.e. plt.scatter(guests_hour_pd[\"hour\"], guests_hour_pd[\"count\"])\n",
    "                                 # plt.xlim(-1,24); - plt.ylim(0, 1.2 * max( guests_hour_pd[\"count\"]))\n",
    "                                 # plt.xlabel(\"Hour\"); - plt.ylabel(\"Accomodations\")"
   ]
  },
  {
   "cell_type": "code",
   "execution_count": 3,
   "metadata": {},
   "outputs": [],
   "source": [
    "from pyspark.sql import SparkSession"
   ]
  },
  {
   "cell_type": "code",
   "execution_count": 4,
   "metadata": {},
   "outputs": [],
   "source": [
    "from pyspark.sql.functions import udf, col   #, monotonically_increasing_id\n",
    "from pyspark.sql.functions import year, month, dayofmonth, hour, weekofyear, date_format"
   ]
  },
  {
   "cell_type": "code",
   "execution_count": 5,
   "metadata": {},
   "outputs": [],
   "source": [
    "from pyspark.sql.types import StructType  as R,   StructField as Fld, \\\n",
    "                              DoubleType  as Dbl, StringType  as Str, \\\n",
    "                              IntegerType as Int, DateType    as Date, \\\n",
    "                              BooleanType as Bol, DecimalType as Dec, \\\n",
    "                              FloatType   as Flt, TimestampType as TS, \\\n",
    "                              LongType    as Lng"
   ]
  },
  {
   "cell_type": "code",
   "execution_count": 6,
   "metadata": {},
   "outputs": [],
   "source": [
    "# only for jupyter workbook tests necessary\n",
    "import pandas as pd"
   ]
  },
  {
   "cell_type": "markdown",
   "metadata": {},
   "source": [
    "<font color=\"red\">INFO: Add [AWS] on aws-access.cfg file as well at code \" =config['AWS'][...] \"</font>"
   ]
  },
  {
   "cell_type": "code",
   "execution_count": 7,
   "metadata": {},
   "outputs": [
    {
     "name": "stdout",
     "output_type": "stream",
     "text": [
      ">> Read Out Config-Infos from [aws-access.cfg]\n"
     ]
    }
   ],
   "source": [
    "config = configparser.ConfigParser()\n",
    "config.read('aws-access.cfg')\n",
    "print(\">> Read Out Config-Infos from [aws-access.cfg]\")\n",
    "\n",
    "os.environ['AWS_ACCESS_KEY_ID']     = config['AWS']['AWS_ACCESS_KEY_ID']\n",
    "os.environ['AWS_SECRET_ACCESS_KEY'] = config['AWS']['AWS_SECRET_ACCESS_KEY']"
   ]
  },
  {
   "cell_type": "markdown",
   "metadata": {},
   "source": [
    "####  Step0 (2): Create Spark Session"
   ]
  },
  {
   "cell_type": "code",
   "execution_count": 8,
   "metadata": {},
   "outputs": [
    {
     "name": "stdout",
     "output_type": "stream",
     "text": [
      ">> START (main) - [A] def configure_spark()\n"
     ]
    }
   ],
   "source": [
    "print(\">> START (main) - [A] def configure_spark()\")"
   ]
  },
  {
   "cell_type": "code",
   "execution_count": 9,
   "metadata": {},
   "outputs": [
    {
     "name": "stdout",
     "output_type": "stream",
     "text": [
      ">> spark session created\n"
     ]
    }
   ],
   "source": [
    "# def create_spark_session():\n",
    "spark = SparkSession \\\n",
    "    .builder \\\n",
    "    .config(\"spark.jars.packages\", \"org.apache.hadoop:hadoop-aws:2.10.0\") \\\n",
    "    .getOrCreate()\n",
    "#return Spark\n",
    "# @ EMR (AWS): \"emr.5.20.0\" > \"hadoop 2.7.0\"\n",
    "# @ EMR (AWS): \"emr-5.31.0\" > \"hadoop 2.10.0\"\n",
    "print(\">> spark session created\")"
   ]
  },
  {
   "cell_type": "code",
   "execution_count": 10,
   "metadata": {},
   "outputs": [
    {
     "name": "stdout",
     "output_type": "stream",
     "text": [
      ">> Spark information details\n"
     ]
    },
    {
     "data": {
      "text/html": [
       "\n",
       "            <div>\n",
       "                <p><b>SparkSession - in-memory</b></p>\n",
       "                \n",
       "        <div>\n",
       "            <p><b>SparkContext</b></p>\n",
       "\n",
       "            <p><a href=\"http://81a914d6eed58a0c15550c907a7c7667c6104534-6b8d49fdd5-dtf85:4040\">Spark UI</a></p>\n",
       "\n",
       "            <dl>\n",
       "              <dt>Version</dt>\n",
       "                <dd><code>v2.4.3</code></dd>\n",
       "              <dt>Master</dt>\n",
       "                <dd><code>local[*]</code></dd>\n",
       "              <dt>AppName</dt>\n",
       "                <dd><code>pyspark-shell</code></dd>\n",
       "            </dl>\n",
       "        </div>\n",
       "        \n",
       "            </div>\n",
       "        "
      ],
      "text/plain": [
       "<pyspark.sql.session.SparkSession at 0x7fc21f68aeb8>"
      ]
     },
     "execution_count": 10,
     "metadata": {},
     "output_type": "execute_result"
    }
   ],
   "source": [
    "# DEBUG\n",
    "print(\">> Spark information details\")\n",
    "spark"
   ]
  },
  {
   "cell_type": "markdown",
   "metadata": {},
   "source": [
    "### Step 1: Scope the Project and Gather Data\n",
    "\n",
    "#### Scope \n",
    "Explain what you plan to do in the project in more detail. What data do you use? What is your end solution look like? What tools did you use? etc.\n",
    "\n",
    "* For project plan see README.md on GitHub repo.\n",
    "* Data from Inside Airbnb, specific, from Mexico City.\n",
    "* Endsolution: Dimension and Fact table for \"Self Service Dashboard\" (Microsoft Power BI or AWS QuickSight.\n",
    "* Selected Tools: Spark (EMR on EC2 at AWS) and S3 Bucket.\n",
    "\n",
    "\n",
    "#### Describe and Gather Data \n",
    "Describe the data sets you're using. Where did it come from? What type of information is included?  \n",
    "\n",
    "\n",
    "| FILE NAME | DESCRIPTION |\n",
    "| ----- | ----- |\n",
    "| calendar.csv.gz | Detailed Calendar Data |\n",
    "| listings.csv | Summary information and metrics for listings in Mexico City (good for visualisations) |\n",
    "| listings.csv.gz | Detailed Listings Data |\n",
    "| neighbourhoods.csv | Neighbourhood list for geo filter. Sourced from city or open source GIS files. |\n",
    "| neighbourhoods.geojson | GeoJSON file of neighbourhoods of the city |\n",
    "| reviews.csv | Summary Review data and Listing ID (to facilitate time based analytics and visualitaion linekd to a listing) |\n",
    "| reviews.csv.gz | Detailed Review Data |"
   ]
  },
  {
   "cell_type": "code",
   "execution_count": 11,
   "metadata": {},
   "outputs": [
    {
     "name": "stdout",
     "output_type": "stream",
     "text": [
      "total 879540\r\n",
      "drwxr-xr-x 4 root root      4096 Apr 26 21:46 .\r\n",
      "drwxr-xr-x 3 root root      4096 Apr 26 17:32 ..\r\n",
      "-rw-r--r-- 1 root root       107 Apr 25 19:38 aws-access.cfg\r\n",
      "-rw-r--r-- 1 root root 462719658 Apr 26 00:27 calendar.csv\r\n",
      "-rw-r--r-- 1 root root  26455179 Apr 25 22:56 calendar.csv.gz\r\n",
      "-rw-r--r-- 1 root root    129851 Apr 26 21:46 Capstone-(LOC)-Notebook-MrMorphy.ipynb\r\n",
      "-rw-r--r-- 1 root root     13059 Apr 22 22:00 Capstone Project Template.ipynb\r\n",
      "drwxr-xr-x 2 root root      4096 Apr 26 17:32 .ipynb_checkpoints\r\n",
      "-rw-r--r-- 1 root root   3747993 Apr 26 01:50 listings.csv\r\n",
      "-rw-r--r-- 1 root root  15445405 Apr 25 22:55 listings.csv.gz\r\n",
      "-rw-r--r-- 1 root root  60742007 Apr 26 00:23 listings_detailed.csv\r\n",
      "-rw-r--r-- 1 root root       275 Apr 24 23:03 neighbourhoods.csv\r\n",
      "-rw-r--r-- 1 root root  18548579 Apr 25 22:17 reviews.csv\r\n",
      "-rw-r--r-- 1 root root  86708818 Apr 25 22:52 reviews.csv.gz\r\n",
      "-rw-r--r-- 1 root root 226117945 Apr 26 00:35 reviews_detailed.csv\r\n",
      "drwxr-xr-x 3 root root      4096 Apr 26 17:32 Udacity-data\r\n",
      "-rw-r--r-- 1 root root        20 Jul 15  2021 .workspace-config.json\r\n"
     ]
    }
   ],
   "source": [
    "# DEBUG\n",
    "!ls -all"
   ]
  },
  {
   "cell_type": "code",
   "execution_count": 12,
   "metadata": {},
   "outputs": [],
   "source": [
    "# Read in the data here\n",
    "# Local data (Udacity Workspace)\n",
    "input_data  = \"./\"  # \"data/\"  # \"data_airbnb/\"\n",
    "output_data = \"data_output/\""
   ]
  },
  {
   "cell_type": "code",
   "execution_count": 13,
   "metadata": {},
   "outputs": [],
   "source": [
    "# define filenames \n",
    "# Making 1st tests...\n",
    "fnNeighbourhoodsCSV = \"neighbourhoods.csv\"\n",
    "\n",
    "#list_csv     = \"listings.csv\"\n",
    "#list_det_csv = \"listings_detailed.csv\"  # \"listings.csv.gz\"\n",
    "list_gz      = \"listings.csv.gz\"\n",
    "#calendar_csv = \"calendar.csv\"           # \"calendar.csv.gz\"\n",
    "calendar_gz  = \"calendar.csv.gz\"\n",
    "#reviews_csv  = \"reviews.csv\"\n",
    "#rev_det_csv  = \"reviews_detailed.csv\"   # \"reviews.csv.gz\"\n",
    "reviews_gz   = \"reviews.csv.gz\""
   ]
  },
  {
   "cell_type": "code",
   "execution_count": 14,
   "metadata": {},
   "outputs": [
    {
     "name": "stdout",
     "output_type": "stream",
     "text": [
      ">> processing compressed data, preparation for exploring data\n"
     ]
    }
   ],
   "source": [
    "print(\">> processing compressed data, preparation for exploring data\")"
   ]
  },
  {
   "cell_type": "markdown",
   "metadata": {},
   "source": [
    "#### Extract \"listings_detailed.csv\" from GZ file \"listings.csv.gz\""
   ]
  },
  {
   "cell_type": "code",
   "execution_count": 17,
   "metadata": {},
   "outputs": [],
   "source": [
    "import gzip"
   ]
  },
  {
   "cell_type": "code",
   "execution_count": 18,
   "metadata": {},
   "outputs": [
    {
     "name": "stdout",
     "output_type": "stream",
     "text": [
      "-rw-r--r-- 1 root root 26455179 Apr 25 22:56 calendar.csv.gz\r\n",
      "-rw-r--r-- 1 root root 15445405 Apr 25 22:55 listings.csv.gz\r\n",
      "-rw-r--r-- 1 root root 86708818 Apr 25 22:52 reviews.csv.gz\r\n"
     ]
    }
   ],
   "source": [
    "# DEBUG\n",
    "# list of all gzipped files\n",
    "!ls -all *.gz"
   ]
  },
  {
   "cell_type": "code",
   "execution_count": 19,
   "metadata": {},
   "outputs": [
    {
     "name": "stdout",
     "output_type": "stream",
     "text": [
      "-rw-r--r-- 1 root root  3747993 Apr 26 01:50 listings.csv\r\n",
      "-rw-r--r-- 1 root root 15445405 Apr 25 22:55 listings.csv.gz\r\n",
      "-rw-r--r-- 1 root root 60742007 Apr 26 00:23 listings_detailed.csv\r\n"
     ]
    }
   ],
   "source": [
    "# DEBUG\n",
    "# list only with \"list\" begining\n",
    "!ls -all list*"
   ]
  },
  {
   "cell_type": "code",
   "execution_count": 60,
   "metadata": {},
   "outputs": [
    {
     "name": "stdout",
     "output_type": "stream",
     "text": [
      "DBG: source filename: [./listings.csv.gz]\n",
      "DBG: ..without last 3 > target filename: [./listings.csv]\n",
      "DBG: ..without last 7 > target filename: [./listings]\n",
      "DBG: > target filename: [./listings_detailed.csv]\n"
     ]
    }
   ],
   "source": [
    "# TODO: Adaptar con nombre pre definidos arriba!\n",
    "# SINGLE EXECUTION - ONLY ONCE REQUIRED, for unpacking ALL on Udacity Workbook Environment\n",
    "# At the end Spark does require the CSV! Pandas can work with compressed files.\n",
    "\n",
    "# path_to_file_to_be_extracted\n",
    "ip = input_data + 'listings.csv.gz'\n",
    "\n",
    "# output_file_to_be_filled\n",
    "op_fn = ip[:-7] + '_detailed.csv'\n",
    "\n",
    "print(\"DBG: source filename: [\" + ip + \"]\")\n",
    "print(\"DBG: ..without last 3 > target filename: [\" + ip[:-3] + \"]\")\n",
    "print(\"DBG: ..without last 7 > target filename: [\" + ip[:-7] + \"]\")\n",
    "print(\"DBG: > target filename: [\" + op_fn + \"]\")\n",
    "\n",
    "op = open(op_fn, 'w')\n",
    "\n",
    "with gzip.open(ip, 'rb') as ip_byte:\n",
    "    op.write(ip_byte.read().decode('utf-8'))\n",
    "    op.close()    "
   ]
  },
  {
   "cell_type": "code",
   "execution_count": 21,
   "metadata": {},
   "outputs": [
    {
     "name": "stdout",
     "output_type": "stream",
     "text": [
      "-rw-r--r-- 1 root root  3747993 Apr 26 01:50 listings.csv\r\n",
      "-rw-r--r-- 1 root root 15445405 Apr 25 22:55 listings.csv.gz\r\n",
      "-rw-r--r-- 1 root root 60742007 Apr 26 00:23 listings_detailed.csv\r\n"
     ]
    }
   ],
   "source": [
    "# DEBUG\n",
    "# changes? \n",
    "!ls -all list*"
   ]
  },
  {
   "cell_type": "markdown",
   "metadata": {},
   "source": [
    "#### Extract \"calender.csv\" from GZ file \"calendar.csv.gz\""
   ]
  },
  {
   "cell_type": "code",
   "execution_count": 20,
   "metadata": {},
   "outputs": [
    {
     "name": "stdout",
     "output_type": "stream",
     "text": [
      "-rw-r--r-- 1 root root 462719658 Apr 26 00:27 calendar.csv\r\n",
      "-rw-r--r-- 1 root root  26455179 Apr 25 22:56 calendar.csv.gz\r\n"
     ]
    }
   ],
   "source": [
    "# DEBUG\n",
    "# list only with \"cal\" begining\n",
    "!ls -all cal*"
   ]
  },
  {
   "cell_type": "code",
   "execution_count": 63,
   "metadata": {},
   "outputs": [
    {
     "name": "stdout",
     "output_type": "stream",
     "text": [
      "DBG: source filename: [./calendar.csv.gz]\n",
      "DBG: ..without last 3 > target filename: [./calendar.csv]\n",
      "DBG: > target filename: [./calendar.csv]\n"
     ]
    }
   ],
   "source": [
    "# TODO: Adaptar con nombre pre definidos arriba!\n",
    "# SINGLE EXECUTION - ONLY ONCE REQUIRED, for unpacking ALL on Udacity Workbook Environment\n",
    "\n",
    "# path_to_file_to_be_extracted\n",
    "ip = input_data + 'calendar.csv.gz'\n",
    "\n",
    "# output_file_to_be_filled\n",
    "op_fn = ip[:-3] #+ '_detailed.csv'\n",
    "\n",
    "print(\"DBG: source filename: [\" + ip + \"]\")\n",
    "print(\"DBG: ..without last 3 > target filename: [\" + ip[:-3] + \"]\")\n",
    "print(\"DBG: > target filename: [\" + op_fn + \"]\")\n",
    "\n",
    "op = open(op_fn, 'w')\n",
    "\n",
    "with gzip.open(ip, 'rb') as ip_byte:\n",
    "    op.write(ip_byte.read().decode('utf-8'))\n",
    "    op.close()    "
   ]
  },
  {
   "cell_type": "code",
   "execution_count": 65,
   "metadata": {},
   "outputs": [
    {
     "name": "stdout",
     "output_type": "stream",
     "text": [
      "-rw-r--r-- 1 root root 462719658 Apr 26 00:27 calendar.csv\r\n",
      "-rw-r--r-- 1 root root  26455179 Apr 25 22:56 calendar.csv.gz\r\n"
     ]
    }
   ],
   "source": [
    "# DEBUG\n",
    "# unzipped? \n",
    "!ls -all cal*"
   ]
  },
  {
   "cell_type": "markdown",
   "metadata": {},
   "source": [
    "#### Extract \"reviews_detailed.csv\" from GZ file \"reviews.csv.gz\""
   ]
  },
  {
   "cell_type": "code",
   "execution_count": 22,
   "metadata": {},
   "outputs": [
    {
     "name": "stdout",
     "output_type": "stream",
     "text": [
      "-rw-r--r-- 1 root root  18548579 Apr 25 22:17 reviews.csv\r\n",
      "-rw-r--r-- 1 root root  86708818 Apr 25 22:52 reviews.csv.gz\r\n",
      "-rw-r--r-- 1 root root 226117945 Apr 26 00:35 reviews_detailed.csv\r\n"
     ]
    }
   ],
   "source": [
    "# DEBUG\n",
    "# only with \"rev\" begining\n",
    "!ls -all rev*"
   ]
  },
  {
   "cell_type": "code",
   "execution_count": 69,
   "metadata": {},
   "outputs": [
    {
     "name": "stdout",
     "output_type": "stream",
     "text": [
      "DBG: source filename: [./reviews.csv.gz]\n",
      "DBG: ..without last 3 > target filename: [./reviews.csv]\n",
      "DBG: ..without last 7 > target filename: [./reviews]\n",
      "DBG: > target filename: [./reviews_detailed.csv]\n"
     ]
    }
   ],
   "source": [
    "# TODO: Adaptar con nombre pre definidos arriba!\n",
    "# SINGLE EXECUTION - ONLY ONCE REQUIRED, for unpacking ALL on Udacity Workbook Environment\n",
    "\n",
    "# path_to_file_to_be_extracted\n",
    "ip = input_data + 'reviews.csv.gz'\n",
    "\n",
    "# output_file_to_be_filled\n",
    "op_fn = ip[:-7] + '_detailed.csv'\n",
    "\n",
    "print(\"DBG: source filename: [\" + ip + \"]\")\n",
    "print(\"DBG: ..without last 3 > target filename: [\" + ip[:-3] + \"]\")\n",
    "print(\"DBG: ..without last 7 > target filename: [\" + ip[:-7] + \"]\")\n",
    "print(\"DBG: > target filename: [\" + op_fn + \"]\")\n",
    "\n",
    "op = open(op_fn, 'w')\n",
    "\n",
    "with gzip.open(ip, 'rb') as ip_byte:\n",
    "    op.write(ip_byte.read().decode('utf-8'))\n",
    "    op.close()    "
   ]
  },
  {
   "cell_type": "code",
   "execution_count": 71,
   "metadata": {},
   "outputs": [
    {
     "name": "stdout",
     "output_type": "stream",
     "text": [
      "-rw-r--r-- 1 root root  18548579 Apr 25 22:17 reviews.csv\r\n",
      "-rw-r--r-- 1 root root  86708818 Apr 25 22:52 reviews.csv.gz\r\n",
      "-rw-r--r-- 1 root root 226117945 Apr 26 00:35 reviews_detailed.csv\r\n"
     ]
    }
   ],
   "source": [
    "# DEBUG\n",
    "# unzipped?\n",
    "!ls -all rev*"
   ]
  },
  {
   "cell_type": "markdown",
   "metadata": {},
   "source": [
    "#### + + + + END GZ extracting + + + +  \n",
    "\n",
    "#### Exploring source data files step-by-step"
   ]
  },
  {
   "cell_type": "code",
   "execution_count": 19,
   "metadata": {},
   "outputs": [
    {
     "name": "stdout",
     "output_type": "stream",
     "text": [
      ">> Source path [neighbourhoods.csv]: [./neighbourhoods.csv]\n"
     ]
    }
   ],
   "source": [
    "nb_data = input_data + fnNeighbourhoodsCSV\n",
    "print(\">> Source path [\" + fnNeighbourhoodsCSV + \"]: [\" + nb_data + \"]\")"
   ]
  },
  {
   "cell_type": "code",
   "execution_count": 20,
   "metadata": {},
   "outputs": [],
   "source": [
    "df_nb = spark.read.csv(nb_data)"
   ]
  },
  {
   "cell_type": "code",
   "execution_count": 21,
   "metadata": {},
   "outputs": [
    {
     "name": "stdout",
     "output_type": "stream",
     "text": [
      "root\n",
      " |-- _c0: string (nullable = true)\n",
      " |-- _c1: string (nullable = true)\n",
      "\n"
     ]
    }
   ],
   "source": [
    "df_nb.printSchema()"
   ]
  },
  {
   "cell_type": "code",
   "execution_count": 22,
   "metadata": {},
   "outputs": [
    {
     "data": {
      "text/plain": [
       "Row(_c0='neighbourhood_group', _c1='neighbourhood')"
      ]
     },
     "execution_count": 22,
     "metadata": {},
     "output_type": "execute_result"
    }
   ],
   "source": [
    "df_nb.head()"
   ]
  },
  {
   "cell_type": "code",
   "execution_count": 25,
   "metadata": {},
   "outputs": [
    {
     "name": "stdout",
     "output_type": "stream",
     "text": [
      ">> [17] neighbourhoods from df_nb read out in CSV format\n"
     ]
    }
   ],
   "source": [
    "# count of content\n",
    "print(\">> [\" + str(df_nb.count()) + \"] neighbourhoods from df_nb read out in CSV format\")"
   ]
  },
  {
   "cell_type": "code",
   "execution_count": 26,
   "metadata": {},
   "outputs": [
    {
     "data": {
      "text/html": [
       "<div>\n",
       "<style scoped>\n",
       "    .dataframe tbody tr th:only-of-type {\n",
       "        vertical-align: middle;\n",
       "    }\n",
       "\n",
       "    .dataframe tbody tr th {\n",
       "        vertical-align: top;\n",
       "    }\n",
       "\n",
       "    .dataframe thead th {\n",
       "        text-align: right;\n",
       "    }\n",
       "</style>\n",
       "<table border=\"1\" class=\"dataframe\">\n",
       "  <thead>\n",
       "    <tr style=\"text-align: right;\">\n",
       "      <th></th>\n",
       "      <th>_c0</th>\n",
       "      <th>_c1</th>\n",
       "    </tr>\n",
       "  </thead>\n",
       "  <tbody>\n",
       "    <tr>\n",
       "      <th>0</th>\n",
       "      <td>neighbourhood_group</td>\n",
       "      <td>neighbourhood</td>\n",
       "    </tr>\n",
       "    <tr>\n",
       "      <th>1</th>\n",
       "      <td>None</td>\n",
       "      <td>Álvaro Obregón</td>\n",
       "    </tr>\n",
       "    <tr>\n",
       "      <th>2</th>\n",
       "      <td>None</td>\n",
       "      <td>Azcapotzalco</td>\n",
       "    </tr>\n",
       "    <tr>\n",
       "      <th>3</th>\n",
       "      <td>None</td>\n",
       "      <td>Benito Juárez</td>\n",
       "    </tr>\n",
       "    <tr>\n",
       "      <th>4</th>\n",
       "      <td>None</td>\n",
       "      <td>Coyoacán</td>\n",
       "    </tr>\n",
       "  </tbody>\n",
       "</table>\n",
       "</div>"
      ],
      "text/plain": [
       "                   _c0             _c1\n",
       "0  neighbourhood_group   neighbourhood\n",
       "1                 None  Álvaro Obregón\n",
       "2                 None    Azcapotzalco\n",
       "3                 None   Benito Juárez\n",
       "4                 None        Coyoacán"
      ]
     },
     "execution_count": 26,
     "metadata": {},
     "output_type": "execute_result"
    }
   ],
   "source": [
    "# DEBUG\n",
    "df_nb.limit(5).toPandas()"
   ]
  },
  {
   "cell_type": "code",
   "execution_count": 27,
   "metadata": {},
   "outputs": [],
   "source": [
    "# define schema \n",
    "neighbourhoodSchema = R([\n",
    "    Fld(\"neighbourhood_group\", Str()),\n",
    "    Fld(\"neighbourhood\",       Str()),\n",
    "])"
   ]
  },
  {
   "cell_type": "code",
   "execution_count": 40,
   "metadata": {},
   "outputs": [],
   "source": [
    "# reread with prepared schema\n",
    "df_nb = spark.read.csv(nb_data, neighbourhoodSchema)"
   ]
  },
  {
   "cell_type": "code",
   "execution_count": 31,
   "metadata": {},
   "outputs": [
    {
     "name": "stdout",
     "output_type": "stream",
     "text": [
      "root\n",
      " |-- neighbourhood_group: string (nullable = true)\n",
      " |-- neighbourhood: string (nullable = true)\n",
      "\n",
      ">> WRITE OUT FOR DATA DICTIONARY...\n"
     ]
    }
   ],
   "source": [
    "# DEBUG \n",
    "# neighbourhoodSchema given\n",
    "df_nb.printSchema()\n",
    "print(\">> WRITE OUT FOR DATA DICTIONARY...\")"
   ]
  },
  {
   "cell_type": "code",
   "execution_count": 41,
   "metadata": {},
   "outputs": [
    {
     "data": {
      "text/html": [
       "<div>\n",
       "<style scoped>\n",
       "    .dataframe tbody tr th:only-of-type {\n",
       "        vertical-align: middle;\n",
       "    }\n",
       "\n",
       "    .dataframe tbody tr th {\n",
       "        vertical-align: top;\n",
       "    }\n",
       "\n",
       "    .dataframe thead th {\n",
       "        text-align: right;\n",
       "    }\n",
       "</style>\n",
       "<table border=\"1\" class=\"dataframe\">\n",
       "  <thead>\n",
       "    <tr style=\"text-align: right;\">\n",
       "      <th></th>\n",
       "      <th>neighbourhood_group</th>\n",
       "      <th>neighbourhood</th>\n",
       "    </tr>\n",
       "  </thead>\n",
       "  <tbody>\n",
       "    <tr>\n",
       "      <th>0</th>\n",
       "      <td>neighbourhood_group</td>\n",
       "      <td>neighbourhood</td>\n",
       "    </tr>\n",
       "    <tr>\n",
       "      <th>1</th>\n",
       "      <td>None</td>\n",
       "      <td>Álvaro Obregón</td>\n",
       "    </tr>\n",
       "    <tr>\n",
       "      <th>2</th>\n",
       "      <td>None</td>\n",
       "      <td>Azcapotzalco</td>\n",
       "    </tr>\n",
       "    <tr>\n",
       "      <th>3</th>\n",
       "      <td>None</td>\n",
       "      <td>Benito Juárez</td>\n",
       "    </tr>\n",
       "    <tr>\n",
       "      <th>4</th>\n",
       "      <td>None</td>\n",
       "      <td>Coyoacán</td>\n",
       "    </tr>\n",
       "  </tbody>\n",
       "</table>\n",
       "</div>"
      ],
      "text/plain": [
       "   neighbourhood_group   neighbourhood\n",
       "0  neighbourhood_group   neighbourhood\n",
       "1                 None  Álvaro Obregón\n",
       "2                 None    Azcapotzalco\n",
       "3                 None   Benito Juárez\n",
       "4                 None        Coyoacán"
      ]
     },
     "execution_count": 41,
     "metadata": {},
     "output_type": "execute_result"
    }
   ],
   "source": [
    "df_nb.limit(5).toPandas()"
   ]
  },
  {
   "cell_type": "code",
   "execution_count": 42,
   "metadata": {},
   "outputs": [],
   "source": [
    "# reread with prepared schema, and without first row are the header names\n",
    "df_nb = spark.read.csv(nb_data, header='true', sep=',', schema=neighbourhoodSchema)\n",
    "\n",
    "# df = spark.read.option(\"header\",\"true\").format(\"csv\").schema(myManualSchema).load(\"maestraDestacados.csv\")\n",
    "# https://stackoverflow.com/questions/34832312/how-to-make-the-first-row-as-header-when-reading-a-file-in-pyspark-and-convertin"
   ]
  },
  {
   "cell_type": "code",
   "execution_count": 43,
   "metadata": {},
   "outputs": [
    {
     "data": {
      "text/html": [
       "<div>\n",
       "<style scoped>\n",
       "    .dataframe tbody tr th:only-of-type {\n",
       "        vertical-align: middle;\n",
       "    }\n",
       "\n",
       "    .dataframe tbody tr th {\n",
       "        vertical-align: top;\n",
       "    }\n",
       "\n",
       "    .dataframe thead th {\n",
       "        text-align: right;\n",
       "    }\n",
       "</style>\n",
       "<table border=\"1\" class=\"dataframe\">\n",
       "  <thead>\n",
       "    <tr style=\"text-align: right;\">\n",
       "      <th></th>\n",
       "      <th>neighbourhood_group</th>\n",
       "      <th>neighbourhood</th>\n",
       "    </tr>\n",
       "  </thead>\n",
       "  <tbody>\n",
       "    <tr>\n",
       "      <th>0</th>\n",
       "      <td>None</td>\n",
       "      <td>Álvaro Obregón</td>\n",
       "    </tr>\n",
       "    <tr>\n",
       "      <th>1</th>\n",
       "      <td>None</td>\n",
       "      <td>Azcapotzalco</td>\n",
       "    </tr>\n",
       "    <tr>\n",
       "      <th>2</th>\n",
       "      <td>None</td>\n",
       "      <td>Benito Juárez</td>\n",
       "    </tr>\n",
       "    <tr>\n",
       "      <th>3</th>\n",
       "      <td>None</td>\n",
       "      <td>Coyoacán</td>\n",
       "    </tr>\n",
       "    <tr>\n",
       "      <th>4</th>\n",
       "      <td>None</td>\n",
       "      <td>Cuajimalpa de Morelos</td>\n",
       "    </tr>\n",
       "  </tbody>\n",
       "</table>\n",
       "</div>"
      ],
      "text/plain": [
       "  neighbourhood_group          neighbourhood\n",
       "0                None         Álvaro Obregón\n",
       "1                None           Azcapotzalco\n",
       "2                None          Benito Juárez\n",
       "3                None               Coyoacán\n",
       "4                None  Cuajimalpa de Morelos"
      ]
     },
     "execution_count": 43,
     "metadata": {},
     "output_type": "execute_result"
    }
   ],
   "source": [
    "# DEBUG - Verification if some data content breaks the scheme while reading out\n",
    "# .. if broken, content will be \"None\" on all columns displayed!\n",
    "df_nb.limit(5).toPandas()"
   ]
  },
  {
   "cell_type": "markdown",
   "metadata": {},
   "source": [
    "### Apply same steps before to the other CSV files\n",
    "\n",
    "#### Explore the data\n",
    "\n",
    "Explore the data on the same way to write down the possible data dictionary as well to be able to design the data model at the end."
   ]
  },
  {
   "cell_type": "code",
   "execution_count": 15,
   "metadata": {},
   "outputs": [],
   "source": [
    "# define (csv) filenames \n",
    "nhoods_csv_fn   = \"neighbourhoods.csv\"\n",
    "list_csv_fn     = \"listings.csv\"\n",
    "list_det_csv_fn = \"listings_detailed.csv\"  # < listings.csv.gz\n",
    "calendar_csv_fn = \"calendar.csv\"           # < calendar.csv.gz\n",
    "reviews_csv_fn  = \"reviews.csv\"\n",
    "rev_det_csv_fn  = \"reviews_detailed.csv\"   # < reviews.csv.gz"
   ]
  },
  {
   "cell_type": "code",
   "execution_count": 16,
   "metadata": {},
   "outputs": [],
   "source": [
    "nhoods_csv   = input_data + nhoods_csv_fn\n",
    "list_csv     = input_data + list_csv_fn\n",
    "list_det_csv = input_data + list_det_csv_fn\n",
    "calendar_csv = input_data + calendar_csv_fn\n",
    "reviews_csv  = input_data + reviews_csv_fn\n",
    "rev_det_csv  = input_data + rev_det_csv_fn"
   ]
  },
  {
   "cell_type": "code",
   "execution_count": 17,
   "metadata": {},
   "outputs": [
    {
     "name": "stdout",
     "output_type": "stream",
     "text": [
      ">> Source path [neighbourhoods.csv]: [./neighbourhoods.csv]\n",
      ">> Source path [listings.csv]: [./listings.csv]\n",
      ">> Source path [listings_detailed.csv]: [./listings_detailed.csv]\n",
      ">> Source path [calendar.csv]: [./calendar.csv]\n",
      ">> Source path [reviews.csv]: [./reviews.csv]\n",
      ">> Source path [reviews_detailed.csv]: [./reviews_detailed.csv]\n"
     ]
    }
   ],
   "source": [
    "# DEBUG\n",
    "print(\">> Source path [\" + nhoods_csv_fn   + \"]: [\" + nhoods_csv   + \"]\")\n",
    "print(\">> Source path [\" + list_csv_fn     + \"]: [\" + list_csv     + \"]\")\n",
    "print(\">> Source path [\" + list_det_csv_fn + \"]: [\" + list_det_csv + \"]\")\n",
    "print(\">> Source path [\" + calendar_csv_fn + \"]: [\" + calendar_csv + \"]\")\n",
    "print(\">> Source path [\" + reviews_csv_fn  + \"]: [\" + reviews_csv  + \"]\")\n",
    "print(\">> Source path [\" + rev_det_csv_fn  + \"]: [\" + rev_det_csv  + \"]\")"
   ]
  },
  {
   "cell_type": "code",
   "execution_count": 18,
   "metadata": {},
   "outputs": [
    {
     "name": "stdout",
     "output_type": "stream",
     "text": [
      "-rw-r--r-- 1 root root 462719658 Apr 26 00:27 calendar.csv\r\n",
      "-rw-r--r-- 1 root root   3747993 Apr 26 01:50 listings.csv\r\n",
      "-rw-r--r-- 1 root root  60742007 Apr 26 00:23 listings_detailed.csv\r\n",
      "-rw-r--r-- 1 root root       275 Apr 24 23:03 neighbourhoods.csv\r\n",
      "-rw-r--r-- 1 root root  18548579 Apr 25 22:17 reviews.csv\r\n",
      "-rw-r--r-- 1 root root 226117945 Apr 26 00:35 reviews_detailed.csv\r\n"
     ]
    }
   ],
   "source": [
    "# DEBUG\n",
    "!ls -all *.csv"
   ]
  },
  {
   "cell_type": "code",
   "execution_count": 70,
   "metadata": {},
   "outputs": [],
   "source": [
    "# read out and create spark dataframes (\"_df\"), NOT Data Feed (\"df_\")\n",
    "nhoods_df   = spark.read.csv(nhoods_csv)\n",
    "list_df     = spark.read.csv(list_csv)\n",
    "calendar_df = spark.read.csv(calendar_csv)\n",
    "reviews_df  = spark.read.csv(reviews_csv)\n",
    "rev_det_df  = spark.read.csv(rev_det_csv)   # Special quotes/ delimiters required for read out? \n",
    "list_det_df = spark.read.csv(list_det_csv)\n",
    "\n",
    "# INFO: At the end, do not forget to transfer the complete call (with parameters & Schema) to 'etl.py' file!"
   ]
  },
  {
   "cell_type": "markdown",
   "metadata": {},
   "source": [
    "#### Exploring \"listings.csv\" - (Summary)"
   ]
  },
  {
   "cell_type": "code",
   "execution_count": 52,
   "metadata": {},
   "outputs": [
    {
     "name": "stdout",
     "output_type": "stream",
     "text": [
      "root\n",
      " |-- _c0: string (nullable = true)\n",
      " |-- _c1: string (nullable = true)\n",
      " |-- _c2: string (nullable = true)\n",
      " |-- _c3: string (nullable = true)\n",
      " |-- _c4: string (nullable = true)\n",
      " |-- _c5: string (nullable = true)\n",
      " |-- _c6: string (nullable = true)\n",
      " |-- _c7: string (nullable = true)\n",
      " |-- _c8: string (nullable = true)\n",
      " |-- _c9: string (nullable = true)\n",
      " |-- _c10: string (nullable = true)\n",
      " |-- _c11: string (nullable = true)\n",
      " |-- _c12: string (nullable = true)\n",
      " |-- _c13: string (nullable = true)\n",
      " |-- _c14: string (nullable = true)\n",
      " |-- _c15: string (nullable = true)\n",
      " |-- _c16: string (nullable = true)\n",
      " |-- _c17: string (nullable = true)\n",
      "\n"
     ]
    }
   ],
   "source": [
    "# as default, data type \"string\" will be as default used!\n",
    "list_df.printSchema()"
   ]
  },
  {
   "cell_type": "code",
   "execution_count": 53,
   "metadata": {},
   "outputs": [
    {
     "data": {
      "text/plain": [
       "Row(_c0='id', _c1='name', _c2='host_id', _c3='host_name', _c4='neighbourhood_group', _c5='neighbourhood', _c6='latitude', _c7='longitude', _c8='room_type', _c9='price', _c10='minimum_nights', _c11='number_of_reviews', _c12='last_review', _c13='reviews_per_month', _c14='calculated_host_listings_count', _c15='availability_365', _c16='number_of_reviews_ltm', _c17='license')"
      ]
     },
     "execution_count": 53,
     "metadata": {},
     "output_type": "execute_result"
    }
   ],
   "source": [
    "# unformated list of columnnames\n",
    "list_df.head()"
   ]
  },
  {
   "cell_type": "code",
   "execution_count": 54,
   "metadata": {},
   "outputs": [
    {
     "name": "stdout",
     "output_type": "stream",
     "text": [
      ">> [24382] ... read out of CSV format\n"
     ]
    }
   ],
   "source": [
    "print(\">> [\" + str(list_df.count()) + \"] ... read out of CSV format\")"
   ]
  },
  {
   "cell_type": "code",
   "execution_count": 55,
   "metadata": {},
   "outputs": [
    {
     "data": {
      "text/html": [
       "<div>\n",
       "<style scoped>\n",
       "    .dataframe tbody tr th:only-of-type {\n",
       "        vertical-align: middle;\n",
       "    }\n",
       "\n",
       "    .dataframe tbody tr th {\n",
       "        vertical-align: top;\n",
       "    }\n",
       "\n",
       "    .dataframe thead th {\n",
       "        text-align: right;\n",
       "    }\n",
       "</style>\n",
       "<table border=\"1\" class=\"dataframe\">\n",
       "  <thead>\n",
       "    <tr style=\"text-align: right;\">\n",
       "      <th></th>\n",
       "      <th>_c0</th>\n",
       "      <th>_c1</th>\n",
       "      <th>_c2</th>\n",
       "      <th>_c3</th>\n",
       "      <th>_c4</th>\n",
       "      <th>_c5</th>\n",
       "      <th>_c6</th>\n",
       "      <th>_c7</th>\n",
       "      <th>_c8</th>\n",
       "      <th>_c9</th>\n",
       "      <th>_c10</th>\n",
       "      <th>_c11</th>\n",
       "      <th>_c12</th>\n",
       "      <th>_c13</th>\n",
       "      <th>_c14</th>\n",
       "      <th>_c15</th>\n",
       "      <th>_c16</th>\n",
       "      <th>_c17</th>\n",
       "    </tr>\n",
       "  </thead>\n",
       "  <tbody>\n",
       "    <tr>\n",
       "      <th>0</th>\n",
       "      <td>id</td>\n",
       "      <td>name</td>\n",
       "      <td>host_id</td>\n",
       "      <td>host_name</td>\n",
       "      <td>neighbourhood_group</td>\n",
       "      <td>neighbourhood</td>\n",
       "      <td>latitude</td>\n",
       "      <td>longitude</td>\n",
       "      <td>room_type</td>\n",
       "      <td>price</td>\n",
       "      <td>minimum_nights</td>\n",
       "      <td>number_of_reviews</td>\n",
       "      <td>last_review</td>\n",
       "      <td>reviews_per_month</td>\n",
       "      <td>calculated_host_listings_count</td>\n",
       "      <td>availability_365</td>\n",
       "      <td>number_of_reviews_ltm</td>\n",
       "      <td>license</td>\n",
       "    </tr>\n",
       "    <tr>\n",
       "      <th>1</th>\n",
       "      <td>35797</td>\n",
       "      <td>Villa Dante</td>\n",
       "      <td>153786</td>\n",
       "      <td>Dici</td>\n",
       "      <td>None</td>\n",
       "      <td>Cuajimalpa de Morelos</td>\n",
       "      <td>19.38283</td>\n",
       "      <td>-99.27178</td>\n",
       "      <td>Entire home/apt</td>\n",
       "      <td>3658</td>\n",
       "      <td>1</td>\n",
       "      <td>0</td>\n",
       "      <td>None</td>\n",
       "      <td>None</td>\n",
       "      <td>1</td>\n",
       "      <td>363</td>\n",
       "      <td>0</td>\n",
       "      <td>None</td>\n",
       "    </tr>\n",
       "    <tr>\n",
       "      <th>2</th>\n",
       "      <td>696037</td>\n",
       "      <td>3 Bedrooms, 2 blocks from Polanco - ALL RENOVA...</td>\n",
       "      <td>3531879</td>\n",
       "      <td>Gonzalo &amp; Sandra</td>\n",
       "      <td>None</td>\n",
       "      <td>Miguel Hidalgo</td>\n",
       "      <td>19.4418</td>\n",
       "      <td>-99.18402</td>\n",
       "      <td>Entire home/apt</td>\n",
       "      <td>1469</td>\n",
       "      <td>24</td>\n",
       "      <td>39</td>\n",
       "      <td>2022-12-21</td>\n",
       "      <td>0.31</td>\n",
       "      <td>3</td>\n",
       "      <td>87</td>\n",
       "      <td>2</td>\n",
       "      <td>None</td>\n",
       "    </tr>\n",
       "    <tr>\n",
       "      <th>3</th>\n",
       "      <td>2056638</td>\n",
       "      <td>Amplio y luminoso loft en Coyoacán</td>\n",
       "      <td>10531228</td>\n",
       "      <td>Maria</td>\n",
       "      <td>None</td>\n",
       "      <td>Coyoacán</td>\n",
       "      <td>19.35353</td>\n",
       "      <td>-99.16299</td>\n",
       "      <td>Entire home/apt</td>\n",
       "      <td>1434</td>\n",
       "      <td>1</td>\n",
       "      <td>21</td>\n",
       "      <td>2018-06-24</td>\n",
       "      <td>0.19</td>\n",
       "      <td>3</td>\n",
       "      <td>324</td>\n",
       "      <td>0</td>\n",
       "      <td>None</td>\n",
       "    </tr>\n",
       "    <tr>\n",
       "      <th>4</th>\n",
       "      <td>44616</td>\n",
       "      <td>CONDESA HAUS  B&amp;B</td>\n",
       "      <td>196253</td>\n",
       "      <td>Condesa Haus Bed &amp; Breakfast  CDMX</td>\n",
       "      <td>None</td>\n",
       "      <td>Cuauhtémoc</td>\n",
       "      <td>19.41162</td>\n",
       "      <td>-99.17794</td>\n",
       "      <td>Entire home/apt</td>\n",
       "      <td>18000</td>\n",
       "      <td>1</td>\n",
       "      <td>64</td>\n",
       "      <td>2023-03-26</td>\n",
       "      <td>0.46</td>\n",
       "      <td>12</td>\n",
       "      <td>357</td>\n",
       "      <td>12</td>\n",
       "      <td>None</td>\n",
       "    </tr>\n",
       "  </tbody>\n",
       "</table>\n",
       "</div>"
      ],
      "text/plain": [
       "       _c0                                                _c1       _c2  \\\n",
       "0       id                                               name   host_id   \n",
       "1    35797                                        Villa Dante    153786   \n",
       "2   696037  3 Bedrooms, 2 blocks from Polanco - ALL RENOVA...   3531879   \n",
       "3  2056638                 Amplio y luminoso loft en Coyoacán  10531228   \n",
       "4    44616                                  CONDESA HAUS  B&B    196253   \n",
       "\n",
       "                                  _c3                  _c4  \\\n",
       "0                           host_name  neighbourhood_group   \n",
       "1                                Dici                 None   \n",
       "2                    Gonzalo & Sandra                 None   \n",
       "3                               Maria                 None   \n",
       "4  Condesa Haus Bed & Breakfast  CDMX                 None   \n",
       "\n",
       "                     _c5       _c6        _c7              _c8    _c9  \\\n",
       "0          neighbourhood  latitude  longitude        room_type  price   \n",
       "1  Cuajimalpa de Morelos  19.38283  -99.27178  Entire home/apt   3658   \n",
       "2         Miguel Hidalgo   19.4418  -99.18402  Entire home/apt   1469   \n",
       "3               Coyoacán  19.35353  -99.16299  Entire home/apt   1434   \n",
       "4             Cuauhtémoc  19.41162  -99.17794  Entire home/apt  18000   \n",
       "\n",
       "             _c10               _c11         _c12               _c13  \\\n",
       "0  minimum_nights  number_of_reviews  last_review  reviews_per_month   \n",
       "1               1                  0         None               None   \n",
       "2              24                 39   2022-12-21               0.31   \n",
       "3               1                 21   2018-06-24               0.19   \n",
       "4               1                 64   2023-03-26               0.46   \n",
       "\n",
       "                             _c14              _c15                   _c16  \\\n",
       "0  calculated_host_listings_count  availability_365  number_of_reviews_ltm   \n",
       "1                               1               363                      0   \n",
       "2                               3                87                      2   \n",
       "3                               3               324                      0   \n",
       "4                              12               357                     12   \n",
       "\n",
       "      _c17  \n",
       "0  license  \n",
       "1     None  \n",
       "2     None  \n",
       "3     None  \n",
       "4     None  "
      ]
     },
     "execution_count": 55,
     "metadata": {},
     "output_type": "execute_result"
    }
   ],
   "source": [
    "list_df.limit(5).toPandas()"
   ]
  },
  {
   "cell_type": "code",
   "execution_count": 59,
   "metadata": {},
   "outputs": [],
   "source": [
    "# define schema as data type is required\n",
    "listSchema = R([\n",
    "    Fld(\"id\",                             Int()),\n",
    "    Fld(\"name\",                           Str()),\n",
    "    Fld(\"host_id\",                        Int()),\n",
    "    Fld(\"host_name\",                      Str()),\n",
    "    Fld(\"neighbourhood_group\",            Str()),\n",
    "    Fld(\"neighbourhood\",                  Str()),\n",
    "    Fld(\"latitude\",                       Flt()),\n",
    "    Fld(\"longitude\",                      Flt()),\n",
    "    Fld(\"room_type\",                      Str()),\n",
    "    Fld(\"requested_price\",                Int()),\n",
    "    Fld(\"minimum_nights\",                 Int()),\n",
    "    Fld(\"number_of_reviews\",              Int()),\n",
    "    Fld(\"last_review\",                    Date()),\n",
    "    Fld(\"reviews_per_month\",              Flt()),\n",
    "    Fld(\"calculated_host_listings_count\", Int()),\n",
    "    Fld(\"availability_365\",               Int()),\n",
    "    Fld(\"number_of_reviews_ltm\",          Int()),\n",
    "    Fld(\"license\",                        Int()),\n",
    "])"
   ]
  },
  {
   "cell_type": "code",
   "execution_count": 60,
   "metadata": {},
   "outputs": [],
   "source": [
    "list_df = spark.read.option(\"header\",\"true\").format(\"csv\").schema(listSchema).load(list_csv)"
   ]
  },
  {
   "cell_type": "code",
   "execution_count": 61,
   "metadata": {},
   "outputs": [
    {
     "name": "stdout",
     "output_type": "stream",
     "text": [
      "root\n",
      " |-- id: integer (nullable = true)\n",
      " |-- name: string (nullable = true)\n",
      " |-- host_id: integer (nullable = true)\n",
      " |-- host_name: string (nullable = true)\n",
      " |-- neighbourhood_group: string (nullable = true)\n",
      " |-- neighbourhood: string (nullable = true)\n",
      " |-- latitude: float (nullable = true)\n",
      " |-- longitude: float (nullable = true)\n",
      " |-- room_type: string (nullable = true)\n",
      " |-- price: integer (nullable = true)\n",
      " |-- minimum_nights: integer (nullable = true)\n",
      " |-- number_of_reviews: integer (nullable = true)\n",
      " |-- last_review: date (nullable = true)\n",
      " |-- reviews_per_month: float (nullable = true)\n",
      " |-- calculated_host_listings_count: integer (nullable = true)\n",
      " |-- availability_365: integer (nullable = true)\n",
      " |-- number_of_reviews_ltm: integer (nullable = true)\n",
      " |-- license: integer (nullable = true)\n",
      "\n",
      ">> WRITE OUT FOR DATA DICTIONARY...\n"
     ]
    }
   ],
   "source": [
    "# DEBUG \n",
    "# ___Schema given\n",
    "list_df.printSchema()\n",
    "print(\">> WRITE OUT FOR DATA DICTIONARY...\")"
   ]
  },
  {
   "cell_type": "code",
   "execution_count": 62,
   "metadata": {},
   "outputs": [
    {
     "data": {
      "text/html": [
       "<div>\n",
       "<style scoped>\n",
       "    .dataframe tbody tr th:only-of-type {\n",
       "        vertical-align: middle;\n",
       "    }\n",
       "\n",
       "    .dataframe tbody tr th {\n",
       "        vertical-align: top;\n",
       "    }\n",
       "\n",
       "    .dataframe thead th {\n",
       "        text-align: right;\n",
       "    }\n",
       "</style>\n",
       "<table border=\"1\" class=\"dataframe\">\n",
       "  <thead>\n",
       "    <tr style=\"text-align: right;\">\n",
       "      <th></th>\n",
       "      <th>id</th>\n",
       "      <th>name</th>\n",
       "      <th>host_id</th>\n",
       "      <th>host_name</th>\n",
       "      <th>neighbourhood_group</th>\n",
       "      <th>neighbourhood</th>\n",
       "      <th>latitude</th>\n",
       "      <th>longitude</th>\n",
       "      <th>room_type</th>\n",
       "      <th>price</th>\n",
       "      <th>minimum_nights</th>\n",
       "      <th>number_of_reviews</th>\n",
       "      <th>last_review</th>\n",
       "      <th>reviews_per_month</th>\n",
       "      <th>calculated_host_listings_count</th>\n",
       "      <th>availability_365</th>\n",
       "      <th>number_of_reviews_ltm</th>\n",
       "      <th>license</th>\n",
       "    </tr>\n",
       "  </thead>\n",
       "  <tbody>\n",
       "    <tr>\n",
       "      <th>0</th>\n",
       "      <td>35797</td>\n",
       "      <td>Villa Dante</td>\n",
       "      <td>153786</td>\n",
       "      <td>Dici</td>\n",
       "      <td>None</td>\n",
       "      <td>Cuajimalpa de Morelos</td>\n",
       "      <td>19.382830</td>\n",
       "      <td>-99.271782</td>\n",
       "      <td>Entire home/apt</td>\n",
       "      <td>3658</td>\n",
       "      <td>1</td>\n",
       "      <td>0</td>\n",
       "      <td>None</td>\n",
       "      <td>NaN</td>\n",
       "      <td>1</td>\n",
       "      <td>363</td>\n",
       "      <td>0</td>\n",
       "      <td>None</td>\n",
       "    </tr>\n",
       "    <tr>\n",
       "      <th>1</th>\n",
       "      <td>696037</td>\n",
       "      <td>3 Bedrooms, 2 blocks from Polanco - ALL RENOVA...</td>\n",
       "      <td>3531879</td>\n",
       "      <td>Gonzalo &amp; Sandra</td>\n",
       "      <td>None</td>\n",
       "      <td>Miguel Hidalgo</td>\n",
       "      <td>19.441799</td>\n",
       "      <td>-99.184021</td>\n",
       "      <td>Entire home/apt</td>\n",
       "      <td>1469</td>\n",
       "      <td>24</td>\n",
       "      <td>39</td>\n",
       "      <td>2022-12-21</td>\n",
       "      <td>0.31</td>\n",
       "      <td>3</td>\n",
       "      <td>87</td>\n",
       "      <td>2</td>\n",
       "      <td>None</td>\n",
       "    </tr>\n",
       "    <tr>\n",
       "      <th>2</th>\n",
       "      <td>2056638</td>\n",
       "      <td>Amplio y luminoso loft en Coyoacán</td>\n",
       "      <td>10531228</td>\n",
       "      <td>Maria</td>\n",
       "      <td>None</td>\n",
       "      <td>Coyoacán</td>\n",
       "      <td>19.353531</td>\n",
       "      <td>-99.162987</td>\n",
       "      <td>Entire home/apt</td>\n",
       "      <td>1434</td>\n",
       "      <td>1</td>\n",
       "      <td>21</td>\n",
       "      <td>2018-06-24</td>\n",
       "      <td>0.19</td>\n",
       "      <td>3</td>\n",
       "      <td>324</td>\n",
       "      <td>0</td>\n",
       "      <td>None</td>\n",
       "    </tr>\n",
       "    <tr>\n",
       "      <th>3</th>\n",
       "      <td>44616</td>\n",
       "      <td>CONDESA HAUS  B&amp;B</td>\n",
       "      <td>196253</td>\n",
       "      <td>Condesa Haus Bed &amp; Breakfast  CDMX</td>\n",
       "      <td>None</td>\n",
       "      <td>Cuauhtémoc</td>\n",
       "      <td>19.411619</td>\n",
       "      <td>-99.177940</td>\n",
       "      <td>Entire home/apt</td>\n",
       "      <td>18000</td>\n",
       "      <td>1</td>\n",
       "      <td>64</td>\n",
       "      <td>2023-03-26</td>\n",
       "      <td>0.46</td>\n",
       "      <td>12</td>\n",
       "      <td>357</td>\n",
       "      <td>12</td>\n",
       "      <td>None</td>\n",
       "    </tr>\n",
       "    <tr>\n",
       "      <th>4</th>\n",
       "      <td>2072354</td>\n",
       "      <td>Coyoacan Historic Studio Apartment</td>\n",
       "      <td>16840050</td>\n",
       "      <td>Mónica</td>\n",
       "      <td>None</td>\n",
       "      <td>Coyoacán</td>\n",
       "      <td>19.353580</td>\n",
       "      <td>-99.169479</td>\n",
       "      <td>Entire home/apt</td>\n",
       "      <td>830</td>\n",
       "      <td>3</td>\n",
       "      <td>61</td>\n",
       "      <td>2022-11-04</td>\n",
       "      <td>0.54</td>\n",
       "      <td>2</td>\n",
       "      <td>346</td>\n",
       "      <td>1</td>\n",
       "      <td>None</td>\n",
       "    </tr>\n",
       "  </tbody>\n",
       "</table>\n",
       "</div>"
      ],
      "text/plain": [
       "        id                                               name   host_id  \\\n",
       "0    35797                                        Villa Dante    153786   \n",
       "1   696037  3 Bedrooms, 2 blocks from Polanco - ALL RENOVA...   3531879   \n",
       "2  2056638                 Amplio y luminoso loft en Coyoacán  10531228   \n",
       "3    44616                                  CONDESA HAUS  B&B    196253   \n",
       "4  2072354                 Coyoacan Historic Studio Apartment  16840050   \n",
       "\n",
       "                            host_name neighbourhood_group  \\\n",
       "0                                Dici                None   \n",
       "1                    Gonzalo & Sandra                None   \n",
       "2                               Maria                None   \n",
       "3  Condesa Haus Bed & Breakfast  CDMX                None   \n",
       "4                              Mónica                None   \n",
       "\n",
       "           neighbourhood   latitude  longitude        room_type  price  \\\n",
       "0  Cuajimalpa de Morelos  19.382830 -99.271782  Entire home/apt   3658   \n",
       "1         Miguel Hidalgo  19.441799 -99.184021  Entire home/apt   1469   \n",
       "2               Coyoacán  19.353531 -99.162987  Entire home/apt   1434   \n",
       "3             Cuauhtémoc  19.411619 -99.177940  Entire home/apt  18000   \n",
       "4               Coyoacán  19.353580 -99.169479  Entire home/apt    830   \n",
       "\n",
       "   minimum_nights  number_of_reviews last_review  reviews_per_month  \\\n",
       "0               1                  0        None                NaN   \n",
       "1              24                 39  2022-12-21               0.31   \n",
       "2               1                 21  2018-06-24               0.19   \n",
       "3               1                 64  2023-03-26               0.46   \n",
       "4               3                 61  2022-11-04               0.54   \n",
       "\n",
       "   calculated_host_listings_count  availability_365  number_of_reviews_ltm  \\\n",
       "0                               1               363                      0   \n",
       "1                               3                87                      2   \n",
       "2                               3               324                      0   \n",
       "3                              12               357                     12   \n",
       "4                               2               346                      1   \n",
       "\n",
       "  license  \n",
       "0    None  \n",
       "1    None  \n",
       "2    None  \n",
       "3    None  \n",
       "4    None  "
      ]
     },
     "execution_count": 62,
     "metadata": {},
     "output_type": "execute_result"
    }
   ],
   "source": [
    "list_df.limit(5).toPandas()"
   ]
  },
  {
   "cell_type": "markdown",
   "metadata": {},
   "source": [
    "#### Exploring \"calendar.csv\""
   ]
  },
  {
   "cell_type": "markdown",
   "metadata": {},
   "source": [
    "#### \"calendar.csv\": Variant (A): direct reading and creating data frame (\"_df\") through spark.read()"
   ]
  },
  {
   "cell_type": "code",
   "execution_count": 28,
   "metadata": {},
   "outputs": [
    {
     "name": "stdout",
     "output_type": "stream",
     "text": [
      "root\n",
      " |-- _c0: string (nullable = true)\n",
      " |-- _c1: string (nullable = true)\n",
      " |-- _c2: string (nullable = true)\n",
      " |-- _c3: string (nullable = true)\n",
      " |-- _c4: string (nullable = true)\n",
      " |-- _c5: string (nullable = true)\n",
      " |-- _c6: string (nullable = true)\n",
      "\n"
     ]
    }
   ],
   "source": [
    "calendar_df.printSchema()\n",
    "# was read through:\n",
    "# calendar_df = spark.read.csv(calendar_csv)"
   ]
  },
  {
   "cell_type": "code",
   "execution_count": 29,
   "metadata": {},
   "outputs": [
    {
     "data": {
      "text/plain": [
       "Row(_c0='listing_id', _c1='date', _c2='available', _c3='price', _c4='adjusted_price', _c5='minimum_nights', _c6='maximum_nights')"
      ]
     },
     "execution_count": 29,
     "metadata": {},
     "output_type": "execute_result"
    }
   ],
   "source": [
    "calendar_df.head()"
   ]
  },
  {
   "cell_type": "code",
   "execution_count": 30,
   "metadata": {},
   "outputs": [
    {
     "name": "stdout",
     "output_type": "stream",
     "text": [
      ">> [8841402] rows read out from CSV file\n"
     ]
    }
   ],
   "source": [
    "print(\">> [\" + str(calendar_df.count()) + \"] rows read out from CSV file\")"
   ]
  },
  {
   "cell_type": "code",
   "execution_count": 31,
   "metadata": {},
   "outputs": [
    {
     "data": {
      "text/html": [
       "<div>\n",
       "<style scoped>\n",
       "    .dataframe tbody tr th:only-of-type {\n",
       "        vertical-align: middle;\n",
       "    }\n",
       "\n",
       "    .dataframe tbody tr th {\n",
       "        vertical-align: top;\n",
       "    }\n",
       "\n",
       "    .dataframe thead th {\n",
       "        text-align: right;\n",
       "    }\n",
       "</style>\n",
       "<table border=\"1\" class=\"dataframe\">\n",
       "  <thead>\n",
       "    <tr style=\"text-align: right;\">\n",
       "      <th></th>\n",
       "      <th>_c0</th>\n",
       "      <th>_c1</th>\n",
       "      <th>_c2</th>\n",
       "      <th>_c3</th>\n",
       "      <th>_c4</th>\n",
       "      <th>_c5</th>\n",
       "      <th>_c6</th>\n",
       "    </tr>\n",
       "  </thead>\n",
       "  <tbody>\n",
       "    <tr>\n",
       "      <th>0</th>\n",
       "      <td>listing_id</td>\n",
       "      <td>date</td>\n",
       "      <td>available</td>\n",
       "      <td>price</td>\n",
       "      <td>adjusted_price</td>\n",
       "      <td>minimum_nights</td>\n",
       "      <td>maximum_nights</td>\n",
       "    </tr>\n",
       "    <tr>\n",
       "      <th>1</th>\n",
       "      <td>2056638</td>\n",
       "      <td>2023-03-30</td>\n",
       "      <td>f</td>\n",
       "      <td>$1,434.00</td>\n",
       "      <td>$1,434.00</td>\n",
       "      <td>1</td>\n",
       "      <td>1125</td>\n",
       "    </tr>\n",
       "    <tr>\n",
       "      <th>2</th>\n",
       "      <td>2056638</td>\n",
       "      <td>2023-03-31</td>\n",
       "      <td>f</td>\n",
       "      <td>$1,434.00</td>\n",
       "      <td>$1,434.00</td>\n",
       "      <td>1</td>\n",
       "      <td>1125</td>\n",
       "    </tr>\n",
       "    <tr>\n",
       "      <th>3</th>\n",
       "      <td>2056638</td>\n",
       "      <td>2023-04-01</td>\n",
       "      <td>f</td>\n",
       "      <td>$1,434.00</td>\n",
       "      <td>$1,434.00</td>\n",
       "      <td>1</td>\n",
       "      <td>1125</td>\n",
       "    </tr>\n",
       "    <tr>\n",
       "      <th>4</th>\n",
       "      <td>2056638</td>\n",
       "      <td>2023-04-02</td>\n",
       "      <td>f</td>\n",
       "      <td>$1,434.00</td>\n",
       "      <td>$1,434.00</td>\n",
       "      <td>1</td>\n",
       "      <td>1125</td>\n",
       "    </tr>\n",
       "  </tbody>\n",
       "</table>\n",
       "</div>"
      ],
      "text/plain": [
       "          _c0         _c1        _c2        _c3             _c4  \\\n",
       "0  listing_id        date  available      price  adjusted_price   \n",
       "1     2056638  2023-03-30          f  $1,434.00       $1,434.00   \n",
       "2     2056638  2023-03-31          f  $1,434.00       $1,434.00   \n",
       "3     2056638  2023-04-01          f  $1,434.00       $1,434.00   \n",
       "4     2056638  2023-04-02          f  $1,434.00       $1,434.00   \n",
       "\n",
       "              _c5             _c6  \n",
       "0  minimum_nights  maximum_nights  \n",
       "1               1            1125  \n",
       "2               1            1125  \n",
       "3               1            1125  \n",
       "4               1            1125  "
      ]
     },
     "execution_count": 31,
     "metadata": {},
     "output_type": "execute_result"
    }
   ],
   "source": [
    "calendar_df.limit(5).toPandas()"
   ]
  },
  {
   "cell_type": "code",
   "execution_count": 32,
   "metadata": {},
   "outputs": [],
   "source": [
    "# define schema - 1st shoot - but! >> ERROR, while \"None\" showing - WHY?! incompatible data for given types!\n",
    "calendarSchema = R([\n",
    "    Fld(\"listing_id\",     Str()),\n",
    "    Fld(\"date\",           Date()),\n",
    "    Fld(\"available\",      Bol()),  # 'f' <> 'False'  >> afterwars replace it !\n",
    "    Fld(\"price\",          Dec()),  # '$'             >> afterwars replace it !\n",
    "    Fld(\"adjusted_price\", Dec()),  # '$'             >> afterwars replace it !\n",
    "    Fld(\"minimum_nights\", Int()),\n",
    "    Fld(\"maximum_nights\", Int()),\n",
    "])"
   ]
  },
  {
   "cell_type": "code",
   "execution_count": 33,
   "metadata": {},
   "outputs": [],
   "source": [
    "calendar_df = spark.read.option(\"header\",\"true\").option('sep',',').format(\"csv\").schema(calendarSchema).load(calendar_csv)"
   ]
  },
  {
   "cell_type": "code",
   "execution_count": 34,
   "metadata": {},
   "outputs": [
    {
     "name": "stdout",
     "output_type": "stream",
     "text": [
      "root\n",
      " |-- listing_id: string (nullable = true)\n",
      " |-- date: date (nullable = true)\n",
      " |-- available: boolean (nullable = true)\n",
      " |-- price: decimal(10,0) (nullable = true)\n",
      " |-- adjusted_price: decimal(10,0) (nullable = true)\n",
      " |-- minimum_nights: integer (nullable = true)\n",
      " |-- maximum_nights: integer (nullable = true)\n",
      "\n"
     ]
    }
   ],
   "source": [
    "# DEBUG \n",
    "# ___Schema given\n",
    "calendar_df.printSchema()\n",
    "# print(\">> WRITE OUT FOR DATA DICTIONARY...\")\n",
    "# >> ERROR, while \"None\" showing - WHY?! incompatible data for given types!"
   ]
  },
  {
   "cell_type": "code",
   "execution_count": 37,
   "metadata": {},
   "outputs": [
    {
     "data": {
      "text/html": [
       "<div>\n",
       "<style scoped>\n",
       "    .dataframe tbody tr th:only-of-type {\n",
       "        vertical-align: middle;\n",
       "    }\n",
       "\n",
       "    .dataframe tbody tr th {\n",
       "        vertical-align: top;\n",
       "    }\n",
       "\n",
       "    .dataframe thead th {\n",
       "        text-align: right;\n",
       "    }\n",
       "</style>\n",
       "<table border=\"1\" class=\"dataframe\">\n",
       "  <thead>\n",
       "    <tr style=\"text-align: right;\">\n",
       "      <th></th>\n",
       "      <th>listing_id</th>\n",
       "      <th>date</th>\n",
       "      <th>available</th>\n",
       "      <th>price</th>\n",
       "      <th>adjusted_price</th>\n",
       "      <th>minimum_nights</th>\n",
       "      <th>maximum_nights</th>\n",
       "    </tr>\n",
       "  </thead>\n",
       "  <tbody>\n",
       "    <tr>\n",
       "      <th>0</th>\n",
       "      <td>None</td>\n",
       "      <td>None</td>\n",
       "      <td>None</td>\n",
       "      <td>None</td>\n",
       "      <td>None</td>\n",
       "      <td>None</td>\n",
       "      <td>None</td>\n",
       "    </tr>\n",
       "    <tr>\n",
       "      <th>1</th>\n",
       "      <td>None</td>\n",
       "      <td>None</td>\n",
       "      <td>None</td>\n",
       "      <td>None</td>\n",
       "      <td>None</td>\n",
       "      <td>None</td>\n",
       "      <td>None</td>\n",
       "    </tr>\n",
       "    <tr>\n",
       "      <th>2</th>\n",
       "      <td>None</td>\n",
       "      <td>None</td>\n",
       "      <td>None</td>\n",
       "      <td>None</td>\n",
       "      <td>None</td>\n",
       "      <td>None</td>\n",
       "      <td>None</td>\n",
       "    </tr>\n",
       "    <tr>\n",
       "      <th>3</th>\n",
       "      <td>None</td>\n",
       "      <td>None</td>\n",
       "      <td>None</td>\n",
       "      <td>None</td>\n",
       "      <td>None</td>\n",
       "      <td>None</td>\n",
       "      <td>None</td>\n",
       "    </tr>\n",
       "    <tr>\n",
       "      <th>4</th>\n",
       "      <td>None</td>\n",
       "      <td>None</td>\n",
       "      <td>None</td>\n",
       "      <td>None</td>\n",
       "      <td>None</td>\n",
       "      <td>None</td>\n",
       "      <td>None</td>\n",
       "    </tr>\n",
       "  </tbody>\n",
       "</table>\n",
       "</div>"
      ],
      "text/plain": [
       "  listing_id  date available price adjusted_price minimum_nights  \\\n",
       "0       None  None      None  None           None           None   \n",
       "1       None  None      None  None           None           None   \n",
       "2       None  None      None  None           None           None   \n",
       "3       None  None      None  None           None           None   \n",
       "4       None  None      None  None           None           None   \n",
       "\n",
       "  maximum_nights  \n",
       "0           None  \n",
       "1           None  \n",
       "2           None  \n",
       "3           None  \n",
       "4           None  "
      ]
     },
     "execution_count": 37,
     "metadata": {},
     "output_type": "execute_result"
    }
   ],
   "source": [
    "# df1 = calendar_df.filter(calendar_df.listing_id == \"2056638\")\n",
    "# df1.limit(5).toPandas()\n",
    "calendar_df.limit(5).toPandas()"
   ]
  },
  {
   "cell_type": "code",
   "execution_count": 65,
   "metadata": {},
   "outputs": [],
   "source": [
    "# define schema - 2nd shoot - CORRECTIONS! - not more \"None\" display - Neutralized through StringType()\n",
    "calendarSchema = R([\n",
    "    Fld(\"listing_id\",     Str()),\n",
    "    Fld(\"date\",           Date()),\n",
    "    Fld(\"available\",      Str()), # Bol()),\n",
    "    Fld(\"price\",          Str()), # Dec()),\n",
    "    Fld(\"adjusted_price\", Str()), # Dec()),\n",
    "    Fld(\"minimum_nights\", Int()),\n",
    "    Fld(\"maximum_nights\", Int()),\n",
    "])"
   ]
  },
  {
   "cell_type": "code",
   "execution_count": 66,
   "metadata": {},
   "outputs": [],
   "source": [
    "calendar_df = spark.read.option('header','true') \\\n",
    "                   .option('sep',',') \\\n",
    "                   .format('csv') \\\n",
    "                   .schema(calendarSchema) \\\n",
    "                   .load(calendar_csv)"
   ]
  },
  {
   "cell_type": "code",
   "execution_count": 60,
   "metadata": {},
   "outputs": [],
   "source": [
    "#calendar_df = spark.read.option('header','true') \\\n",
    "#                   .option('sep',',') \\\n",
    "#                   .option('inferSchema', 'true') \\\n",
    "#                   .format('csv') \\\n",
    "#                   .schema(calendarSchema) \\\n",
    "#                   .load(calendar_csv)"
   ]
  },
  {
   "cell_type": "code",
   "execution_count": 49,
   "metadata": {},
   "outputs": [
    {
     "data": {
      "text/plain": [
       "8841401"
      ]
     },
     "execution_count": 49,
     "metadata": {},
     "output_type": "execute_result"
    }
   ],
   "source": [
    "calendar_df.count()"
   ]
  },
  {
   "cell_type": "code",
   "execution_count": 67,
   "metadata": {},
   "outputs": [
    {
     "data": {
      "text/html": [
       "<div>\n",
       "<style scoped>\n",
       "    .dataframe tbody tr th:only-of-type {\n",
       "        vertical-align: middle;\n",
       "    }\n",
       "\n",
       "    .dataframe tbody tr th {\n",
       "        vertical-align: top;\n",
       "    }\n",
       "\n",
       "    .dataframe thead th {\n",
       "        text-align: right;\n",
       "    }\n",
       "</style>\n",
       "<table border=\"1\" class=\"dataframe\">\n",
       "  <thead>\n",
       "    <tr style=\"text-align: right;\">\n",
       "      <th></th>\n",
       "      <th>listing_id</th>\n",
       "      <th>date</th>\n",
       "      <th>available</th>\n",
       "      <th>price</th>\n",
       "      <th>adjusted_price</th>\n",
       "      <th>minimum_nights</th>\n",
       "      <th>maximum_nights</th>\n",
       "    </tr>\n",
       "  </thead>\n",
       "  <tbody>\n",
       "    <tr>\n",
       "      <th>0</th>\n",
       "      <td>2056638</td>\n",
       "      <td>2023-03-30</td>\n",
       "      <td>f</td>\n",
       "      <td>$1,434.00</td>\n",
       "      <td>$1,434.00</td>\n",
       "      <td>1</td>\n",
       "      <td>1125</td>\n",
       "    </tr>\n",
       "    <tr>\n",
       "      <th>1</th>\n",
       "      <td>2056638</td>\n",
       "      <td>2023-03-31</td>\n",
       "      <td>f</td>\n",
       "      <td>$1,434.00</td>\n",
       "      <td>$1,434.00</td>\n",
       "      <td>1</td>\n",
       "      <td>1125</td>\n",
       "    </tr>\n",
       "    <tr>\n",
       "      <th>2</th>\n",
       "      <td>2056638</td>\n",
       "      <td>2023-04-01</td>\n",
       "      <td>f</td>\n",
       "      <td>$1,434.00</td>\n",
       "      <td>$1,434.00</td>\n",
       "      <td>1</td>\n",
       "      <td>1125</td>\n",
       "    </tr>\n",
       "    <tr>\n",
       "      <th>3</th>\n",
       "      <td>2056638</td>\n",
       "      <td>2023-04-02</td>\n",
       "      <td>f</td>\n",
       "      <td>$1,434.00</td>\n",
       "      <td>$1,434.00</td>\n",
       "      <td>1</td>\n",
       "      <td>1125</td>\n",
       "    </tr>\n",
       "    <tr>\n",
       "      <th>4</th>\n",
       "      <td>2056638</td>\n",
       "      <td>2023-04-03</td>\n",
       "      <td>f</td>\n",
       "      <td>$1,434.00</td>\n",
       "      <td>$1,434.00</td>\n",
       "      <td>1</td>\n",
       "      <td>1125</td>\n",
       "    </tr>\n",
       "  </tbody>\n",
       "</table>\n",
       "</div>"
      ],
      "text/plain": [
       "  listing_id        date available      price adjusted_price  minimum_nights  \\\n",
       "0    2056638  2023-03-30         f  $1,434.00      $1,434.00               1   \n",
       "1    2056638  2023-03-31         f  $1,434.00      $1,434.00               1   \n",
       "2    2056638  2023-04-01         f  $1,434.00      $1,434.00               1   \n",
       "3    2056638  2023-04-02         f  $1,434.00      $1,434.00               1   \n",
       "4    2056638  2023-04-03         f  $1,434.00      $1,434.00               1   \n",
       "\n",
       "   maximum_nights  \n",
       "0            1125  \n",
       "1            1125  \n",
       "2            1125  \n",
       "3            1125  \n",
       "4            1125  "
      ]
     },
     "execution_count": 67,
     "metadata": {},
     "output_type": "execute_result"
    }
   ],
   "source": [
    "calendar_df.limit(5).toPandas()"
   ]
  },
  {
   "cell_type": "code",
   "execution_count": 68,
   "metadata": {},
   "outputs": [
    {
     "name": "stdout",
     "output_type": "stream",
     "text": [
      "root\n",
      " |-- listing_id: string (nullable = true)\n",
      " |-- date: date (nullable = true)\n",
      " |-- available: string (nullable = true)\n",
      " |-- price: string (nullable = true)\n",
      " |-- adjusted_price: string (nullable = true)\n",
      " |-- minimum_nights: integer (nullable = true)\n",
      " |-- maximum_nights: integer (nullable = true)\n",
      "\n",
      ">> WRITE OUT (temporary) FOR DATA DICTIONARY...\n"
     ]
    }
   ],
   "source": [
    "# DEBUG \n",
    "# ___Schema given\n",
    "calendar_df.printSchema()\n",
    "print(\">> WRITE OUT (temporary) FOR DATA DICTIONARY...\")"
   ]
  },
  {
   "cell_type": "code",
   "execution_count": null,
   "metadata": {},
   "outputs": [],
   "source": [
    "# TODO: \n",
    "# - replace '$' by ''\n",
    "# - replace 'f' to False\n",
    "# calendar_df['price'] = calendar_df['price'].replace('$', '')"
   ]
  },
  {
   "cell_type": "code",
   "execution_count": 69,
   "metadata": {},
   "outputs": [
    {
     "data": {
      "text/html": [
       "<div>\n",
       "<style scoped>\n",
       "    .dataframe tbody tr th:only-of-type {\n",
       "        vertical-align: middle;\n",
       "    }\n",
       "\n",
       "    .dataframe tbody tr th {\n",
       "        vertical-align: top;\n",
       "    }\n",
       "\n",
       "    .dataframe thead th {\n",
       "        text-align: right;\n",
       "    }\n",
       "</style>\n",
       "<table border=\"1\" class=\"dataframe\">\n",
       "  <thead>\n",
       "    <tr style=\"text-align: right;\">\n",
       "      <th></th>\n",
       "      <th>listing_id</th>\n",
       "      <th>date</th>\n",
       "      <th>available</th>\n",
       "      <th>price</th>\n",
       "      <th>adjusted_price</th>\n",
       "      <th>minimum_nights</th>\n",
       "      <th>maximum_nights</th>\n",
       "    </tr>\n",
       "  </thead>\n",
       "  <tbody>\n",
       "    <tr>\n",
       "      <th>0</th>\n",
       "      <td>2056638</td>\n",
       "      <td>2023-03-30</td>\n",
       "      <td>f</td>\n",
       "      <td>$1,434.00</td>\n",
       "      <td>$1,434.00</td>\n",
       "      <td>1</td>\n",
       "      <td>1125</td>\n",
       "    </tr>\n",
       "    <tr>\n",
       "      <th>1</th>\n",
       "      <td>2056638</td>\n",
       "      <td>2023-03-31</td>\n",
       "      <td>f</td>\n",
       "      <td>$1,434.00</td>\n",
       "      <td>$1,434.00</td>\n",
       "      <td>1</td>\n",
       "      <td>1125</td>\n",
       "    </tr>\n",
       "    <tr>\n",
       "      <th>2</th>\n",
       "      <td>2056638</td>\n",
       "      <td>2023-04-01</td>\n",
       "      <td>f</td>\n",
       "      <td>$1,434.00</td>\n",
       "      <td>$1,434.00</td>\n",
       "      <td>1</td>\n",
       "      <td>1125</td>\n",
       "    </tr>\n",
       "    <tr>\n",
       "      <th>3</th>\n",
       "      <td>2056638</td>\n",
       "      <td>2023-04-02</td>\n",
       "      <td>f</td>\n",
       "      <td>$1,434.00</td>\n",
       "      <td>$1,434.00</td>\n",
       "      <td>1</td>\n",
       "      <td>1125</td>\n",
       "    </tr>\n",
       "    <tr>\n",
       "      <th>4</th>\n",
       "      <td>2056638</td>\n",
       "      <td>2023-04-03</td>\n",
       "      <td>f</td>\n",
       "      <td>$1,434.00</td>\n",
       "      <td>$1,434.00</td>\n",
       "      <td>1</td>\n",
       "      <td>1125</td>\n",
       "    </tr>\n",
       "  </tbody>\n",
       "</table>\n",
       "</div>"
      ],
      "text/plain": [
       "  listing_id        date available      price adjusted_price  minimum_nights  \\\n",
       "0    2056638  2023-03-30         f  $1,434.00      $1,434.00               1   \n",
       "1    2056638  2023-03-31         f  $1,434.00      $1,434.00               1   \n",
       "2    2056638  2023-04-01         f  $1,434.00      $1,434.00               1   \n",
       "3    2056638  2023-04-02         f  $1,434.00      $1,434.00               1   \n",
       "4    2056638  2023-04-03         f  $1,434.00      $1,434.00               1   \n",
       "\n",
       "   maximum_nights  \n",
       "0            1125  \n",
       "1            1125  \n",
       "2            1125  \n",
       "3            1125  \n",
       "4            1125  "
      ]
     },
     "execution_count": 69,
     "metadata": {},
     "output_type": "execute_result"
    }
   ],
   "source": [
    "# TODO - Better?\n",
    "calendar_df.limit(5).toPandas()"
   ]
  },
  {
   "cell_type": "markdown",
   "metadata": {},
   "source": [
    "Because of replacement required, i.e. \"$\", this way does not work.  \n",
    "Workaround through Pandas.\n",
    "\n",
    "#### \"calendar.csv\": Variant (B): direct reading and creating data frame (\"_df\") through pandas.read_csv()"
   ]
  },
  {
   "cell_type": "code",
   "execution_count": 55,
   "metadata": {},
   "outputs": [],
   "source": [
    "# read csv(s) into pandas dataframe (\"_df\")\n",
    "calendar_df = pd.read_csv(calendar_csv)"
   ]
  },
  {
   "cell_type": "code",
   "execution_count": 56,
   "metadata": {},
   "outputs": [
    {
     "data": {
      "text/html": [
       "<div>\n",
       "<style scoped>\n",
       "    .dataframe tbody tr th:only-of-type {\n",
       "        vertical-align: middle;\n",
       "    }\n",
       "\n",
       "    .dataframe tbody tr th {\n",
       "        vertical-align: top;\n",
       "    }\n",
       "\n",
       "    .dataframe thead th {\n",
       "        text-align: right;\n",
       "    }\n",
       "</style>\n",
       "<table border=\"1\" class=\"dataframe\">\n",
       "  <thead>\n",
       "    <tr style=\"text-align: right;\">\n",
       "      <th></th>\n",
       "      <th>listing_id</th>\n",
       "      <th>date</th>\n",
       "      <th>available</th>\n",
       "      <th>price</th>\n",
       "      <th>adjusted_price</th>\n",
       "      <th>minimum_nights</th>\n",
       "      <th>maximum_nights</th>\n",
       "    </tr>\n",
       "  </thead>\n",
       "  <tbody>\n",
       "    <tr>\n",
       "      <th>0</th>\n",
       "      <td>2056638</td>\n",
       "      <td>2023-03-30</td>\n",
       "      <td>f</td>\n",
       "      <td>$1,434.00</td>\n",
       "      <td>$1,434.00</td>\n",
       "      <td>1.0</td>\n",
       "      <td>1125.0</td>\n",
       "    </tr>\n",
       "    <tr>\n",
       "      <th>1</th>\n",
       "      <td>2056638</td>\n",
       "      <td>2023-03-31</td>\n",
       "      <td>f</td>\n",
       "      <td>$1,434.00</td>\n",
       "      <td>$1,434.00</td>\n",
       "      <td>1.0</td>\n",
       "      <td>1125.0</td>\n",
       "    </tr>\n",
       "    <tr>\n",
       "      <th>2</th>\n",
       "      <td>2056638</td>\n",
       "      <td>2023-04-01</td>\n",
       "      <td>f</td>\n",
       "      <td>$1,434.00</td>\n",
       "      <td>$1,434.00</td>\n",
       "      <td>1.0</td>\n",
       "      <td>1125.0</td>\n",
       "    </tr>\n",
       "    <tr>\n",
       "      <th>3</th>\n",
       "      <td>2056638</td>\n",
       "      <td>2023-04-02</td>\n",
       "      <td>f</td>\n",
       "      <td>$1,434.00</td>\n",
       "      <td>$1,434.00</td>\n",
       "      <td>1.0</td>\n",
       "      <td>1125.0</td>\n",
       "    </tr>\n",
       "    <tr>\n",
       "      <th>4</th>\n",
       "      <td>2056638</td>\n",
       "      <td>2023-04-03</td>\n",
       "      <td>f</td>\n",
       "      <td>$1,434.00</td>\n",
       "      <td>$1,434.00</td>\n",
       "      <td>1.0</td>\n",
       "      <td>1125.0</td>\n",
       "    </tr>\n",
       "  </tbody>\n",
       "</table>\n",
       "</div>"
      ],
      "text/plain": [
       "   listing_id        date available      price adjusted_price  minimum_nights  \\\n",
       "0     2056638  2023-03-30         f  $1,434.00      $1,434.00             1.0   \n",
       "1     2056638  2023-03-31         f  $1,434.00      $1,434.00             1.0   \n",
       "2     2056638  2023-04-01         f  $1,434.00      $1,434.00             1.0   \n",
       "3     2056638  2023-04-02         f  $1,434.00      $1,434.00             1.0   \n",
       "4     2056638  2023-04-03         f  $1,434.00      $1,434.00             1.0   \n",
       "\n",
       "   maximum_nights  \n",
       "0          1125.0  \n",
       "1          1125.0  \n",
       "2          1125.0  \n",
       "3          1125.0  \n",
       "4          1125.0  "
      ]
     },
     "execution_count": 56,
     "metadata": {},
     "output_type": "execute_result"
    }
   ],
   "source": [
    "calendar_df.head()"
   ]
  },
  {
   "cell_type": "code",
   "execution_count": 40,
   "metadata": {},
   "outputs": [],
   "source": [
    "# https://www.geeksforgeeks.org/python-pandas-dataframe-replace/\n",
    "## calendar_df.replace(to_replace=\"f\", value=\"S\")\n",
    "# works on 100% same letter / word. But seems on a part not! \"$\" not successfull, but on \"f\" > \"S\"\n",
    "# df.replace( to_replace= [\"old-a\", \"old-b\"], value=\"New-Value\")\n",
    "# df.replace( to_replace= np.nan, value= -9999 )  # NaN values will be replaced by the value -9999\n",
    "\n",
    "# https://www.geeksforgeeks.org/replace-values-in-pandas-dataframe-using-regex/\n",
    "# calendar_df.replace('$','',regex=True) # NO changes/ update\n",
    "# calendar_df['minimum_nights'].replace('.','/',regex=True) # NOT work, because [float64] DataType\n",
    "\n",
    "\n",
    "#calendar_df['price'] = calendar_df['price'].str.replace('$','')"
   ]
  },
  {
   "cell_type": "code",
   "execution_count": 57,
   "metadata": {},
   "outputs": [],
   "source": [
    "calendar_df['price'] = calendar_df['price'].str.replace('$', '')"
   ]
  },
  {
   "cell_type": "code",
   "execution_count": 59,
   "metadata": {},
   "outputs": [],
   "source": [
    "calendar_df['adjusted_price'] = calendar_df['adjusted_price'].str.replace('$', '')"
   ]
  },
  {
   "cell_type": "code",
   "execution_count": 60,
   "metadata": {},
   "outputs": [
    {
     "data": {
      "text/html": [
       "<div>\n",
       "<style scoped>\n",
       "    .dataframe tbody tr th:only-of-type {\n",
       "        vertical-align: middle;\n",
       "    }\n",
       "\n",
       "    .dataframe tbody tr th {\n",
       "        vertical-align: top;\n",
       "    }\n",
       "\n",
       "    .dataframe thead th {\n",
       "        text-align: right;\n",
       "    }\n",
       "</style>\n",
       "<table border=\"1\" class=\"dataframe\">\n",
       "  <thead>\n",
       "    <tr style=\"text-align: right;\">\n",
       "      <th></th>\n",
       "      <th>listing_id</th>\n",
       "      <th>date</th>\n",
       "      <th>available</th>\n",
       "      <th>price</th>\n",
       "      <th>adjusted_price</th>\n",
       "      <th>minimum_nights</th>\n",
       "      <th>maximum_nights</th>\n",
       "    </tr>\n",
       "  </thead>\n",
       "  <tbody>\n",
       "    <tr>\n",
       "      <th>0</th>\n",
       "      <td>2056638</td>\n",
       "      <td>2023-03-30</td>\n",
       "      <td>f</td>\n",
       "      <td>1,434.00</td>\n",
       "      <td>1,434.00</td>\n",
       "      <td>1.0</td>\n",
       "      <td>1125.0</td>\n",
       "    </tr>\n",
       "    <tr>\n",
       "      <th>1</th>\n",
       "      <td>2056638</td>\n",
       "      <td>2023-03-31</td>\n",
       "      <td>f</td>\n",
       "      <td>1,434.00</td>\n",
       "      <td>1,434.00</td>\n",
       "      <td>1.0</td>\n",
       "      <td>1125.0</td>\n",
       "    </tr>\n",
       "    <tr>\n",
       "      <th>2</th>\n",
       "      <td>2056638</td>\n",
       "      <td>2023-04-01</td>\n",
       "      <td>f</td>\n",
       "      <td>1,434.00</td>\n",
       "      <td>1,434.00</td>\n",
       "      <td>1.0</td>\n",
       "      <td>1125.0</td>\n",
       "    </tr>\n",
       "    <tr>\n",
       "      <th>3</th>\n",
       "      <td>2056638</td>\n",
       "      <td>2023-04-02</td>\n",
       "      <td>f</td>\n",
       "      <td>1,434.00</td>\n",
       "      <td>1,434.00</td>\n",
       "      <td>1.0</td>\n",
       "      <td>1125.0</td>\n",
       "    </tr>\n",
       "    <tr>\n",
       "      <th>4</th>\n",
       "      <td>2056638</td>\n",
       "      <td>2023-04-03</td>\n",
       "      <td>f</td>\n",
       "      <td>1,434.00</td>\n",
       "      <td>1,434.00</td>\n",
       "      <td>1.0</td>\n",
       "      <td>1125.0</td>\n",
       "    </tr>\n",
       "  </tbody>\n",
       "</table>\n",
       "</div>"
      ],
      "text/plain": [
       "   listing_id        date available     price adjusted_price  minimum_nights  \\\n",
       "0     2056638  2023-03-30         f  1,434.00       1,434.00             1.0   \n",
       "1     2056638  2023-03-31         f  1,434.00       1,434.00             1.0   \n",
       "2     2056638  2023-04-01         f  1,434.00       1,434.00             1.0   \n",
       "3     2056638  2023-04-02         f  1,434.00       1,434.00             1.0   \n",
       "4     2056638  2023-04-03         f  1,434.00       1,434.00             1.0   \n",
       "\n",
       "   maximum_nights  \n",
       "0          1125.0  \n",
       "1          1125.0  \n",
       "2          1125.0  \n",
       "3          1125.0  \n",
       "4          1125.0  "
      ]
     },
     "execution_count": 60,
     "metadata": {},
     "output_type": "execute_result"
    }
   ],
   "source": [
    "calendar_df.head()"
   ]
  },
  {
   "cell_type": "code",
   "execution_count": 61,
   "metadata": {},
   "outputs": [
    {
     "data": {
      "text/plain": [
       "listing_id        8841401\n",
       "date              8841401\n",
       "available         8841401\n",
       "price             8841401\n",
       "adjusted_price    8841401\n",
       "minimum_nights    8841397\n",
       "maximum_nights    8841397\n",
       "dtype: int64"
      ]
     },
     "execution_count": 61,
     "metadata": {},
     "output_type": "execute_result"
    }
   ],
   "source": [
    "calendar_df.count()\n",
    "# !! Advantage of reading with PANDAS: quick check, how well columns are filled !!"
   ]
  },
  {
   "cell_type": "code",
   "execution_count": 62,
   "metadata": {},
   "outputs": [
    {
     "data": {
      "text/html": [
       "<div>\n",
       "<style scoped>\n",
       "    .dataframe tbody tr th:only-of-type {\n",
       "        vertical-align: middle;\n",
       "    }\n",
       "\n",
       "    .dataframe tbody tr th {\n",
       "        vertical-align: top;\n",
       "    }\n",
       "\n",
       "    .dataframe thead th {\n",
       "        text-align: right;\n",
       "    }\n",
       "</style>\n",
       "<table border=\"1\" class=\"dataframe\">\n",
       "  <thead>\n",
       "    <tr style=\"text-align: right;\">\n",
       "      <th></th>\n",
       "      <th>listing_id</th>\n",
       "      <th>date</th>\n",
       "      <th>available</th>\n",
       "      <th>price</th>\n",
       "      <th>adjusted_price</th>\n",
       "      <th>minimum_nights</th>\n",
       "      <th>maximum_nights</th>\n",
       "    </tr>\n",
       "  </thead>\n",
       "  <tbody>\n",
       "    <tr>\n",
       "      <th>0</th>\n",
       "      <td>2056638</td>\n",
       "      <td>2023-03-30</td>\n",
       "      <td>f</td>\n",
       "      <td>1,434.00</td>\n",
       "      <td>1,434.00</td>\n",
       "      <td>1.0</td>\n",
       "      <td>1125.0</td>\n",
       "    </tr>\n",
       "    <tr>\n",
       "      <th>1</th>\n",
       "      <td>2056638</td>\n",
       "      <td>2023-03-31</td>\n",
       "      <td>f</td>\n",
       "      <td>1,434.00</td>\n",
       "      <td>1,434.00</td>\n",
       "      <td>1.0</td>\n",
       "      <td>1125.0</td>\n",
       "    </tr>\n",
       "    <tr>\n",
       "      <th>2</th>\n",
       "      <td>2056638</td>\n",
       "      <td>2023-04-01</td>\n",
       "      <td>f</td>\n",
       "      <td>1,434.00</td>\n",
       "      <td>1,434.00</td>\n",
       "      <td>1.0</td>\n",
       "      <td>1125.0</td>\n",
       "    </tr>\n",
       "  </tbody>\n",
       "</table>\n",
       "</div>"
      ],
      "text/plain": [
       "   listing_id        date available     price adjusted_price  minimum_nights  \\\n",
       "0     2056638  2023-03-30         f  1,434.00       1,434.00             1.0   \n",
       "1     2056638  2023-03-31         f  1,434.00       1,434.00             1.0   \n",
       "2     2056638  2023-04-01         f  1,434.00       1,434.00             1.0   \n",
       "\n",
       "   maximum_nights  \n",
       "0          1125.0  \n",
       "1          1125.0  \n",
       "2          1125.0  "
      ]
     },
     "execution_count": 62,
     "metadata": {},
     "output_type": "execute_result"
    }
   ],
   "source": [
    "# print first 3 rows of the data frame\n",
    "calendar_df[:3]"
   ]
  },
  {
   "cell_type": "markdown",
   "metadata": {},
   "source": [
    "<font color=\"red\">Trying to create a data frame with \"cleaned\" data, BUT it does fail!</font>"
   ]
  },
  {
   "cell_type": "code",
   "execution_count": 76,
   "metadata": {},
   "outputs": [],
   "source": [
    "# define schema - 2nd shoot - CORRECTIONS! - not more \"None\" display - Neutralized through StringType()\n",
    "calendarSchema = R([\n",
    "    Fld(\"listing_id\",     Str(),  True),\n",
    "    Fld(\"date\",           Str(),  True),   # TS(),   True),    # Date(), True),\n",
    "    Fld(\"available\",      Str(),  True),   # Bol(),  True),\n",
    "    Fld(\"price\",          Dec(),  True),\n",
    "    Fld(\"adjusted_price\", Dec(),  True),\n",
    "    Fld(\"minimum_nights\", Int(),  True),\n",
    "    Fld(\"maximum_nights\", Int(),  True)\n",
    "])"
   ]
  },
  {
   "cell_type": "code",
   "execution_count": 77,
   "metadata": {},
   "outputs": [
    {
     "ename": "TypeError",
     "evalue": "field price: DecimalType(10,0) can not accept object '1,434.00' in type <class 'str'>",
     "output_type": "error",
     "traceback": [
      "\u001b[0;31m---------------------------------------------------------------------------\u001b[0m",
      "\u001b[0;31mTypeError\u001b[0m                                 Traceback (most recent call last)",
      "\u001b[0;32m<ipython-input-77-d60ed05073a5>\u001b[0m in \u001b[0;36m<module>\u001b[0;34m()\u001b[0m\n\u001b[0;32m----> 1\u001b[0;31m \u001b[0mdf_calendar\u001b[0m \u001b[0;34m=\u001b[0m \u001b[0mspark\u001b[0m\u001b[0;34m.\u001b[0m\u001b[0mcreateDataFrame\u001b[0m\u001b[0;34m(\u001b[0m\u001b[0mcalendar_df\u001b[0m\u001b[0;34m,\u001b[0m \u001b[0mcalendarSchema\u001b[0m\u001b[0;34m)\u001b[0m\u001b[0;34m\u001b[0m\u001b[0m\n\u001b[0m",
      "\u001b[0;32m/opt/spark-2.4.3-bin-hadoop2.7/python/pyspark/sql/session.py\u001b[0m in \u001b[0;36mcreateDataFrame\u001b[0;34m(self, data, schema, samplingRatio, verifySchema)\u001b[0m\n\u001b[1;32m    746\u001b[0m             \u001b[0mrdd\u001b[0m\u001b[0;34m,\u001b[0m \u001b[0mschema\u001b[0m \u001b[0;34m=\u001b[0m \u001b[0mself\u001b[0m\u001b[0;34m.\u001b[0m\u001b[0m_createFromRDD\u001b[0m\u001b[0;34m(\u001b[0m\u001b[0mdata\u001b[0m\u001b[0;34m.\u001b[0m\u001b[0mmap\u001b[0m\u001b[0;34m(\u001b[0m\u001b[0mprepare\u001b[0m\u001b[0;34m)\u001b[0m\u001b[0;34m,\u001b[0m \u001b[0mschema\u001b[0m\u001b[0;34m,\u001b[0m \u001b[0msamplingRatio\u001b[0m\u001b[0;34m)\u001b[0m\u001b[0;34m\u001b[0m\u001b[0m\n\u001b[1;32m    747\u001b[0m         \u001b[0;32melse\u001b[0m\u001b[0;34m:\u001b[0m\u001b[0;34m\u001b[0m\u001b[0m\n\u001b[0;32m--> 748\u001b[0;31m             \u001b[0mrdd\u001b[0m\u001b[0;34m,\u001b[0m \u001b[0mschema\u001b[0m \u001b[0;34m=\u001b[0m \u001b[0mself\u001b[0m\u001b[0;34m.\u001b[0m\u001b[0m_createFromLocal\u001b[0m\u001b[0;34m(\u001b[0m\u001b[0mmap\u001b[0m\u001b[0;34m(\u001b[0m\u001b[0mprepare\u001b[0m\u001b[0;34m,\u001b[0m \u001b[0mdata\u001b[0m\u001b[0;34m)\u001b[0m\u001b[0;34m,\u001b[0m \u001b[0mschema\u001b[0m\u001b[0;34m)\u001b[0m\u001b[0;34m\u001b[0m\u001b[0m\n\u001b[0m\u001b[1;32m    749\u001b[0m         \u001b[0mjrdd\u001b[0m \u001b[0;34m=\u001b[0m \u001b[0mself\u001b[0m\u001b[0;34m.\u001b[0m\u001b[0m_jvm\u001b[0m\u001b[0;34m.\u001b[0m\u001b[0mSerDeUtil\u001b[0m\u001b[0;34m.\u001b[0m\u001b[0mtoJavaArray\u001b[0m\u001b[0;34m(\u001b[0m\u001b[0mrdd\u001b[0m\u001b[0;34m.\u001b[0m\u001b[0m_to_java_object_rdd\u001b[0m\u001b[0;34m(\u001b[0m\u001b[0;34m)\u001b[0m\u001b[0;34m)\u001b[0m\u001b[0;34m\u001b[0m\u001b[0m\n\u001b[1;32m    750\u001b[0m         \u001b[0mjdf\u001b[0m \u001b[0;34m=\u001b[0m \u001b[0mself\u001b[0m\u001b[0;34m.\u001b[0m\u001b[0m_jsparkSession\u001b[0m\u001b[0;34m.\u001b[0m\u001b[0mapplySchemaToPythonRDD\u001b[0m\u001b[0;34m(\u001b[0m\u001b[0mjrdd\u001b[0m\u001b[0;34m.\u001b[0m\u001b[0mrdd\u001b[0m\u001b[0;34m(\u001b[0m\u001b[0;34m)\u001b[0m\u001b[0;34m,\u001b[0m \u001b[0mschema\u001b[0m\u001b[0;34m.\u001b[0m\u001b[0mjson\u001b[0m\u001b[0;34m(\u001b[0m\u001b[0;34m)\u001b[0m\u001b[0;34m)\u001b[0m\u001b[0;34m\u001b[0m\u001b[0m\n",
      "\u001b[0;32m/opt/spark-2.4.3-bin-hadoop2.7/python/pyspark/sql/session.py\u001b[0m in \u001b[0;36m_createFromLocal\u001b[0;34m(self, data, schema)\u001b[0m\n\u001b[1;32m    411\u001b[0m         \u001b[0;31m# make sure data could consumed multiple times\u001b[0m\u001b[0;34m\u001b[0m\u001b[0;34m\u001b[0m\u001b[0m\n\u001b[1;32m    412\u001b[0m         \u001b[0;32mif\u001b[0m \u001b[0;32mnot\u001b[0m \u001b[0misinstance\u001b[0m\u001b[0;34m(\u001b[0m\u001b[0mdata\u001b[0m\u001b[0;34m,\u001b[0m \u001b[0mlist\u001b[0m\u001b[0;34m)\u001b[0m\u001b[0;34m:\u001b[0m\u001b[0;34m\u001b[0m\u001b[0m\n\u001b[0;32m--> 413\u001b[0;31m             \u001b[0mdata\u001b[0m \u001b[0;34m=\u001b[0m \u001b[0mlist\u001b[0m\u001b[0;34m(\u001b[0m\u001b[0mdata\u001b[0m\u001b[0;34m)\u001b[0m\u001b[0;34m\u001b[0m\u001b[0m\n\u001b[0m\u001b[1;32m    414\u001b[0m \u001b[0;34m\u001b[0m\u001b[0m\n\u001b[1;32m    415\u001b[0m         \u001b[0;32mif\u001b[0m \u001b[0mschema\u001b[0m \u001b[0;32mis\u001b[0m \u001b[0;32mNone\u001b[0m \u001b[0;32mor\u001b[0m \u001b[0misinstance\u001b[0m\u001b[0;34m(\u001b[0m\u001b[0mschema\u001b[0m\u001b[0;34m,\u001b[0m \u001b[0;34m(\u001b[0m\u001b[0mlist\u001b[0m\u001b[0;34m,\u001b[0m \u001b[0mtuple\u001b[0m\u001b[0;34m)\u001b[0m\u001b[0;34m)\u001b[0m\u001b[0;34m:\u001b[0m\u001b[0;34m\u001b[0m\u001b[0m\n",
      "\u001b[0;32m/opt/spark-2.4.3-bin-hadoop2.7/python/pyspark/sql/session.py\u001b[0m in \u001b[0;36mprepare\u001b[0;34m(obj)\u001b[0m\n\u001b[1;32m    728\u001b[0m \u001b[0;34m\u001b[0m\u001b[0m\n\u001b[1;32m    729\u001b[0m             \u001b[0;32mdef\u001b[0m \u001b[0mprepare\u001b[0m\u001b[0;34m(\u001b[0m\u001b[0mobj\u001b[0m\u001b[0;34m)\u001b[0m\u001b[0;34m:\u001b[0m\u001b[0;34m\u001b[0m\u001b[0m\n\u001b[0;32m--> 730\u001b[0;31m                 \u001b[0mverify_func\u001b[0m\u001b[0;34m(\u001b[0m\u001b[0mobj\u001b[0m\u001b[0;34m)\u001b[0m\u001b[0;34m\u001b[0m\u001b[0m\n\u001b[0m\u001b[1;32m    731\u001b[0m                 \u001b[0;32mreturn\u001b[0m \u001b[0mobj\u001b[0m\u001b[0;34m\u001b[0m\u001b[0m\n\u001b[1;32m    732\u001b[0m         \u001b[0;32melif\u001b[0m \u001b[0misinstance\u001b[0m\u001b[0;34m(\u001b[0m\u001b[0mschema\u001b[0m\u001b[0;34m,\u001b[0m \u001b[0mDataType\u001b[0m\u001b[0;34m)\u001b[0m\u001b[0;34m:\u001b[0m\u001b[0;34m\u001b[0m\u001b[0m\n",
      "\u001b[0;32m/opt/spark-2.4.3-bin-hadoop2.7/python/pyspark/sql/types.py\u001b[0m in \u001b[0;36mverify\u001b[0;34m(obj)\u001b[0m\n\u001b[1;32m   1387\u001b[0m     \u001b[0;32mdef\u001b[0m \u001b[0mverify\u001b[0m\u001b[0;34m(\u001b[0m\u001b[0mobj\u001b[0m\u001b[0;34m)\u001b[0m\u001b[0;34m:\u001b[0m\u001b[0;34m\u001b[0m\u001b[0m\n\u001b[1;32m   1388\u001b[0m         \u001b[0;32mif\u001b[0m \u001b[0;32mnot\u001b[0m \u001b[0mverify_nullability\u001b[0m\u001b[0;34m(\u001b[0m\u001b[0mobj\u001b[0m\u001b[0;34m)\u001b[0m\u001b[0;34m:\u001b[0m\u001b[0;34m\u001b[0m\u001b[0m\n\u001b[0;32m-> 1389\u001b[0;31m             \u001b[0mverify_value\u001b[0m\u001b[0;34m(\u001b[0m\u001b[0mobj\u001b[0m\u001b[0;34m)\u001b[0m\u001b[0;34m\u001b[0m\u001b[0m\n\u001b[0m\u001b[1;32m   1390\u001b[0m \u001b[0;34m\u001b[0m\u001b[0m\n\u001b[1;32m   1391\u001b[0m     \u001b[0;32mreturn\u001b[0m \u001b[0mverify\u001b[0m\u001b[0;34m\u001b[0m\u001b[0m\n",
      "\u001b[0;32m/opt/spark-2.4.3-bin-hadoop2.7/python/pyspark/sql/types.py\u001b[0m in \u001b[0;36mverify_struct\u001b[0;34m(obj)\u001b[0m\n\u001b[1;32m   1368\u001b[0m                                 \"length of fields (%d)\" % (len(obj), len(verifiers))))\n\u001b[1;32m   1369\u001b[0m                 \u001b[0;32mfor\u001b[0m \u001b[0mv\u001b[0m\u001b[0;34m,\u001b[0m \u001b[0;34m(\u001b[0m\u001b[0m_\u001b[0m\u001b[0;34m,\u001b[0m \u001b[0mverifier\u001b[0m\u001b[0;34m)\u001b[0m \u001b[0;32min\u001b[0m \u001b[0mzip\u001b[0m\u001b[0;34m(\u001b[0m\u001b[0mobj\u001b[0m\u001b[0;34m,\u001b[0m \u001b[0mverifiers\u001b[0m\u001b[0;34m)\u001b[0m\u001b[0;34m:\u001b[0m\u001b[0;34m\u001b[0m\u001b[0m\n\u001b[0;32m-> 1370\u001b[0;31m                     \u001b[0mverifier\u001b[0m\u001b[0;34m(\u001b[0m\u001b[0mv\u001b[0m\u001b[0;34m)\u001b[0m\u001b[0;34m\u001b[0m\u001b[0m\n\u001b[0m\u001b[1;32m   1371\u001b[0m             \u001b[0;32melif\u001b[0m \u001b[0mhasattr\u001b[0m\u001b[0;34m(\u001b[0m\u001b[0mobj\u001b[0m\u001b[0;34m,\u001b[0m \u001b[0;34m\"__dict__\"\u001b[0m\u001b[0;34m)\u001b[0m\u001b[0;34m:\u001b[0m\u001b[0;34m\u001b[0m\u001b[0m\n\u001b[1;32m   1372\u001b[0m                 \u001b[0md\u001b[0m \u001b[0;34m=\u001b[0m \u001b[0mobj\u001b[0m\u001b[0;34m.\u001b[0m\u001b[0m__dict__\u001b[0m\u001b[0;34m\u001b[0m\u001b[0m\n",
      "\u001b[0;32m/opt/spark-2.4.3-bin-hadoop2.7/python/pyspark/sql/types.py\u001b[0m in \u001b[0;36mverify\u001b[0;34m(obj)\u001b[0m\n\u001b[1;32m   1387\u001b[0m     \u001b[0;32mdef\u001b[0m \u001b[0mverify\u001b[0m\u001b[0;34m(\u001b[0m\u001b[0mobj\u001b[0m\u001b[0;34m)\u001b[0m\u001b[0;34m:\u001b[0m\u001b[0;34m\u001b[0m\u001b[0m\n\u001b[1;32m   1388\u001b[0m         \u001b[0;32mif\u001b[0m \u001b[0;32mnot\u001b[0m \u001b[0mverify_nullability\u001b[0m\u001b[0;34m(\u001b[0m\u001b[0mobj\u001b[0m\u001b[0;34m)\u001b[0m\u001b[0;34m:\u001b[0m\u001b[0;34m\u001b[0m\u001b[0m\n\u001b[0;32m-> 1389\u001b[0;31m             \u001b[0mverify_value\u001b[0m\u001b[0;34m(\u001b[0m\u001b[0mobj\u001b[0m\u001b[0;34m)\u001b[0m\u001b[0;34m\u001b[0m\u001b[0m\n\u001b[0m\u001b[1;32m   1390\u001b[0m \u001b[0;34m\u001b[0m\u001b[0m\n\u001b[1;32m   1391\u001b[0m     \u001b[0;32mreturn\u001b[0m \u001b[0mverify\u001b[0m\u001b[0;34m\u001b[0m\u001b[0m\n",
      "\u001b[0;32m/opt/spark-2.4.3-bin-hadoop2.7/python/pyspark/sql/types.py\u001b[0m in \u001b[0;36mverify_default\u001b[0;34m(obj)\u001b[0m\n\u001b[1;32m   1381\u001b[0m         \u001b[0;32mdef\u001b[0m \u001b[0mverify_default\u001b[0m\u001b[0;34m(\u001b[0m\u001b[0mobj\u001b[0m\u001b[0;34m)\u001b[0m\u001b[0;34m:\u001b[0m\u001b[0;34m\u001b[0m\u001b[0m\n\u001b[1;32m   1382\u001b[0m             \u001b[0massert_acceptable_types\u001b[0m\u001b[0;34m(\u001b[0m\u001b[0mobj\u001b[0m\u001b[0;34m)\u001b[0m\u001b[0;34m\u001b[0m\u001b[0m\n\u001b[0;32m-> 1383\u001b[0;31m             \u001b[0mverify_acceptable_types\u001b[0m\u001b[0;34m(\u001b[0m\u001b[0mobj\u001b[0m\u001b[0;34m)\u001b[0m\u001b[0;34m\u001b[0m\u001b[0m\n\u001b[0m\u001b[1;32m   1384\u001b[0m \u001b[0;34m\u001b[0m\u001b[0m\n\u001b[1;32m   1385\u001b[0m         \u001b[0mverify_value\u001b[0m \u001b[0;34m=\u001b[0m \u001b[0mverify_default\u001b[0m\u001b[0;34m\u001b[0m\u001b[0m\n",
      "\u001b[0;32m/opt/spark-2.4.3-bin-hadoop2.7/python/pyspark/sql/types.py\u001b[0m in \u001b[0;36mverify_acceptable_types\u001b[0;34m(obj)\u001b[0m\n\u001b[1;32m   1276\u001b[0m         \u001b[0;32mif\u001b[0m \u001b[0mtype\u001b[0m\u001b[0;34m(\u001b[0m\u001b[0mobj\u001b[0m\u001b[0;34m)\u001b[0m \u001b[0;32mnot\u001b[0m \u001b[0;32min\u001b[0m \u001b[0m_acceptable_types\u001b[0m\u001b[0;34m[\u001b[0m\u001b[0m_type\u001b[0m\u001b[0;34m]\u001b[0m\u001b[0;34m:\u001b[0m\u001b[0;34m\u001b[0m\u001b[0m\n\u001b[1;32m   1277\u001b[0m             raise TypeError(new_msg(\"%s can not accept object %r in type %s\"\n\u001b[0;32m-> 1278\u001b[0;31m                                     % (dataType, obj, type(obj))))\n\u001b[0m\u001b[1;32m   1279\u001b[0m \u001b[0;34m\u001b[0m\u001b[0m\n\u001b[1;32m   1280\u001b[0m     \u001b[0;32mif\u001b[0m \u001b[0misinstance\u001b[0m\u001b[0;34m(\u001b[0m\u001b[0mdataType\u001b[0m\u001b[0;34m,\u001b[0m \u001b[0mStringType\u001b[0m\u001b[0;34m)\u001b[0m\u001b[0;34m:\u001b[0m\u001b[0;34m\u001b[0m\u001b[0m\n",
      "\u001b[0;31mTypeError\u001b[0m: field price: DecimalType(10,0) can not accept object '1,434.00' in type <class 'str'>"
     ]
    }
   ],
   "source": [
    "df_calendar = spark.createDataFrame(calendar_df, calendarSchema)"
   ]
  },
  {
   "cell_type": "code",
   "execution_count": 68,
   "metadata": {},
   "outputs": [
    {
     "name": "stdout",
     "output_type": "stream",
     "text": [
      "root\n",
      " |-- listing_id: string (nullable = true)\n",
      " |-- date: date (nullable = true)\n",
      " |-- available: string (nullable = true)\n",
      " |-- price: string (nullable = true)\n",
      " |-- adjusted_price: string (nullable = true)\n",
      " |-- minimum_nights: integer (nullable = true)\n",
      " |-- maximum_nights: integer (nullable = true)\n",
      "\n",
      ">> WRITE OUT (temporary) FOR DATA DICTIONARY...\n"
     ]
    }
   ],
   "source": [
    "# DEBUG \n",
    "# ___Schema given\n",
    "calendar_df.printSchema()\n",
    "print(\">> WRITE OUT (temporary) FOR DATA DICTIONARY...\")"
   ]
  },
  {
   "cell_type": "markdown",
   "metadata": {},
   "source": [
    "<font color=\"red\">**NOTE:** Already here cleaning my structure, leaving ['price','m*'] out!</font>"
   ]
  },
  {
   "cell_type": "code",
   "execution_count": null,
   "metadata": {},
   "outputs": [],
   "source": [
    "# define schema - 3rd shoot - Alredy cutting columns!\n",
    "calendarSchema = R([\n",
    "    Fld(\"listing_id\",     Str()),\n",
    "    Fld(\"date\",           Date()),\n",
    "    Fld(\"available\",      Str()),\n",
    "    Fld(\"adjusted_price\", Str()),\n",
    "])"
   ]
  },
  {
   "cell_type": "code",
   "execution_count": null,
   "metadata": {},
   "outputs": [],
   "source": []
  },
  {
   "cell_type": "code",
   "execution_count": null,
   "metadata": {},
   "outputs": [],
   "source": []
  },
  {
   "cell_type": "markdown",
   "metadata": {},
   "source": [
    "#### Exploring \"reviews.csv\""
   ]
  },
  {
   "cell_type": "code",
   "execution_count": 20,
   "metadata": {},
   "outputs": [
    {
     "name": "stdout",
     "output_type": "stream",
     "text": [
      "root\n",
      " |-- _c0: string (nullable = true)\n",
      " |-- _c1: string (nullable = true)\n",
      "\n"
     ]
    }
   ],
   "source": [
    "reviews_df.printSchema()"
   ]
  },
  {
   "cell_type": "code",
   "execution_count": 21,
   "metadata": {},
   "outputs": [
    {
     "data": {
      "text/plain": [
       "Row(_c0='listing_id', _c1='date')"
      ]
     },
     "execution_count": 21,
     "metadata": {},
     "output_type": "execute_result"
    }
   ],
   "source": [
    "reviews_df.head()"
   ]
  },
  {
   "cell_type": "code",
   "execution_count": 23,
   "metadata": {},
   "outputs": [
    {
     "name": "stdout",
     "output_type": "stream",
     "text": [
      ">> [886241] rows read out from CSV file\n"
     ]
    }
   ],
   "source": [
    "print(\">> [\" + str(reviews_df.count()) + \"] rows read out from CSV file\")"
   ]
  },
  {
   "cell_type": "code",
   "execution_count": 24,
   "metadata": {},
   "outputs": [
    {
     "data": {
      "text/html": [
       "<div>\n",
       "<style scoped>\n",
       "    .dataframe tbody tr th:only-of-type {\n",
       "        vertical-align: middle;\n",
       "    }\n",
       "\n",
       "    .dataframe tbody tr th {\n",
       "        vertical-align: top;\n",
       "    }\n",
       "\n",
       "    .dataframe thead th {\n",
       "        text-align: right;\n",
       "    }\n",
       "</style>\n",
       "<table border=\"1\" class=\"dataframe\">\n",
       "  <thead>\n",
       "    <tr style=\"text-align: right;\">\n",
       "      <th></th>\n",
       "      <th>_c0</th>\n",
       "      <th>_c1</th>\n",
       "    </tr>\n",
       "  </thead>\n",
       "  <tbody>\n",
       "    <tr>\n",
       "      <th>0</th>\n",
       "      <td>listing_id</td>\n",
       "      <td>date</td>\n",
       "    </tr>\n",
       "    <tr>\n",
       "      <th>1</th>\n",
       "      <td>696037</td>\n",
       "      <td>2012-10-31</td>\n",
       "    </tr>\n",
       "    <tr>\n",
       "      <th>2</th>\n",
       "      <td>44616</td>\n",
       "      <td>2011-11-09</td>\n",
       "    </tr>\n",
       "    <tr>\n",
       "      <th>3</th>\n",
       "      <td>44616</td>\n",
       "      <td>2012-08-16</td>\n",
       "    </tr>\n",
       "    <tr>\n",
       "      <th>4</th>\n",
       "      <td>44616</td>\n",
       "      <td>2012-12-28</td>\n",
       "    </tr>\n",
       "  </tbody>\n",
       "</table>\n",
       "</div>"
      ],
      "text/plain": [
       "          _c0         _c1\n",
       "0  listing_id        date\n",
       "1      696037  2012-10-31\n",
       "2       44616  2011-11-09\n",
       "3       44616  2012-08-16\n",
       "4       44616  2012-12-28"
      ]
     },
     "execution_count": 24,
     "metadata": {},
     "output_type": "execute_result"
    }
   ],
   "source": [
    "reviews_df.limit(5).toPandas()"
   ]
  },
  {
   "cell_type": "code",
   "execution_count": 25,
   "metadata": {},
   "outputs": [],
   "source": [
    "# define schema \n",
    "reviewsSchema = R([\n",
    "    Fld(\"listing_id\", Int()),\n",
    "    Fld(\"date\",       Date()),\n",
    "])"
   ]
  },
  {
   "cell_type": "code",
   "execution_count": 26,
   "metadata": {},
   "outputs": [],
   "source": [
    "reviews_df = spark.read.option(\"header\",\"true\").format(\"csv\").schema(reviewsSchema).load(reviews_csv)"
   ]
  },
  {
   "cell_type": "code",
   "execution_count": 27,
   "metadata": {},
   "outputs": [
    {
     "name": "stdout",
     "output_type": "stream",
     "text": [
      "root\n",
      " |-- listing_id: integer (nullable = true)\n",
      " |-- date: date (nullable = true)\n",
      "\n",
      ">> WRITE OUT FOR DATA DICTIONARY...\n"
     ]
    }
   ],
   "source": [
    "# DEBUG \n",
    "# ___Schema given\n",
    "reviews_df.printSchema()\n",
    "print(\">> WRITE OUT FOR DATA DICTIONARY...\")"
   ]
  },
  {
   "cell_type": "code",
   "execution_count": 28,
   "metadata": {},
   "outputs": [
    {
     "data": {
      "text/html": [
       "<div>\n",
       "<style scoped>\n",
       "    .dataframe tbody tr th:only-of-type {\n",
       "        vertical-align: middle;\n",
       "    }\n",
       "\n",
       "    .dataframe tbody tr th {\n",
       "        vertical-align: top;\n",
       "    }\n",
       "\n",
       "    .dataframe thead th {\n",
       "        text-align: right;\n",
       "    }\n",
       "</style>\n",
       "<table border=\"1\" class=\"dataframe\">\n",
       "  <thead>\n",
       "    <tr style=\"text-align: right;\">\n",
       "      <th></th>\n",
       "      <th>listing_id</th>\n",
       "      <th>date</th>\n",
       "    </tr>\n",
       "  </thead>\n",
       "  <tbody>\n",
       "    <tr>\n",
       "      <th>0</th>\n",
       "      <td>696037</td>\n",
       "      <td>2012-10-31</td>\n",
       "    </tr>\n",
       "    <tr>\n",
       "      <th>1</th>\n",
       "      <td>44616</td>\n",
       "      <td>2011-11-09</td>\n",
       "    </tr>\n",
       "    <tr>\n",
       "      <th>2</th>\n",
       "      <td>44616</td>\n",
       "      <td>2012-08-16</td>\n",
       "    </tr>\n",
       "    <tr>\n",
       "      <th>3</th>\n",
       "      <td>44616</td>\n",
       "      <td>2012-12-28</td>\n",
       "    </tr>\n",
       "    <tr>\n",
       "      <th>4</th>\n",
       "      <td>44616</td>\n",
       "      <td>2013-01-04</td>\n",
       "    </tr>\n",
       "  </tbody>\n",
       "</table>\n",
       "</div>"
      ],
      "text/plain": [
       "   listing_id        date\n",
       "0      696037  2012-10-31\n",
       "1       44616  2011-11-09\n",
       "2       44616  2012-08-16\n",
       "3       44616  2012-12-28\n",
       "4       44616  2013-01-04"
      ]
     },
     "execution_count": 28,
     "metadata": {},
     "output_type": "execute_result"
    }
   ],
   "source": [
    "reviews_df.limit(5).toPandas()"
   ]
  },
  {
   "cell_type": "code",
   "execution_count": null,
   "metadata": {},
   "outputs": [],
   "source": []
  },
  {
   "cell_type": "markdown",
   "metadata": {},
   "source": [
    "#### Exploring \"reviews_detailed.csv\""
   ]
  },
  {
   "cell_type": "code",
   "execution_count": 31,
   "metadata": {},
   "outputs": [
    {
     "name": "stdout",
     "output_type": "stream",
     "text": [
      "root\n",
      " |-- _c0: string (nullable = true)\n",
      " |-- _c1: string (nullable = true)\n",
      " |-- _c2: string (nullable = true)\n",
      " |-- _c3: string (nullable = true)\n",
      " |-- _c4: string (nullable = true)\n",
      " |-- _c5: string (nullable = true)\n",
      "\n"
     ]
    }
   ],
   "source": [
    "rev_det_df.printSchema()"
   ]
  },
  {
   "cell_type": "code",
   "execution_count": 32,
   "metadata": {},
   "outputs": [
    {
     "data": {
      "text/plain": [
       "Row(_c0='listing_id', _c1='id', _c2='date', _c3='reviewer_id', _c4='reviewer_name', _c5='comments')"
      ]
     },
     "execution_count": 32,
     "metadata": {},
     "output_type": "execute_result"
    }
   ],
   "source": [
    "rev_det_df.head()"
   ]
  },
  {
   "cell_type": "code",
   "execution_count": 33,
   "metadata": {},
   "outputs": [
    {
     "name": "stdout",
     "output_type": "stream",
     "text": [
      ">> [902194] rows read out from CSV file\n"
     ]
    }
   ],
   "source": [
    "print(\">> [\" + str(rev_det_df.count()) + \"] rows read out from CSV file\")"
   ]
  },
  {
   "cell_type": "code",
   "execution_count": 34,
   "metadata": {},
   "outputs": [
    {
     "data": {
      "text/html": [
       "<div>\n",
       "<style scoped>\n",
       "    .dataframe tbody tr th:only-of-type {\n",
       "        vertical-align: middle;\n",
       "    }\n",
       "\n",
       "    .dataframe tbody tr th {\n",
       "        vertical-align: top;\n",
       "    }\n",
       "\n",
       "    .dataframe thead th {\n",
       "        text-align: right;\n",
       "    }\n",
       "</style>\n",
       "<table border=\"1\" class=\"dataframe\">\n",
       "  <thead>\n",
       "    <tr style=\"text-align: right;\">\n",
       "      <th></th>\n",
       "      <th>_c0</th>\n",
       "      <th>_c1</th>\n",
       "      <th>_c2</th>\n",
       "      <th>_c3</th>\n",
       "      <th>_c4</th>\n",
       "      <th>_c5</th>\n",
       "    </tr>\n",
       "  </thead>\n",
       "  <tbody>\n",
       "    <tr>\n",
       "      <th>0</th>\n",
       "      <td>listing_id</td>\n",
       "      <td>id</td>\n",
       "      <td>date</td>\n",
       "      <td>reviewer_id</td>\n",
       "      <td>reviewer_name</td>\n",
       "      <td>comments</td>\n",
       "    </tr>\n",
       "    <tr>\n",
       "      <th>1</th>\n",
       "      <td>44616</td>\n",
       "      <td>706908</td>\n",
       "      <td>2011-11-09</td>\n",
       "      <td>634733</td>\n",
       "      <td>Lindsay</td>\n",
       "      <td>Forget staying in a hotel. Stay at condesa hau...</td>\n",
       "    </tr>\n",
       "    <tr>\n",
       "      <th>2</th>\n",
       "      <td>2056638</td>\n",
       "      <td>9623913</td>\n",
       "      <td>2014-01-03</td>\n",
       "      <td>6743067</td>\n",
       "      <td>Nora Carolina</td>\n",
       "      <td>El sitio es precioso, está muy bien ubicado al...</td>\n",
       "    </tr>\n",
       "    <tr>\n",
       "      <th>3</th>\n",
       "      <td>&lt;br/&gt;Las vías de comunicación son muy buenas</td>\n",
       "      <td>los servicios públicos también son buenos.</td>\n",
       "      <td>None</td>\n",
       "      <td>None</td>\n",
       "      <td>None</td>\n",
       "      <td>None</td>\n",
       "    </tr>\n",
       "    <tr>\n",
       "      <th>4</th>\n",
       "      <td>&lt;br/&gt;Es deseable que el lugar tenga muebles un...</td>\n",
       "      <td>que la cocina esté mejor equipada también</td>\n",
       "      <td>ya que</td>\n",
       "      <td>aunque existen muchos sitios donde comer</td>\n",
       "      <td>elegimos rentar a través de airbnb por la com...</td>\n",
       "      <td>que es lo que ofrecen.</td>\n",
       "    </tr>\n",
       "  </tbody>\n",
       "</table>\n",
       "</div>"
      ],
      "text/plain": [
       "                                                 _c0  \\\n",
       "0                                         listing_id   \n",
       "1                                              44616   \n",
       "2                                            2056638   \n",
       "3       <br/>Las vías de comunicación son muy buenas   \n",
       "4  <br/>Es deseable que el lugar tenga muebles un...   \n",
       "\n",
       "                                           _c1         _c2  \\\n",
       "0                                           id        date   \n",
       "1                                       706908  2011-11-09   \n",
       "2                                      9623913  2014-01-03   \n",
       "3   los servicios públicos también son buenos.        None   \n",
       "4    que la cocina esté mejor equipada también      ya que   \n",
       "\n",
       "                                         _c3  \\\n",
       "0                                reviewer_id   \n",
       "1                                     634733   \n",
       "2                                    6743067   \n",
       "3                                       None   \n",
       "4   aunque existen muchos sitios donde comer   \n",
       "\n",
       "                                                 _c4  \\\n",
       "0                                      reviewer_name   \n",
       "1                                            Lindsay   \n",
       "2                                      Nora Carolina   \n",
       "3                                               None   \n",
       "4   elegimos rentar a través de airbnb por la com...   \n",
       "\n",
       "                                                 _c5  \n",
       "0                                           comments  \n",
       "1  Forget staying in a hotel. Stay at condesa hau...  \n",
       "2  El sitio es precioso, está muy bien ubicado al...  \n",
       "3                                               None  \n",
       "4                            que es lo que ofrecen.   "
      ]
     },
     "execution_count": 34,
     "metadata": {},
     "output_type": "execute_result"
    }
   ],
   "source": [
    "rev_det_df.limit(5).toPandas()"
   ]
  },
  {
   "cell_type": "code",
   "execution_count": 66,
   "metadata": {},
   "outputs": [],
   "source": [
    "# define schema \n",
    "rev_detSchema = R([\n",
    "    Fld(\"listing_id\",    Int()),\n",
    "    Fld(\"id\",            Int()),\n",
    "    Fld(\"date\",          Date()),\n",
    "    Fld(\"reviewer_id\",   Int()),\n",
    "    Fld(\"reviewer_name\", Str()),\n",
    "    Fld(\"comments\",      Str()),\n",
    "])"
   ]
  },
  {
   "cell_type": "code",
   "execution_count": 67,
   "metadata": {},
   "outputs": [],
   "source": [
    "rev_det_df = spark.read.format(\"csv\") \\\n",
    "                  .option(\"header\",    True) \\\n",
    "                  .option('quotes',    '\"') \\\n",
    "                  .option(\"delimiter\", ',') \\\n",
    "                  .schema(rev_detSchema) \\\n",
    "                  .load(rev_det_csv)"
   ]
  },
  {
   "cell_type": "code",
   "execution_count": 68,
   "metadata": {},
   "outputs": [
    {
     "name": "stdout",
     "output_type": "stream",
     "text": [
      "root\n",
      " |-- listing_id: integer (nullable = true)\n",
      " |-- id: integer (nullable = true)\n",
      " |-- date: date (nullable = true)\n",
      " |-- reviewer_id: integer (nullable = true)\n",
      " |-- reviewer_name: string (nullable = true)\n",
      " |-- comments: string (nullable = true)\n",
      "\n",
      ">> WRITE OUT FOR DATA DICTIONARY...\n"
     ]
    }
   ],
   "source": [
    "# DEBUG \n",
    "# ___Schema given\n",
    "rev_det_df.printSchema()\n",
    "print(\">> WRITE OUT FOR DATA DICTIONARY...\")"
   ]
  },
  {
   "cell_type": "code",
   "execution_count": 69,
   "metadata": {},
   "outputs": [
    {
     "data": {
      "text/html": [
       "<div>\n",
       "<style scoped>\n",
       "    .dataframe tbody tr th:only-of-type {\n",
       "        vertical-align: middle;\n",
       "    }\n",
       "\n",
       "    .dataframe tbody tr th {\n",
       "        vertical-align: top;\n",
       "    }\n",
       "\n",
       "    .dataframe thead th {\n",
       "        text-align: right;\n",
       "    }\n",
       "</style>\n",
       "<table border=\"1\" class=\"dataframe\">\n",
       "  <thead>\n",
       "    <tr style=\"text-align: right;\">\n",
       "      <th></th>\n",
       "      <th>listing_id</th>\n",
       "      <th>id</th>\n",
       "      <th>date</th>\n",
       "      <th>reviewer_id</th>\n",
       "      <th>reviewer_name</th>\n",
       "      <th>comments</th>\n",
       "    </tr>\n",
       "  </thead>\n",
       "  <tbody>\n",
       "    <tr>\n",
       "      <th>0</th>\n",
       "      <td>44616.0</td>\n",
       "      <td>706908.0</td>\n",
       "      <td>2011-11-09</td>\n",
       "      <td>634733.0</td>\n",
       "      <td>Lindsay</td>\n",
       "      <td>Forget staying in a hotel. Stay at condesa hau...</td>\n",
       "    </tr>\n",
       "    <tr>\n",
       "      <th>1</th>\n",
       "      <td>2056638.0</td>\n",
       "      <td>9623913.0</td>\n",
       "      <td>2014-01-03</td>\n",
       "      <td>6743067.0</td>\n",
       "      <td>Nora Carolina</td>\n",
       "      <td>El sitio es precioso, está muy bien ubicado al...</td>\n",
       "    </tr>\n",
       "    <tr>\n",
       "      <th>2</th>\n",
       "      <td>NaN</td>\n",
       "      <td>NaN</td>\n",
       "      <td>None</td>\n",
       "      <td>NaN</td>\n",
       "      <td>None</td>\n",
       "      <td>None</td>\n",
       "    </tr>\n",
       "    <tr>\n",
       "      <th>3</th>\n",
       "      <td>NaN</td>\n",
       "      <td>NaN</td>\n",
       "      <td>None</td>\n",
       "      <td>NaN</td>\n",
       "      <td>None</td>\n",
       "      <td>None</td>\n",
       "    </tr>\n",
       "    <tr>\n",
       "      <th>4</th>\n",
       "      <td>NaN</td>\n",
       "      <td>NaN</td>\n",
       "      <td>None</td>\n",
       "      <td>NaN</td>\n",
       "      <td>None</td>\n",
       "      <td>None</td>\n",
       "    </tr>\n",
       "  </tbody>\n",
       "</table>\n",
       "</div>"
      ],
      "text/plain": [
       "   listing_id         id        date  reviewer_id  reviewer_name  \\\n",
       "0     44616.0   706908.0  2011-11-09     634733.0        Lindsay   \n",
       "1   2056638.0  9623913.0  2014-01-03    6743067.0  Nora Carolina   \n",
       "2         NaN        NaN        None          NaN           None   \n",
       "3         NaN        NaN        None          NaN           None   \n",
       "4         NaN        NaN        None          NaN           None   \n",
       "\n",
       "                                            comments  \n",
       "0  Forget staying in a hotel. Stay at condesa hau...  \n",
       "1  El sitio es precioso, está muy bien ubicado al...  \n",
       "2                                               None  \n",
       "3                                               None  \n",
       "4                                               None  "
      ]
     },
     "execution_count": 69,
     "metadata": {},
     "output_type": "execute_result"
    }
   ],
   "source": [
    "rev_det_df.limit(5).toPandas()"
   ]
  },
  {
   "cell_type": "markdown",
   "metadata": {},
   "source": [
    "<font color=\"red\">FAQ: Why I'm not able to read the other lines? Which sign disturbs?>/font>"
   ]
  },
  {
   "cell_type": "markdown",
   "metadata": {},
   "source": [
    "**REFERENCE**  \n",
    "\n",
    "![reviews_detailed.csv looking inside](reviews_detailed.csv-viewing-data.png)\n",
    "_Image: [reviews_detailed.csv-viewing-data.png] Searching for disturbing signs_"
   ]
  },
  {
   "cell_type": "code",
   "execution_count": null,
   "metadata": {},
   "outputs": [],
   "source": []
  },
  {
   "cell_type": "markdown",
   "metadata": {},
   "source": [
    "#### Exploring \"listing_detailed.csv\""
   ]
  },
  {
   "cell_type": "code",
   "execution_count": 71,
   "metadata": {},
   "outputs": [
    {
     "name": "stdout",
     "output_type": "stream",
     "text": [
      "root\n",
      " |-- _c0: string (nullable = true)\n",
      " |-- _c1: string (nullable = true)\n",
      " |-- _c2: string (nullable = true)\n",
      " |-- _c3: string (nullable = true)\n",
      " |-- _c4: string (nullable = true)\n",
      " |-- _c5: string (nullable = true)\n",
      " |-- _c6: string (nullable = true)\n",
      " |-- _c7: string (nullable = true)\n",
      " |-- _c8: string (nullable = true)\n",
      " |-- _c9: string (nullable = true)\n",
      " |-- _c10: string (nullable = true)\n",
      " |-- _c11: string (nullable = true)\n",
      " |-- _c12: string (nullable = true)\n",
      " |-- _c13: string (nullable = true)\n",
      " |-- _c14: string (nullable = true)\n",
      " |-- _c15: string (nullable = true)\n",
      " |-- _c16: string (nullable = true)\n",
      " |-- _c17: string (nullable = true)\n",
      " |-- _c18: string (nullable = true)\n",
      " |-- _c19: string (nullable = true)\n",
      " |-- _c20: string (nullable = true)\n",
      " |-- _c21: string (nullable = true)\n",
      " |-- _c22: string (nullable = true)\n",
      " |-- _c23: string (nullable = true)\n",
      " |-- _c24: string (nullable = true)\n",
      " |-- _c25: string (nullable = true)\n",
      " |-- _c26: string (nullable = true)\n",
      " |-- _c27: string (nullable = true)\n",
      " |-- _c28: string (nullable = true)\n",
      " |-- _c29: string (nullable = true)\n",
      " |-- _c30: string (nullable = true)\n",
      " |-- _c31: string (nullable = true)\n",
      " |-- _c32: string (nullable = true)\n",
      " |-- _c33: string (nullable = true)\n",
      " |-- _c34: string (nullable = true)\n",
      " |-- _c35: string (nullable = true)\n",
      " |-- _c36: string (nullable = true)\n",
      " |-- _c37: string (nullable = true)\n",
      " |-- _c38: string (nullable = true)\n",
      " |-- _c39: string (nullable = true)\n",
      " |-- _c40: string (nullable = true)\n",
      " |-- _c41: string (nullable = true)\n",
      " |-- _c42: string (nullable = true)\n",
      " |-- _c43: string (nullable = true)\n",
      " |-- _c44: string (nullable = true)\n",
      " |-- _c45: string (nullable = true)\n",
      " |-- _c46: string (nullable = true)\n",
      " |-- _c47: string (nullable = true)\n",
      " |-- _c48: string (nullable = true)\n",
      " |-- _c49: string (nullable = true)\n",
      " |-- _c50: string (nullable = true)\n",
      " |-- _c51: string (nullable = true)\n",
      " |-- _c52: string (nullable = true)\n",
      " |-- _c53: string (nullable = true)\n",
      " |-- _c54: string (nullable = true)\n",
      " |-- _c55: string (nullable = true)\n",
      " |-- _c56: string (nullable = true)\n",
      " |-- _c57: string (nullable = true)\n",
      " |-- _c58: string (nullable = true)\n",
      " |-- _c59: string (nullable = true)\n",
      " |-- _c60: string (nullable = true)\n",
      " |-- _c61: string (nullable = true)\n",
      " |-- _c62: string (nullable = true)\n",
      " |-- _c63: string (nullable = true)\n",
      " |-- _c64: string (nullable = true)\n",
      " |-- _c65: string (nullable = true)\n",
      " |-- _c66: string (nullable = true)\n",
      " |-- _c67: string (nullable = true)\n",
      " |-- _c68: string (nullable = true)\n",
      " |-- _c69: string (nullable = true)\n",
      " |-- _c70: string (nullable = true)\n",
      " |-- _c71: string (nullable = true)\n",
      " |-- _c72: string (nullable = true)\n",
      " |-- _c73: string (nullable = true)\n",
      " |-- _c74: string (nullable = true)\n",
      "\n"
     ]
    }
   ],
   "source": [
    "list_det_df.printSchema()"
   ]
  },
  {
   "cell_type": "code",
   "execution_count": 72,
   "metadata": {},
   "outputs": [
    {
     "data": {
      "text/plain": [
       "Row(_c0='id', _c1='listing_url', _c2='scrape_id', _c3='last_scraped', _c4='source', _c5='name', _c6='description', _c7='neighborhood_overview', _c8='picture_url', _c9='host_id', _c10='host_url', _c11='host_name', _c12='host_since', _c13='host_location', _c14='host_about', _c15='host_response_time', _c16='host_response_rate', _c17='host_acceptance_rate', _c18='host_is_superhost', _c19='host_thumbnail_url', _c20='host_picture_url', _c21='host_neighbourhood', _c22='host_listings_count', _c23='host_total_listings_count', _c24='host_verifications', _c25='host_has_profile_pic', _c26='host_identity_verified', _c27='neighbourhood', _c28='neighbourhood_cleansed', _c29='neighbourhood_group_cleansed', _c30='latitude', _c31='longitude', _c32='property_type', _c33='room_type', _c34='accommodates', _c35='bathrooms', _c36='bathrooms_text', _c37='bedrooms', _c38='beds', _c39='amenities', _c40='price', _c41='minimum_nights', _c42='maximum_nights', _c43='minimum_minimum_nights', _c44='maximum_minimum_nights', _c45='minimum_maximum_nights', _c46='maximum_maximum_nights', _c47='minimum_nights_avg_ntm', _c48='maximum_nights_avg_ntm', _c49='calendar_updated', _c50='has_availability', _c51='availability_30', _c52='availability_60', _c53='availability_90', _c54='availability_365', _c55='calendar_last_scraped', _c56='number_of_reviews', _c57='number_of_reviews_ltm', _c58='number_of_reviews_l30d', _c59='first_review', _c60='last_review', _c61='review_scores_rating', _c62='review_scores_accuracy', _c63='review_scores_cleanliness', _c64='review_scores_checkin', _c65='review_scores_communication', _c66='review_scores_location', _c67='review_scores_value', _c68='license', _c69='instant_bookable', _c70='calculated_host_listings_count', _c71='calculated_host_listings_count_entire_homes', _c72='calculated_host_listings_count_private_rooms', _c73='calculated_host_listings_count_shared_rooms', _c74='reviews_per_month')"
      ]
     },
     "execution_count": 72,
     "metadata": {},
     "output_type": "execute_result"
    }
   ],
   "source": [
    "list_det_df.head()"
   ]
  },
  {
   "cell_type": "code",
   "execution_count": 73,
   "metadata": {},
   "outputs": [
    {
     "name": "stdout",
     "output_type": "stream",
     "text": [
      ">> [42432] rows read out from CSV file\n"
     ]
    }
   ],
   "source": [
    "print(\">> [\" + str(list_det_df.count()) + \"] rows read out from CSV file\")"
   ]
  },
  {
   "cell_type": "code",
   "execution_count": 74,
   "metadata": {},
   "outputs": [
    {
     "data": {
      "text/html": [
       "<div>\n",
       "<style scoped>\n",
       "    .dataframe tbody tr th:only-of-type {\n",
       "        vertical-align: middle;\n",
       "    }\n",
       "\n",
       "    .dataframe tbody tr th {\n",
       "        vertical-align: top;\n",
       "    }\n",
       "\n",
       "    .dataframe thead th {\n",
       "        text-align: right;\n",
       "    }\n",
       "</style>\n",
       "<table border=\"1\" class=\"dataframe\">\n",
       "  <thead>\n",
       "    <tr style=\"text-align: right;\">\n",
       "      <th></th>\n",
       "      <th>_c0</th>\n",
       "      <th>_c1</th>\n",
       "      <th>_c2</th>\n",
       "      <th>_c3</th>\n",
       "      <th>_c4</th>\n",
       "      <th>_c5</th>\n",
       "      <th>_c6</th>\n",
       "      <th>_c7</th>\n",
       "      <th>_c8</th>\n",
       "      <th>_c9</th>\n",
       "      <th>...</th>\n",
       "      <th>_c65</th>\n",
       "      <th>_c66</th>\n",
       "      <th>_c67</th>\n",
       "      <th>_c68</th>\n",
       "      <th>_c69</th>\n",
       "      <th>_c70</th>\n",
       "      <th>_c71</th>\n",
       "      <th>_c72</th>\n",
       "      <th>_c73</th>\n",
       "      <th>_c74</th>\n",
       "    </tr>\n",
       "  </thead>\n",
       "  <tbody>\n",
       "    <tr>\n",
       "      <th>0</th>\n",
       "      <td>id</td>\n",
       "      <td>listing_url</td>\n",
       "      <td>scrape_id</td>\n",
       "      <td>last_scraped</td>\n",
       "      <td>source</td>\n",
       "      <td>name</td>\n",
       "      <td>description</td>\n",
       "      <td>neighborhood_overview</td>\n",
       "      <td>picture_url</td>\n",
       "      <td>host_id</td>\n",
       "      <td>...</td>\n",
       "      <td>review_scores_communication</td>\n",
       "      <td>review_scores_location</td>\n",
       "      <td>review_scores_value</td>\n",
       "      <td>license</td>\n",
       "      <td>instant_bookable</td>\n",
       "      <td>calculated_host_listings_count</td>\n",
       "      <td>calculated_host_listings_count_entire_homes</td>\n",
       "      <td>calculated_host_listings_count_private_rooms</td>\n",
       "      <td>calculated_host_listings_count_shared_rooms</td>\n",
       "      <td>reviews_per_month</td>\n",
       "    </tr>\n",
       "    <tr>\n",
       "      <th>1</th>\n",
       "      <td>2056638</td>\n",
       "      <td>https://www.airbnb.com/rooms/2056638</td>\n",
       "      <td>20230329041210</td>\n",
       "      <td>2023-03-30</td>\n",
       "      <td>city scrape</td>\n",
       "      <td>Amplio y luminoso loft en Coyoacán</td>\n",
       "      <td>Cómodo loft de dos pisos magníficamente ubicad...</td>\n",
       "      <td>None</td>\n",
       "      <td>https://a0.muscache.com/pictures/28353712/4379...</td>\n",
       "      <td>10531228</td>\n",
       "      <td>...</td>\n",
       "      <td>2014-01-03</td>\n",
       "      <td>2018-06-24</td>\n",
       "      <td>4.95</td>\n",
       "      <td>4.71</td>\n",
       "      <td>4.95</td>\n",
       "      <td>5.0</td>\n",
       "      <td>4.95</td>\n",
       "      <td>5.0</td>\n",
       "      <td>4.86</td>\n",
       "      <td>None</td>\n",
       "    </tr>\n",
       "    <tr>\n",
       "      <th>2</th>\n",
       "      <td>2072354</td>\n",
       "      <td>https://www.airbnb.com/rooms/2072354</td>\n",
       "      <td>20230329041210</td>\n",
       "      <td>2023-03-30</td>\n",
       "      <td>city scrape</td>\n",
       "      <td>Coyoacan Historic Studio Apartment</td>\n",
       "      <td>This studio flat is adjacent to the owner's ho...</td>\n",
       "      <td>Located in Coyoacan, in a quiet neighborhood w...</td>\n",
       "      <td>https://a0.muscache.com/pictures/369f3371-593a...</td>\n",
       "      <td>16840050</td>\n",
       "      <td>...</td>\n",
       "      <td>\"\"Clothing storage: closet\"\"</td>\n",
       "      <td>\"\"Body soap\"\"]\"</td>\n",
       "      <td>$830.00</td>\n",
       "      <td>3</td>\n",
       "      <td>1125</td>\n",
       "      <td>3</td>\n",
       "      <td>3</td>\n",
       "      <td>1125</td>\n",
       "      <td>1125</td>\n",
       "      <td>3.0</td>\n",
       "    </tr>\n",
       "    <tr>\n",
       "      <th>3</th>\n",
       "      <td>696037</td>\n",
       "      <td>https://www.airbnb.com/rooms/696037</td>\n",
       "      <td>20230329041210</td>\n",
       "      <td>2023-03-29</td>\n",
       "      <td>city scrape</td>\n",
       "      <td>3 Bedrooms, 2 blocks from Polanco - ALL RENOVA...</td>\n",
       "      <td>Beautifully decorated 3 bedroom apartment, it ...</td>\n",
       "      <td>This area is called Nuevo Polanco, it has bein...</td>\n",
       "      <td>https://a0.muscache.com/pictures/10960397/67b2...</td>\n",
       "      <td>3531879</td>\n",
       "      <td>...</td>\n",
       "      <td>None</td>\n",
       "      <td>None</td>\n",
       "      <td>None</td>\n",
       "      <td>None</td>\n",
       "      <td>None</td>\n",
       "      <td>None</td>\n",
       "      <td>None</td>\n",
       "      <td>None</td>\n",
       "      <td>None</td>\n",
       "      <td>None</td>\n",
       "    </tr>\n",
       "    <tr>\n",
       "      <th>4</th>\n",
       "      <td>I love Mexico City</td>\n",
       "      <td>and I know every single thing to do and see</td>\n",
       "      <td>specially historical places and museums. More...</td>\n",
       "      <td>within an hour</td>\n",
       "      <td>100%</td>\n",
       "      <td>90%</td>\n",
       "      <td>t</td>\n",
       "      <td>https://a0.muscache.com/im/users/3531879/profi...</td>\n",
       "      <td>https://a0.muscache.com/im/users/3531879/profi...</td>\n",
       "      <td>Centro Histórico</td>\n",
       "      <td>...</td>\n",
       "      <td>\"\"Dryer\"\"</td>\n",
       "      <td>\"\"Clothing storage: closet\"\"</td>\n",
       "      <td>\"\"Shared indoor pool - heated\"\"</td>\n",
       "      <td>\"\"Shampoo\"\"]\"</td>\n",
       "      <td>$1,469.00</td>\n",
       "      <td>24</td>\n",
       "      <td>1125</td>\n",
       "      <td>24</td>\n",
       "      <td>24</td>\n",
       "      <td>1125</td>\n",
       "    </tr>\n",
       "  </tbody>\n",
       "</table>\n",
       "<p>5 rows × 75 columns</p>\n",
       "</div>"
      ],
      "text/plain": [
       "                  _c0                                           _c1  \\\n",
       "0                  id                                   listing_url   \n",
       "1             2056638          https://www.airbnb.com/rooms/2056638   \n",
       "2             2072354          https://www.airbnb.com/rooms/2072354   \n",
       "3              696037           https://www.airbnb.com/rooms/696037   \n",
       "4  I love Mexico City   and I know every single thing to do and see   \n",
       "\n",
       "                                                 _c2             _c3  \\\n",
       "0                                          scrape_id    last_scraped   \n",
       "1                                     20230329041210      2023-03-30   \n",
       "2                                     20230329041210      2023-03-30   \n",
       "3                                     20230329041210      2023-03-29   \n",
       "4   specially historical places and museums. More...  within an hour   \n",
       "\n",
       "           _c4                                                _c5  \\\n",
       "0       source                                               name   \n",
       "1  city scrape                 Amplio y luminoso loft en Coyoacán   \n",
       "2  city scrape                 Coyoacan Historic Studio Apartment   \n",
       "3  city scrape  3 Bedrooms, 2 blocks from Polanco - ALL RENOVA...   \n",
       "4         100%                                                90%   \n",
       "\n",
       "                                                 _c6  \\\n",
       "0                                        description   \n",
       "1  Cómodo loft de dos pisos magníficamente ubicad...   \n",
       "2  This studio flat is adjacent to the owner's ho...   \n",
       "3  Beautifully decorated 3 bedroom apartment, it ...   \n",
       "4                                                  t   \n",
       "\n",
       "                                                 _c7  \\\n",
       "0                              neighborhood_overview   \n",
       "1                                               None   \n",
       "2  Located in Coyoacan, in a quiet neighborhood w...   \n",
       "3  This area is called Nuevo Polanco, it has bein...   \n",
       "4  https://a0.muscache.com/im/users/3531879/profi...   \n",
       "\n",
       "                                                 _c8               _c9  \\\n",
       "0                                        picture_url           host_id   \n",
       "1  https://a0.muscache.com/pictures/28353712/4379...          10531228   \n",
       "2  https://a0.muscache.com/pictures/369f3371-593a...          16840050   \n",
       "3  https://a0.muscache.com/pictures/10960397/67b2...           3531879   \n",
       "4  https://a0.muscache.com/im/users/3531879/profi...  Centro Histórico   \n",
       "\n",
       "         ...                                   _c65  \\\n",
       "0        ...            review_scores_communication   \n",
       "1        ...                             2014-01-03   \n",
       "2        ...           \"\"Clothing storage: closet\"\"   \n",
       "3        ...                                   None   \n",
       "4        ...                              \"\"Dryer\"\"   \n",
       "\n",
       "                            _c66                              _c67  \\\n",
       "0         review_scores_location               review_scores_value   \n",
       "1                     2018-06-24                              4.95   \n",
       "2                \"\"Body soap\"\"]\"                           $830.00   \n",
       "3                           None                              None   \n",
       "4   \"\"Clothing storage: closet\"\"   \"\"Shared indoor pool - heated\"\"   \n",
       "\n",
       "             _c68              _c69                            _c70  \\\n",
       "0         license  instant_bookable  calculated_host_listings_count   \n",
       "1            4.71              4.95                             5.0   \n",
       "2               3              1125                               3   \n",
       "3            None              None                            None   \n",
       "4   \"\"Shampoo\"\"]\"         $1,469.00                              24   \n",
       "\n",
       "                                          _c71  \\\n",
       "0  calculated_host_listings_count_entire_homes   \n",
       "1                                         4.95   \n",
       "2                                            3   \n",
       "3                                         None   \n",
       "4                                         1125   \n",
       "\n",
       "                                           _c72  \\\n",
       "0  calculated_host_listings_count_private_rooms   \n",
       "1                                           5.0   \n",
       "2                                          1125   \n",
       "3                                          None   \n",
       "4                                            24   \n",
       "\n",
       "                                          _c73               _c74  \n",
       "0  calculated_host_listings_count_shared_rooms  reviews_per_month  \n",
       "1                                         4.86               None  \n",
       "2                                         1125                3.0  \n",
       "3                                         None               None  \n",
       "4                                           24               1125  \n",
       "\n",
       "[5 rows x 75 columns]"
      ]
     },
     "execution_count": 74,
     "metadata": {},
     "output_type": "execute_result"
    }
   ],
   "source": [
    "list_det_df.limit(5).toPandas()"
   ]
  },
  {
   "cell_type": "code",
   "execution_count": 76,
   "metadata": {},
   "outputs": [],
   "source": [
    "# define schema from only relevant columns - already here cleaning data \n",
    "list_detSchema = R([\n",
    "    Fld(\"id\",                   Int()),\n",
    "    Fld(\"name\",                 Str()),\n",
    "    Fld(\"description\",          Str()),\n",
    "    Fld(\"host_id\",              Int()),\n",
    "    Fld(\"host_name\",            Str()),\n",
    "    Fld(\"host_since\",           Date()),\n",
    "    Fld(\"source\",               Str()),\n",
    "    Fld(\"latitude\",             Flt()),\n",
    "    Fld(\"longitude\",            Flt()),\n",
    "    Fld(\"price\",                Flt()),\n",
    "    Fld(\"review_scores_rating\", Int()),\n",
    "    Fld(\"reviews_per_month\",    Flt()),\n",
    "    Fld(\"roomtype\",             Str()),\n",
    "    Fld(\"accommodates\",         Int()),\n",
    "    Fld(\"bathrooms\",            Int()),\n",
    "    Fld(\"bedrooms\",             Int()),\n",
    "    Fld(\"beds\",                 Int()),\n",
    "])"
   ]
  },
  {
   "cell_type": "code",
   "execution_count": 77,
   "metadata": {},
   "outputs": [],
   "source": [
    "list_det_df = spark.read.option(\"header\",\"true\").format(\"csv\").schema(list_detSchema).load(list_det_csv)"
   ]
  },
  {
   "cell_type": "code",
   "execution_count": 78,
   "metadata": {},
   "outputs": [
    {
     "name": "stdout",
     "output_type": "stream",
     "text": [
      "root\n",
      " |-- id: integer (nullable = true)\n",
      " |-- name: string (nullable = true)\n",
      " |-- description: string (nullable = true)\n",
      " |-- host_id: integer (nullable = true)\n",
      " |-- host_name: string (nullable = true)\n",
      " |-- host_since: date (nullable = true)\n",
      " |-- source: string (nullable = true)\n",
      " |-- latitude: float (nullable = true)\n",
      " |-- longitude: float (nullable = true)\n",
      " |-- price: float (nullable = true)\n",
      " |-- review_scores_rating: integer (nullable = true)\n",
      " |-- reviews_per_month: float (nullable = true)\n",
      " |-- roomtype: string (nullable = true)\n",
      " |-- accommodates: integer (nullable = true)\n",
      " |-- bathrooms: integer (nullable = true)\n",
      " |-- bedrooms: integer (nullable = true)\n",
      " |-- beds: integer (nullable = true)\n",
      "\n",
      ">> WRITE OUT FOR DATA DICTIONARY...\n"
     ]
    }
   ],
   "source": [
    "# DEBUG \n",
    "# ___Schema given\n",
    "list_det_df.printSchema()\n",
    "print(\">> WRITE OUT FOR DATA DICTIONARY...\")"
   ]
  },
  {
   "cell_type": "code",
   "execution_count": 79,
   "metadata": {},
   "outputs": [
    {
     "data": {
      "text/html": [
       "<div>\n",
       "<style scoped>\n",
       "    .dataframe tbody tr th:only-of-type {\n",
       "        vertical-align: middle;\n",
       "    }\n",
       "\n",
       "    .dataframe tbody tr th {\n",
       "        vertical-align: top;\n",
       "    }\n",
       "\n",
       "    .dataframe thead th {\n",
       "        text-align: right;\n",
       "    }\n",
       "</style>\n",
       "<table border=\"1\" class=\"dataframe\">\n",
       "  <thead>\n",
       "    <tr style=\"text-align: right;\">\n",
       "      <th></th>\n",
       "      <th>id</th>\n",
       "      <th>name</th>\n",
       "      <th>description</th>\n",
       "      <th>host_id</th>\n",
       "      <th>host_name</th>\n",
       "      <th>host_since</th>\n",
       "      <th>source</th>\n",
       "      <th>latitude</th>\n",
       "      <th>longitude</th>\n",
       "      <th>price</th>\n",
       "      <th>review_scores_rating</th>\n",
       "      <th>reviews_per_month</th>\n",
       "      <th>roomtype</th>\n",
       "      <th>accommodates</th>\n",
       "      <th>bathrooms</th>\n",
       "      <th>bedrooms</th>\n",
       "      <th>beds</th>\n",
       "    </tr>\n",
       "  </thead>\n",
       "  <tbody>\n",
       "    <tr>\n",
       "      <th>0</th>\n",
       "      <td>None</td>\n",
       "      <td>None</td>\n",
       "      <td>None</td>\n",
       "      <td>None</td>\n",
       "      <td>None</td>\n",
       "      <td>None</td>\n",
       "      <td>None</td>\n",
       "      <td>NaN</td>\n",
       "      <td>NaN</td>\n",
       "      <td>NaN</td>\n",
       "      <td>None</td>\n",
       "      <td>NaN</td>\n",
       "      <td>None</td>\n",
       "      <td>None</td>\n",
       "      <td>None</td>\n",
       "      <td>None</td>\n",
       "      <td>None</td>\n",
       "    </tr>\n",
       "    <tr>\n",
       "      <th>1</th>\n",
       "      <td>None</td>\n",
       "      <td>None</td>\n",
       "      <td>None</td>\n",
       "      <td>None</td>\n",
       "      <td>None</td>\n",
       "      <td>None</td>\n",
       "      <td>None</td>\n",
       "      <td>NaN</td>\n",
       "      <td>NaN</td>\n",
       "      <td>NaN</td>\n",
       "      <td>None</td>\n",
       "      <td>NaN</td>\n",
       "      <td>None</td>\n",
       "      <td>None</td>\n",
       "      <td>None</td>\n",
       "      <td>None</td>\n",
       "      <td>None</td>\n",
       "    </tr>\n",
       "    <tr>\n",
       "      <th>2</th>\n",
       "      <td>None</td>\n",
       "      <td>None</td>\n",
       "      <td>None</td>\n",
       "      <td>None</td>\n",
       "      <td>None</td>\n",
       "      <td>None</td>\n",
       "      <td>None</td>\n",
       "      <td>NaN</td>\n",
       "      <td>NaN</td>\n",
       "      <td>NaN</td>\n",
       "      <td>None</td>\n",
       "      <td>NaN</td>\n",
       "      <td>None</td>\n",
       "      <td>None</td>\n",
       "      <td>None</td>\n",
       "      <td>None</td>\n",
       "      <td>None</td>\n",
       "    </tr>\n",
       "    <tr>\n",
       "      <th>3</th>\n",
       "      <td>None</td>\n",
       "      <td>None</td>\n",
       "      <td>None</td>\n",
       "      <td>None</td>\n",
       "      <td>None</td>\n",
       "      <td>None</td>\n",
       "      <td>None</td>\n",
       "      <td>NaN</td>\n",
       "      <td>NaN</td>\n",
       "      <td>NaN</td>\n",
       "      <td>None</td>\n",
       "      <td>NaN</td>\n",
       "      <td>None</td>\n",
       "      <td>None</td>\n",
       "      <td>None</td>\n",
       "      <td>None</td>\n",
       "      <td>None</td>\n",
       "    </tr>\n",
       "    <tr>\n",
       "      <th>4</th>\n",
       "      <td>None</td>\n",
       "      <td>None</td>\n",
       "      <td>None</td>\n",
       "      <td>None</td>\n",
       "      <td>None</td>\n",
       "      <td>None</td>\n",
       "      <td>None</td>\n",
       "      <td>NaN</td>\n",
       "      <td>NaN</td>\n",
       "      <td>NaN</td>\n",
       "      <td>None</td>\n",
       "      <td>NaN</td>\n",
       "      <td>None</td>\n",
       "      <td>None</td>\n",
       "      <td>None</td>\n",
       "      <td>None</td>\n",
       "      <td>None</td>\n",
       "    </tr>\n",
       "  </tbody>\n",
       "</table>\n",
       "</div>"
      ],
      "text/plain": [
       "     id  name description host_id host_name host_since source  latitude  \\\n",
       "0  None  None        None    None      None       None   None       NaN   \n",
       "1  None  None        None    None      None       None   None       NaN   \n",
       "2  None  None        None    None      None       None   None       NaN   \n",
       "3  None  None        None    None      None       None   None       NaN   \n",
       "4  None  None        None    None      None       None   None       NaN   \n",
       "\n",
       "   longitude  price review_scores_rating  reviews_per_month roomtype  \\\n",
       "0        NaN    NaN                 None                NaN     None   \n",
       "1        NaN    NaN                 None                NaN     None   \n",
       "2        NaN    NaN                 None                NaN     None   \n",
       "3        NaN    NaN                 None                NaN     None   \n",
       "4        NaN    NaN                 None                NaN     None   \n",
       "\n",
       "  accommodates bathrooms bedrooms  beds  \n",
       "0         None      None     None  None  \n",
       "1         None      None     None  None  \n",
       "2         None      None     None  None  \n",
       "3         None      None     None  None  \n",
       "4         None      None     None  None  "
      ]
     },
     "execution_count": 79,
     "metadata": {},
     "output_type": "execute_result"
    }
   ],
   "source": [
    "list_det_df.limit(5).toPandas()"
   ]
  },
  {
   "cell_type": "markdown",
   "metadata": {},
   "source": [
    "<font color=\"red\">FAQ: Why I'm not able to read the other lines? Which sign disturbs?>/font>"
   ]
  },
  {
   "cell_type": "markdown",
   "metadata": {},
   "source": [
    "**REFERENCE**  \n",
    "\n",
    "![listing_detailed.csv looking inside](listings_detailed.csv-viewing-data.png)\n",
    "_Image: [listings_detailed.csv-viewing-data.png] Searching for disturbing signs_"
   ]
  },
  {
   "cell_type": "code",
   "execution_count": null,
   "metadata": {},
   "outputs": [],
   "source": []
  },
  {
   "cell_type": "code",
   "execution_count": null,
   "metadata": {},
   "outputs": [],
   "source": []
  },
  {
   "cell_type": "code",
   "execution_count": null,
   "metadata": {},
   "outputs": [],
   "source": [
    "# !! volver a executar leyendo con pandas, para ver la opcion de leer \n",
    "# .. \"list_det_fd.count()\" que tan bien estan las columnas llenas.\n",
    "# .. En parte \"0\"!\n",
    "# en ['bed'] posiblemente \"NA\"/\"inf\" - ARGG"
   ]
  },
  {
   "cell_type": "code",
   "execution_count": null,
   "metadata": {},
   "outputs": [],
   "source": [
    "# https://stackoverflow.com/questions/31028815/how-to-unzip-gz-file-using-python\n",
    "#import pandas as pd\n",
    "#import gzip\n",
    "\n",
    "gz_file = input_data + 'listings.csv.gz'\n",
    "\n",
    "with gzip.open(gz_file) as f:\n",
    "    \n",
    "    list_det_fd = pd.read_csv(f)"
   ]
  },
  {
   "cell_type": "code",
   "execution_count": 39,
   "metadata": {},
   "outputs": [
    {
     "data": {
      "text/html": [
       "<div>\n",
       "<style scoped>\n",
       "    .dataframe tbody tr th:only-of-type {\n",
       "        vertical-align: middle;\n",
       "    }\n",
       "\n",
       "    .dataframe tbody tr th {\n",
       "        vertical-align: top;\n",
       "    }\n",
       "\n",
       "    .dataframe thead th {\n",
       "        text-align: right;\n",
       "    }\n",
       "</style>\n",
       "<table border=\"1\" class=\"dataframe\">\n",
       "  <thead>\n",
       "    <tr style=\"text-align: right;\">\n",
       "      <th></th>\n",
       "      <th>id</th>\n",
       "      <th>listing_url</th>\n",
       "      <th>scrape_id</th>\n",
       "      <th>last_scraped</th>\n",
       "      <th>source</th>\n",
       "      <th>name</th>\n",
       "      <th>description</th>\n",
       "      <th>neighborhood_overview</th>\n",
       "      <th>picture_url</th>\n",
       "      <th>host_id</th>\n",
       "      <th>...</th>\n",
       "      <th>review_scores_communication</th>\n",
       "      <th>review_scores_location</th>\n",
       "      <th>review_scores_value</th>\n",
       "      <th>license</th>\n",
       "      <th>instant_bookable</th>\n",
       "      <th>calculated_host_listings_count</th>\n",
       "      <th>calculated_host_listings_count_entire_homes</th>\n",
       "      <th>calculated_host_listings_count_private_rooms</th>\n",
       "      <th>calculated_host_listings_count_shared_rooms</th>\n",
       "      <th>reviews_per_month</th>\n",
       "    </tr>\n",
       "  </thead>\n",
       "  <tbody>\n",
       "    <tr>\n",
       "      <th>0</th>\n",
       "      <td>2056638</td>\n",
       "      <td>https://www.airbnb.com/rooms/2056638</td>\n",
       "      <td>20230329041210</td>\n",
       "      <td>2023-03-30</td>\n",
       "      <td>city scrape</td>\n",
       "      <td>Amplio y luminoso loft en Coyoacán</td>\n",
       "      <td>Cómodo loft de dos pisos magníficamente ubicad...</td>\n",
       "      <td>NaN</td>\n",
       "      <td>https://a0.muscache.com/pictures/28353712/4379...</td>\n",
       "      <td>10531228</td>\n",
       "      <td>...</td>\n",
       "      <td>4.95</td>\n",
       "      <td>5.00</td>\n",
       "      <td>4.86</td>\n",
       "      <td>NaN</td>\n",
       "      <td>f</td>\n",
       "      <td>3</td>\n",
       "      <td>3</td>\n",
       "      <td>0</td>\n",
       "      <td>0</td>\n",
       "      <td>0.19</td>\n",
       "    </tr>\n",
       "    <tr>\n",
       "      <th>1</th>\n",
       "      <td>2072354</td>\n",
       "      <td>https://www.airbnb.com/rooms/2072354</td>\n",
       "      <td>20230329041210</td>\n",
       "      <td>2023-03-30</td>\n",
       "      <td>city scrape</td>\n",
       "      <td>Coyoacan Historic Studio Apartment</td>\n",
       "      <td>This studio flat is adjacent to the owner's ho...</td>\n",
       "      <td>Located in Coyoacan, in a quiet neighborhood w...</td>\n",
       "      <td>https://a0.muscache.com/pictures/369f3371-593a...</td>\n",
       "      <td>16840050</td>\n",
       "      <td>...</td>\n",
       "      <td>5.00</td>\n",
       "      <td>4.95</td>\n",
       "      <td>4.84</td>\n",
       "      <td>NaN</td>\n",
       "      <td>f</td>\n",
       "      <td>2</td>\n",
       "      <td>2</td>\n",
       "      <td>0</td>\n",
       "      <td>0</td>\n",
       "      <td>0.54</td>\n",
       "    </tr>\n",
       "    <tr>\n",
       "      <th>2</th>\n",
       "      <td>696037</td>\n",
       "      <td>https://www.airbnb.com/rooms/696037</td>\n",
       "      <td>20230329041210</td>\n",
       "      <td>2023-03-29</td>\n",
       "      <td>city scrape</td>\n",
       "      <td>3 Bedrooms, 2 blocks from Polanco - ALL RENOVA...</td>\n",
       "      <td>Beautifully decorated 3 bedroom apartment, it ...</td>\n",
       "      <td>This area is called Nuevo Polanco, it has bein...</td>\n",
       "      <td>https://a0.muscache.com/pictures/10960397/67b2...</td>\n",
       "      <td>3531879</td>\n",
       "      <td>...</td>\n",
       "      <td>4.92</td>\n",
       "      <td>4.58</td>\n",
       "      <td>4.71</td>\n",
       "      <td>NaN</td>\n",
       "      <td>f</td>\n",
       "      <td>3</td>\n",
       "      <td>3</td>\n",
       "      <td>0</td>\n",
       "      <td>0</td>\n",
       "      <td>0.31</td>\n",
       "    </tr>\n",
       "    <tr>\n",
       "      <th>3</th>\n",
       "      <td>35797</td>\n",
       "      <td>https://www.airbnb.com/rooms/35797</td>\n",
       "      <td>20230329041210</td>\n",
       "      <td>2023-03-29</td>\n",
       "      <td>city scrape</td>\n",
       "      <td>Villa Dante</td>\n",
       "      <td>Dentro de Villa un estudio de arte con futon, ...</td>\n",
       "      <td>Centro comercial Santa Fe, parque interlomas y...</td>\n",
       "      <td>https://a0.muscache.com/pictures/f395ab78-1185...</td>\n",
       "      <td>153786</td>\n",
       "      <td>...</td>\n",
       "      <td>NaN</td>\n",
       "      <td>NaN</td>\n",
       "      <td>NaN</td>\n",
       "      <td>NaN</td>\n",
       "      <td>f</td>\n",
       "      <td>1</td>\n",
       "      <td>1</td>\n",
       "      <td>0</td>\n",
       "      <td>0</td>\n",
       "      <td>NaN</td>\n",
       "    </tr>\n",
       "    <tr>\n",
       "      <th>4</th>\n",
       "      <td>44616</td>\n",
       "      <td>https://www.airbnb.com/rooms/44616</td>\n",
       "      <td>20230329041210</td>\n",
       "      <td>2023-03-30</td>\n",
       "      <td>city scrape</td>\n",
       "      <td>CONDESA HAUS  B&amp;B</td>\n",
       "      <td>A new concept of hosting in mexico through a b...</td>\n",
       "      <td>NaN</td>\n",
       "      <td>https://a0.muscache.com/pictures/251410/ec75fe...</td>\n",
       "      <td>196253</td>\n",
       "      <td>...</td>\n",
       "      <td>4.78</td>\n",
       "      <td>4.98</td>\n",
       "      <td>4.48</td>\n",
       "      <td>NaN</td>\n",
       "      <td>f</td>\n",
       "      <td>12</td>\n",
       "      <td>3</td>\n",
       "      <td>2</td>\n",
       "      <td>0</td>\n",
       "      <td>0.46</td>\n",
       "    </tr>\n",
       "  </tbody>\n",
       "</table>\n",
       "<p>5 rows × 75 columns</p>\n",
       "</div>"
      ],
      "text/plain": [
       "        id                           listing_url       scrape_id last_scraped  \\\n",
       "0  2056638  https://www.airbnb.com/rooms/2056638  20230329041210   2023-03-30   \n",
       "1  2072354  https://www.airbnb.com/rooms/2072354  20230329041210   2023-03-30   \n",
       "2   696037   https://www.airbnb.com/rooms/696037  20230329041210   2023-03-29   \n",
       "3    35797    https://www.airbnb.com/rooms/35797  20230329041210   2023-03-29   \n",
       "4    44616    https://www.airbnb.com/rooms/44616  20230329041210   2023-03-30   \n",
       "\n",
       "        source                                               name  \\\n",
       "0  city scrape                 Amplio y luminoso loft en Coyoacán   \n",
       "1  city scrape                 Coyoacan Historic Studio Apartment   \n",
       "2  city scrape  3 Bedrooms, 2 blocks from Polanco - ALL RENOVA...   \n",
       "3  city scrape                                        Villa Dante   \n",
       "4  city scrape                                  CONDESA HAUS  B&B   \n",
       "\n",
       "                                         description  \\\n",
       "0  Cómodo loft de dos pisos magníficamente ubicad...   \n",
       "1  This studio flat is adjacent to the owner's ho...   \n",
       "2  Beautifully decorated 3 bedroom apartment, it ...   \n",
       "3  Dentro de Villa un estudio de arte con futon, ...   \n",
       "4  A new concept of hosting in mexico through a b...   \n",
       "\n",
       "                               neighborhood_overview  \\\n",
       "0                                                NaN   \n",
       "1  Located in Coyoacan, in a quiet neighborhood w...   \n",
       "2  This area is called Nuevo Polanco, it has bein...   \n",
       "3  Centro comercial Santa Fe, parque interlomas y...   \n",
       "4                                                NaN   \n",
       "\n",
       "                                         picture_url   host_id  \\\n",
       "0  https://a0.muscache.com/pictures/28353712/4379...  10531228   \n",
       "1  https://a0.muscache.com/pictures/369f3371-593a...  16840050   \n",
       "2  https://a0.muscache.com/pictures/10960397/67b2...   3531879   \n",
       "3  https://a0.muscache.com/pictures/f395ab78-1185...    153786   \n",
       "4  https://a0.muscache.com/pictures/251410/ec75fe...    196253   \n",
       "\n",
       "         ...        review_scores_communication review_scores_location  \\\n",
       "0        ...                               4.95                   5.00   \n",
       "1        ...                               5.00                   4.95   \n",
       "2        ...                               4.92                   4.58   \n",
       "3        ...                                NaN                    NaN   \n",
       "4        ...                               4.78                   4.98   \n",
       "\n",
       "  review_scores_value license instant_bookable calculated_host_listings_count  \\\n",
       "0                4.86     NaN                f                              3   \n",
       "1                4.84     NaN                f                              2   \n",
       "2                4.71     NaN                f                              3   \n",
       "3                 NaN     NaN                f                              1   \n",
       "4                4.48     NaN                f                             12   \n",
       "\n",
       "  calculated_host_listings_count_entire_homes  \\\n",
       "0                                           3   \n",
       "1                                           2   \n",
       "2                                           3   \n",
       "3                                           1   \n",
       "4                                           3   \n",
       "\n",
       "  calculated_host_listings_count_private_rooms  \\\n",
       "0                                            0   \n",
       "1                                            0   \n",
       "2                                            0   \n",
       "3                                            0   \n",
       "4                                            2   \n",
       "\n",
       "  calculated_host_listings_count_shared_rooms reviews_per_month  \n",
       "0                                           0              0.19  \n",
       "1                                           0              0.54  \n",
       "2                                           0              0.31  \n",
       "3                                           0               NaN  \n",
       "4                                           0              0.46  \n",
       "\n",
       "[5 rows x 75 columns]"
      ]
     },
     "execution_count": 39,
     "metadata": {},
     "output_type": "execute_result"
    }
   ],
   "source": [
    "list_det_fd.head()"
   ]
  },
  {
   "cell_type": "code",
   "execution_count": 7,
   "metadata": {},
   "outputs": [
    {
     "data": {
      "text/plain": [
       "id                                              24224\n",
       "listing_url                                     24224\n",
       "scrape_id                                       24224\n",
       "last_scraped                                    24224\n",
       "source                                          24224\n",
       "name                                            24223\n",
       "description                                     23296\n",
       "neighborhood_overview                           15145\n",
       "picture_url                                     24224\n",
       "host_id                                         24224\n",
       "host_url                                        24224\n",
       "host_name                                       24224\n",
       "host_since                                      24224\n",
       "host_location                                   19052\n",
       "host_about                                      13560\n",
       "host_response_time                              21133\n",
       "host_response_rate                              21133\n",
       "host_acceptance_rate                            22181\n",
       "host_is_superhost                               24219\n",
       "host_thumbnail_url                              24224\n",
       "host_picture_url                                24224\n",
       "host_neighbourhood                              11823\n",
       "host_listings_count                             24224\n",
       "host_total_listings_count                       24224\n",
       "host_verifications                              24224\n",
       "host_has_profile_pic                            24224\n",
       "host_identity_verified                          24224\n",
       "neighbourhood                                   15145\n",
       "neighbourhood_cleansed                          24224\n",
       "neighbourhood_group_cleansed                        0\n",
       "                                                ...  \n",
       "minimum_maximum_nights                          24223\n",
       "maximum_maximum_nights                          24223\n",
       "minimum_nights_avg_ntm                          24223\n",
       "maximum_nights_avg_ntm                          24223\n",
       "calendar_updated                                    0\n",
       "has_availability                                24224\n",
       "availability_30                                 24224\n",
       "availability_60                                 24224\n",
       "availability_90                                 24224\n",
       "availability_365                                24224\n",
       "calendar_last_scraped                           24224\n",
       "number_of_reviews                               24224\n",
       "number_of_reviews_ltm                           24224\n",
       "number_of_reviews_l30d                          24224\n",
       "first_review                                    20628\n",
       "last_review                                     20628\n",
       "review_scores_rating                            20628\n",
       "review_scores_accuracy                          20572\n",
       "review_scores_cleanliness                       20573\n",
       "review_scores_checkin                           20572\n",
       "review_scores_communication                     20572\n",
       "review_scores_location                          20571\n",
       "review_scores_value                             20571\n",
       "license                                             0\n",
       "instant_bookable                                24224\n",
       "calculated_host_listings_count                  24224\n",
       "calculated_host_listings_count_entire_homes     24224\n",
       "calculated_host_listings_count_private_rooms    24224\n",
       "calculated_host_listings_count_shared_rooms     24224\n",
       "reviews_per_month                               20628\n",
       "Length: 75, dtype: int64"
      ]
     },
     "execution_count": 7,
     "metadata": {},
     "output_type": "execute_result"
    }
   ],
   "source": [
    "list_det_fd.count()"
   ]
  },
  {
   "cell_type": "code",
   "execution_count": 40,
   "metadata": {},
   "outputs": [
    {
     "ename": "AttributeError",
     "evalue": "'DataFrame' object has no attribute 'show'",
     "output_type": "error",
     "traceback": [
      "\u001b[0;31m---------------------------------------------------------------------------\u001b[0m",
      "\u001b[0;31mAttributeError\u001b[0m                            Traceback (most recent call last)",
      "\u001b[0;32m<ipython-input-40-f01a6e215107>\u001b[0m in \u001b[0;36m<module>\u001b[0;34m()\u001b[0m\n\u001b[0;32m----> 1\u001b[0;31m \u001b[0mlist_det_fd\u001b[0m\u001b[0;34m.\u001b[0m\u001b[0mshow\u001b[0m\u001b[0;34m(\u001b[0m\u001b[0;34m)\u001b[0m\u001b[0;34m\u001b[0m\u001b[0m\n\u001b[0m",
      "\u001b[0;32m/opt/conda/lib/python3.6/site-packages/pandas/core/generic.py\u001b[0m in \u001b[0;36m__getattr__\u001b[0;34m(self, name)\u001b[0m\n\u001b[1;32m   4374\u001b[0m             \u001b[0;32mif\u001b[0m \u001b[0mself\u001b[0m\u001b[0;34m.\u001b[0m\u001b[0m_info_axis\u001b[0m\u001b[0;34m.\u001b[0m\u001b[0m_can_hold_identifiers_and_holds_name\u001b[0m\u001b[0;34m(\u001b[0m\u001b[0mname\u001b[0m\u001b[0;34m)\u001b[0m\u001b[0;34m:\u001b[0m\u001b[0;34m\u001b[0m\u001b[0m\n\u001b[1;32m   4375\u001b[0m                 \u001b[0;32mreturn\u001b[0m \u001b[0mself\u001b[0m\u001b[0;34m[\u001b[0m\u001b[0mname\u001b[0m\u001b[0;34m]\u001b[0m\u001b[0;34m\u001b[0m\u001b[0m\n\u001b[0;32m-> 4376\u001b[0;31m             \u001b[0;32mreturn\u001b[0m \u001b[0mobject\u001b[0m\u001b[0;34m.\u001b[0m\u001b[0m__getattribute__\u001b[0m\u001b[0;34m(\u001b[0m\u001b[0mself\u001b[0m\u001b[0;34m,\u001b[0m \u001b[0mname\u001b[0m\u001b[0;34m)\u001b[0m\u001b[0;34m\u001b[0m\u001b[0m\n\u001b[0m\u001b[1;32m   4377\u001b[0m \u001b[0;34m\u001b[0m\u001b[0m\n\u001b[1;32m   4378\u001b[0m     \u001b[0;32mdef\u001b[0m \u001b[0m__setattr__\u001b[0m\u001b[0;34m(\u001b[0m\u001b[0mself\u001b[0m\u001b[0;34m,\u001b[0m \u001b[0mname\u001b[0m\u001b[0;34m,\u001b[0m \u001b[0mvalue\u001b[0m\u001b[0;34m)\u001b[0m\u001b[0;34m:\u001b[0m\u001b[0;34m\u001b[0m\u001b[0m\n",
      "\u001b[0;31mAttributeError\u001b[0m: 'DataFrame' object has no attribute 'show'"
     ]
    }
   ],
   "source": [
    "list_det_fd.show()"
   ]
  },
  {
   "cell_type": "code",
   "execution_count": null,
   "metadata": {},
   "outputs": [],
   "source": []
  },
  {
   "cell_type": "markdown",
   "metadata": {},
   "source": [
    "### Step 2: Explore and Assess the Data\n",
    "#### Explore the Data \n",
    "Identify data quality issues, like missing values, duplicate data, etc.\n",
    "\n",
    "#### Cleaning Steps\n",
    "Document steps necessary to clean the data"
   ]
  },
  {
   "cell_type": "code",
   "execution_count": null,
   "metadata": {},
   "outputs": [],
   "source": [
    "# Performing cleaning tasks here\n",
    "\n",
    "\n",
    "\n"
   ]
  },
  {
   "cell_type": "markdown",
   "metadata": {},
   "source": [
    "### Step 3: Define the Data Model\n",
    "#### 3.1 Conceptual Data Model\n",
    "Map out the conceptual data model and explain why you chose that model\n",
    "\n",
    "#### 3.2 Mapping Out Data Pipelines\n",
    "List the steps necessary to pipeline the data into the chosen data model"
   ]
  },
  {
   "cell_type": "markdown",
   "metadata": {},
   "source": [
    "### Step 4: Run Pipelines to Model the Data \n",
    "#### 4.1 Create the data model\n",
    "Build the data pipelines to create the data model."
   ]
  },
  {
   "cell_type": "code",
   "execution_count": null,
   "metadata": {},
   "outputs": [],
   "source": [
    "# Write code here"
   ]
  },
  {
   "cell_type": "markdown",
   "metadata": {},
   "source": [
    "#### 4.2 Data Quality Checks\n",
    "Explain the data quality checks you'll perform to ensure the pipeline ran as expected. These could include:\n",
    " * Integrity constraints on the relational database (e.g., unique key, data type, etc.)\n",
    " * Unit tests for the scripts to ensure they are doing the right thing\n",
    " * Source/Count checks to ensure completeness\n",
    " \n",
    "Run Quality Checks"
   ]
  },
  {
   "cell_type": "code",
   "execution_count": null,
   "metadata": {},
   "outputs": [],
   "source": [
    "# Perform quality checks here"
   ]
  },
  {
   "cell_type": "markdown",
   "metadata": {},
   "source": [
    "#### 4.3 Data dictionary \n",
    "Create a data dictionary for your data model. For each field, provide a brief description of what the data is and where it came from. You can include the data dictionary in the notebook or in a separate file."
   ]
  },
  {
   "cell_type": "markdown",
   "metadata": {},
   "source": [
    "Planed overview part of defined Schemas:        - Expand \"Description\" [TODO]"
   ]
  },
  {
   "cell_type": "markdown",
   "metadata": {},
   "source": [
    "`Neighbourhood  \n",
    "++++++++++++++  \n",
    " |-- neighbourhood_group: string (nullable = true)  \n",
    " |-- neighbourhood: string (nullable = true)  \n",
    "`"
   ]
  },
  {
   "cell_type": "markdown",
   "metadata": {},
   "source": [
    "`reviews ( Summary ) NOT Detailed  \n",
    "++++++++  \n",
    " |-- listing_id: integer (nullable = true)  \n",
    " |-- date: date (nullable = true)  \n",
    "`"
   ]
  },
  {
   "cell_type": "markdown",
   "metadata": {},
   "source": [
    "`reviews_detailed  \n",
    "+++++++++++++++++  \n",
    " |-- listing_id: integer (nullable = true)  \n",
    " |-- id: integer (nullable = true)  \n",
    " |-- date: date (nullable = true)  \n",
    " |-- reviewer_id: integer (nullable = true)  \n",
    " |-- reviewer_name: string (nullable = true)  \n",
    " |-- comments: string (nullable = true)  \n",
    "`"
   ]
  },
  {
   "cell_type": "markdown",
   "metadata": {},
   "source": [
    "`calendar  \n",
    "++++++++++  \n",
    " |-- listing_id: integer (nullable = true)  \n",
    " |-- date: date (nullable = true)  \n",
    " |-- available: boolean (nullable = true)  \n",
    " |-- adjusted_price: decimal(10,0) (nullable = true)  \n",
    "`"
   ]
  },
  {
   "cell_type": "markdown",
   "metadata": {},
   "source": [
    "`listings (Summary) - NOT Detailed!  \n",
    "+++++++++  \n",
    " |-- id: integer (nullable = true)  \n",
    " |-- name: string (nullable = true)  \n",
    " |-- host_id: integer (nullable = true)  \n",
    " |-- host_name: string (nullable = true)  \n",
    " |-- neighbourhood_group: string (nullable = true)  \n",
    " |-- neighbourhood: string (nullable = true)  \n",
    " |-- latitude: float (nullable = true)  \n",
    " |-- longitude: float (nullable = true)  \n",
    " |-- room_type: string (nullable = true)  \n",
    " |-- requested_price: integer (nullable = true)  \n",
    " |-- minimum_nights: integer (nullable = true)  \n",
    " |-- number_of_reviews: integer (nullable = true)  \n",
    " |-- last_review: date (nullable = true)  \n",
    " |-- reviews_per_month: float (nullable = true)  \n",
    " |-- calculated_host_listings_count: integer (nullable = true)  \n",
    " |-- availability_365: integer (nullable = true)  \n",
    " |-- number_of_reviews_ltm: integer (nullable = true)  \n",
    " |-- license: integer (nullable = true)  \n",
    "`"
   ]
  },
  {
   "cell_type": "markdown",
   "metadata": {},
   "source": [
    "`listings_detailed  \n",
    "++++++++++++++++++  \n",
    " |-- id: integer (nullable = true)  \n",
    " |-- name: string (nullable = true)  \n",
    " |-- description: string (nullable = true)  \n",
    " |-- host_id: integer (nullable = true)  \n",
    " |-- host_name: string (nullable = true)  \n",
    " |-- host_since: date (nullable = true)  \n",
    " |-- source: string (nullable = true)  \n",
    " |-- latitude: float (nullable = true)  \n",
    " |-- longitude: float (nullable = true)  \n",
    " |-- price: float (nullable = true)  \n",
    " |-- review_scores_rating: integer (nullable = true)  \n",
    " |-- reviews_per_month: float (nullable = true)  \n",
    " |-- roomtype: string (nullable = true)  \n",
    " |-- accommodates: integer (nullable = true)  \n",
    " |-- bathrooms: integer (nullable = true)  \n",
    " |-- bedrooms: integer (nullable = true)  \n",
    " |-- beds: integer (nullable = true)  \n",
    "`"
   ]
  },
  {
   "cell_type": "code",
   "execution_count": null,
   "metadata": {},
   "outputs": [],
   "source": []
  },
  {
   "cell_type": "markdown",
   "metadata": {},
   "source": [
    "#### Step 5: Complete Project Write Up\n",
    "* Clearly state the rationale for the choice of tools and technologies for the project.\n",
    "* Propose how often the data should be updated and why.\n",
    "* Write a description of how you would approach the problem differently under the following scenarios:\n",
    " * The data was increased by 100x.\n",
    " * The data populates a dashboard that must be updated on a daily basis by 7am every day.\n",
    " * The database needed to be accessed by 100+ people."
   ]
  },
  {
   "cell_type": "code",
   "execution_count": null,
   "metadata": {},
   "outputs": [],
   "source": []
  },
  {
   "cell_type": "code",
   "execution_count": null,
   "metadata": {},
   "outputs": [],
   "source": []
  },
  {
   "cell_type": "code",
   "execution_count": null,
   "metadata": {},
   "outputs": [],
   "source": []
  },
  {
   "cell_type": "code",
   "execution_count": null,
   "metadata": {},
   "outputs": [],
   "source": []
  },
  {
   "cell_type": "code",
   "execution_count": null,
   "metadata": {},
   "outputs": [],
   "source": []
  },
  {
   "cell_type": "code",
   "execution_count": null,
   "metadata": {},
   "outputs": [],
   "source": []
  }
 ],
 "metadata": {
  "kernelspec": {
   "display_name": "Python 3",
   "language": "python",
   "name": "python3"
  },
  "language_info": {
   "codemirror_mode": {
    "name": "ipython",
    "version": 3
   },
   "file_extension": ".py",
   "mimetype": "text/x-python",
   "name": "python",
   "nbconvert_exporter": "python",
   "pygments_lexer": "ipython3",
   "version": "3.6.3"
  }
 },
 "nbformat": 4,
 "nbformat_minor": 4
}
